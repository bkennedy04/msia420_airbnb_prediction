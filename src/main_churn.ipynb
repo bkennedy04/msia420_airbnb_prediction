{
 "cells": [
  {
   "cell_type": "markdown",
   "metadata": {},
   "source": [
    "# WSDM - KKBox's Churn Prediction Challenge\n",
    "*Can you predict when subscribers will churn?*\n",
    "\n",
    "* [Kaggle Page](https://www.kaggle.com/c/kkbox-churn-prediction-challenge/data)\n",
    "* [Solution Sharing](https://www.kaggle.com/c/kkbox-churn-prediction-challenge/discussion/46078)"
   ]
  },
  {
   "cell_type": "markdown",
   "metadata": {},
   "source": [
    "**Outline**\n",
    "\n",
    "* [Read Data](#read)\n",
    "* [Exploratory Data Analysis](#eda)\n",
    "* [Feature Creation and Preprocessing](#preprocess)\n",
    "* [Model and Score](#model) \n",
    "* [Predicition](#predict)\n",
    "* [Reference](#reference)"
   ]
  },
  {
   "cell_type": "markdown",
   "metadata": {},
   "source": [
    "---"
   ]
  },
  {
   "cell_type": "code",
   "execution_count": 2,
   "metadata": {
    "collapsed": true
   },
   "outputs": [],
   "source": [
    "%load_ext watermark"
   ]
  },
  {
   "cell_type": "code",
   "execution_count": 3,
   "metadata": {
    "collapsed": true
   },
   "outputs": [],
   "source": [
    "import os\n",
    "import pandas as pd\n",
    "import numpy as np\n",
    "from sklearn.metrics import confusion_matrix"
   ]
  },
  {
   "cell_type": "code",
   "execution_count": 4,
   "metadata": {},
   "outputs": [
    {
     "name": "stdout",
     "output_type": "stream",
     "text": [
      "PredictiveII 2018-02-01 10:16:44 \n",
      "\n",
      "CPython 3.6.3\n",
      "IPython 6.1.0\n",
      "\n",
      "pandas 0.20.3\n",
      "numpy 1.13.3\n",
      "sklearn 0.19.1\n",
      "watermark 1.6.0\n"
     ]
    }
   ],
   "source": [
    "%watermark -a 'PredictiveII' -d -t -v -p pandas,numpy,sklearn,watermark"
   ]
  },
  {
   "cell_type": "markdown",
   "metadata": {},
   "source": [
    "## <a id=\"read\">Read Data</a>"
   ]
  },
  {
   "cell_type": "code",
   "execution_count": 5,
   "metadata": {
    "collapsed": true
   },
   "outputs": [],
   "source": [
    "def data_reader():\n",
    "    \"\"\"\n",
    "    read data into notebook \n",
    "    \"\"\"\n",
    "        \n",
    "    data_dir = os.path.join('..', 'data')\n",
    "\n",
    "    train_path = os.path.join(data_dir, 'train_v2.csv')\n",
    "    transactions_path = os.path.join(data_dir, 'transactions_v2.csv') \n",
    "    user_logs_path = os.path.join(data_dir, 'user_logs_v2.csv') \n",
    "    members_path = os.path.join(data_dir, 'members_v3.csv') \n",
    "    sample_submission_path = os.path.join(data_dir, 'sample_submission_v2.csv')\n",
    "    user_label_201702_path = os.path.join(data_dir, 'kkbox-churn-scala-label/user_label_201702.csv')\n",
    "    user_label_201703_path = os.path.join(data_dir, 'kkbox-churn-scala-label/user_label_201703.csv')\n",
    "\n",
    "    train = pd.read_csv(train_path)\n",
    "    transaction = pd.read_csv(transactions_path)\n",
    "    user_log = pd.read_csv(user_logs_path)\n",
    "    member = pd.read_csv(members_path)\n",
    "    sample_submission = pd.read_csv(sample_submission_path)\n",
    "    train_201702 = pd.read_csv(user_label_201702_path)\n",
    "    train_201703 = pd.read_csv(user_label_201703_path)\n",
    "    \n",
    "    return train, transaction, user_log, member, sample_submission, train_201702, train_201703"
   ]
  },
  {
   "cell_type": "code",
   "execution_count": 6,
   "metadata": {
    "collapsed": true
   },
   "outputs": [],
   "source": [
    "def data_manipulate_transaction(transaction):\n",
    "    \"\"\"\n",
    "    some transformation about the transaction data\n",
    "    \n",
    "    Parameters\n",
    "    ----------\n",
    "    transaction: pandas dataframe\n",
    "    \"\"\"\n",
    "        \n",
    "    # date retlated columns\n",
    "    \n",
    "    transaction['transaction_date'] = pd.to_datetime(transaction['transaction_date'], format='%Y%m%d', errors='ignore')\n",
    "    #transaction['transaction_year'] = transaction['transaction_date'].apply(lambda x: x.year)\n",
    "    #transaction['transaction_month'] = transaction['transaction_date'].apply(lambda x: x.month)\n",
    "    #transaction['transaction_day'] = transaction['transaction_date'].apply(lambda x: x.day)\n",
    "    transaction['membership_expire_date'] = pd.to_datetime(transaction['membership_expire_date'], format='%Y%m%d', errors='ignore')\n",
    "    #transaction['membership_expire_year'] = transaction['membership_expire_date'].apply(lambda x: x.year)\n",
    "    #transaction['membership_expire_month'] = transaction['membership_expire_date'].apply(lambda x: x.month)\n",
    "    #transaction['membership_expire_day'] = transaction['membership_expire_date'].apply(lambda x: x.day)\n",
    "    \n",
    "    return transaction"
   ]
  },
  {
   "cell_type": "code",
   "execution_count": 7,
   "metadata": {
    "collapsed": true
   },
   "outputs": [],
   "source": [
    "train, transaction, user_log, member, sample_submission, train_201702, train_201703 = data_reader()\n",
    "transaction = data_manipulate_transaction(transaction)"
   ]
  },
  {
   "cell_type": "markdown",
   "metadata": {},
   "source": [
    "> **Merging the original train to transaction data**"
   ]
  },
  {
   "cell_type": "markdown",
   "metadata": {},
   "source": [
    "There are **37382, 3.8%** of users from the train data can not be matched to their transaction records.\n",
    "\n",
    "For those who can be matched to their transaction record, only **6.2%** of the user is_churn"
   ]
  },
  {
   "cell_type": "code",
   "execution_count": 10,
   "metadata": {
    "collapsed": true
   },
   "outputs": [],
   "source": [
    "train_transaction = pd.merge(train, transaction, on='msno', how='left')"
   ]
  },
  {
   "cell_type": "code",
   "execution_count": 11,
   "metadata": {},
   "outputs": [
    {
     "data": {
      "text/plain": [
       "970960"
      ]
     },
     "execution_count": 11,
     "metadata": {},
     "output_type": "execute_result"
    }
   ],
   "source": [
    "len(train_transaction.msno.unique())"
   ]
  },
  {
   "cell_type": "code",
   "execution_count": 12,
   "metadata": {
    "collapsed": true
   },
   "outputs": [],
   "source": [
    "train_transaction = train_transaction[train_transaction['payment_method_id'].notnull()]"
   ]
  },
  {
   "cell_type": "code",
   "execution_count": 13,
   "metadata": {},
   "outputs": [
    {
     "data": {
      "text/plain": [
       "933578"
      ]
     },
     "execution_count": 13,
     "metadata": {},
     "output_type": "execute_result"
    }
   ],
   "source": [
    "len(train_transaction.msno.unique())"
   ]
  },
  {
   "cell_type": "code",
   "execution_count": 14,
   "metadata": {},
   "outputs": [
    {
     "data": {
      "text/html": [
       "<div>\n",
       "<style>\n",
       "    .dataframe thead tr:only-child th {\n",
       "        text-align: right;\n",
       "    }\n",
       "\n",
       "    .dataframe thead th {\n",
       "        text-align: left;\n",
       "    }\n",
       "\n",
       "    .dataframe tbody tr th {\n",
       "        vertical-align: top;\n",
       "    }\n",
       "</style>\n",
       "<table border=\"1\" class=\"dataframe\">\n",
       "  <thead>\n",
       "    <tr style=\"text-align: right;\">\n",
       "      <th></th>\n",
       "      <th>is_churn</th>\n",
       "      <th>msno</th>\n",
       "    </tr>\n",
       "  </thead>\n",
       "  <tbody>\n",
       "    <tr>\n",
       "      <th>0</th>\n",
       "      <td>0</td>\n",
       "      <td>875683</td>\n",
       "    </tr>\n",
       "    <tr>\n",
       "      <th>1</th>\n",
       "      <td>1</td>\n",
       "      <td>57895</td>\n",
       "    </tr>\n",
       "  </tbody>\n",
       "</table>\n",
       "</div>"
      ],
      "text/plain": [
       "   is_churn    msno\n",
       "0         0  875683\n",
       "1         1   57895"
      ]
     },
     "execution_count": 14,
     "metadata": {},
     "output_type": "execute_result"
    }
   ],
   "source": [
    "train_transaction.groupby(['is_churn']).agg({'msno': 'nunique'}).reset_index()"
   ]
  },
  {
   "cell_type": "code",
   "execution_count": 15,
   "metadata": {},
   "outputs": [
    {
     "data": {
      "text/plain": [
       "0.062014100589345506"
      ]
     },
     "execution_count": 15,
     "metadata": {},
     "output_type": "execute_result"
    }
   ],
   "source": [
    "57895/(875683+57895)"
   ]
  },
  {
   "cell_type": "markdown",
   "metadata": {},
   "source": [
    "> **Merging the train data downloaded [here](https://www.kaggle.com/infinitewing/kkbox-churn-scala-label/data). This should be a better one.**"
   ]
  },
  {
   "cell_type": "markdown",
   "metadata": {},
   "source": [
    "There are **47810, 5.4%** of users from the train data can not be matched to their transaction records.\n",
    "\n",
    "For those who can be matched to their transaction record, only **0.3%** of the user is_churn"
   ]
  },
  {
   "cell_type": "code",
   "execution_count": 16,
   "metadata": {},
   "outputs": [],
   "source": [
    "#train_transaction_02 = pd.merge(train_201702, transaction, on='msno', how='left')\n",
    "train_transaction_03 = pd.merge(train_201703, transaction, on='msno', how='left')"
   ]
  },
  {
   "cell_type": "code",
   "execution_count": 17,
   "metadata": {},
   "outputs": [
    {
     "data": {
      "text/plain": [
       "886500"
      ]
     },
     "execution_count": 17,
     "metadata": {},
     "output_type": "execute_result"
    }
   ],
   "source": [
    "#len(train_transaction_02.msno.unique())\n",
    "len(train_transaction_03.msno.unique())"
   ]
  },
  {
   "cell_type": "code",
   "execution_count": 18,
   "metadata": {
    "collapsed": true
   },
   "outputs": [],
   "source": [
    "#train_transaction_02 = train_transaction_02[train_transaction_02['payment_method_id'].notnull()]\n",
    "train_transaction_03 = train_transaction_03[train_transaction_03['payment_method_id'].notnull()]"
   ]
  },
  {
   "cell_type": "code",
   "execution_count": 19,
   "metadata": {},
   "outputs": [
    {
     "data": {
      "text/plain": [
       "853152"
      ]
     },
     "execution_count": 19,
     "metadata": {},
     "output_type": "execute_result"
    }
   ],
   "source": [
    "len(train_transaction_03.msno.unique())"
   ]
  },
  {
   "cell_type": "code",
   "execution_count": 21,
   "metadata": {},
   "outputs": [
    {
     "data": {
      "text/html": [
       "<div>\n",
       "<style>\n",
       "    .dataframe thead tr:only-child th {\n",
       "        text-align: right;\n",
       "    }\n",
       "\n",
       "    .dataframe thead th {\n",
       "        text-align: left;\n",
       "    }\n",
       "\n",
       "    .dataframe tbody tr th {\n",
       "        vertical-align: top;\n",
       "    }\n",
       "</style>\n",
       "<table border=\"1\" class=\"dataframe\">\n",
       "  <thead>\n",
       "    <tr style=\"text-align: right;\">\n",
       "      <th></th>\n",
       "      <th>is_churn</th>\n",
       "      <th>msno</th>\n",
       "    </tr>\n",
       "  </thead>\n",
       "  <tbody>\n",
       "    <tr>\n",
       "      <th>0</th>\n",
       "      <td>False</td>\n",
       "      <td>842835</td>\n",
       "    </tr>\n",
       "    <tr>\n",
       "      <th>1</th>\n",
       "      <td>True</td>\n",
       "      <td>10317</td>\n",
       "    </tr>\n",
       "  </tbody>\n",
       "</table>\n",
       "</div>"
      ],
      "text/plain": [
       "   is_churn    msno\n",
       "0     False  842835\n",
       "1      True   10317"
      ]
     },
     "execution_count": 21,
     "metadata": {},
     "output_type": "execute_result"
    }
   ],
   "source": [
    "train_transaction_03.groupby(['is_churn']).agg({'msno': 'nunique'}).reset_index()"
   ]
  },
  {
   "cell_type": "code",
   "execution_count": 51,
   "metadata": {},
   "outputs": [
    {
     "data": {
      "text/plain": [
       "0.012092804095870373"
      ]
     },
     "execution_count": 51,
     "metadata": {},
     "output_type": "execute_result"
    }
   ],
   "source": [
    "10317/(842835+10317)"
   ]
  },
  {
   "cell_type": "markdown",
   "metadata": {},
   "source": [
    "## **Train**\n",
    "\n",
    "**Description**\n",
    "\n",
    "The train data consists of users whose subscription expires within the month of February 2017\n",
    "In other words, these are the user ids whose subscription expires in February 2017. When we merge them with their transaction records, their lastest expire date should be the month of February 2017. We should have some more data related to their previous behavior after merging with transaction datatset.\n",
    "\n",
    "**Some Finding**\n",
    "\n",
    "* Originally, around 9% of the user in the training data is_churn"
   ]
  },
  {
   "cell_type": "code",
   "execution_count": 45,
   "metadata": {},
   "outputs": [
    {
     "data": {
      "text/html": [
       "<div>\n",
       "<style>\n",
       "    .dataframe thead tr:only-child th {\n",
       "        text-align: right;\n",
       "    }\n",
       "\n",
       "    .dataframe thead th {\n",
       "        text-align: left;\n",
       "    }\n",
       "\n",
       "    .dataframe tbody tr th {\n",
       "        vertical-align: top;\n",
       "    }\n",
       "</style>\n",
       "<table border=\"1\" class=\"dataframe\">\n",
       "  <thead>\n",
       "    <tr style=\"text-align: right;\">\n",
       "      <th></th>\n",
       "      <th>msno</th>\n",
       "      <th>is_churn</th>\n",
       "    </tr>\n",
       "  </thead>\n",
       "  <tbody>\n",
       "    <tr>\n",
       "      <th>0</th>\n",
       "      <td>ugx0CjOMzazClkFzU2xasmDZaoIqOUAZPsH1q0teWCg=</td>\n",
       "      <td>1</td>\n",
       "    </tr>\n",
       "    <tr>\n",
       "      <th>1</th>\n",
       "      <td>f/NmvEzHfhINFEYZTR05prUdr+E+3+oewvweYz9cCQE=</td>\n",
       "      <td>1</td>\n",
       "    </tr>\n",
       "    <tr>\n",
       "      <th>2</th>\n",
       "      <td>zLo9f73nGGT1p21ltZC3ChiRnAVvgibMyazbCxvWPcg=</td>\n",
       "      <td>1</td>\n",
       "    </tr>\n",
       "    <tr>\n",
       "      <th>3</th>\n",
       "      <td>8iF/+8HY8lJKFrTc7iR9ZYGCG2Ecrogbc2Vy5YhsfhQ=</td>\n",
       "      <td>1</td>\n",
       "    </tr>\n",
       "    <tr>\n",
       "      <th>4</th>\n",
       "      <td>K6fja4+jmoZ5xG6BypqX80Uw/XKpMgrEMdG2edFOxnA=</td>\n",
       "      <td>1</td>\n",
       "    </tr>\n",
       "  </tbody>\n",
       "</table>\n",
       "</div>"
      ],
      "text/plain": [
       "                                           msno  is_churn\n",
       "0  ugx0CjOMzazClkFzU2xasmDZaoIqOUAZPsH1q0teWCg=         1\n",
       "1  f/NmvEzHfhINFEYZTR05prUdr+E+3+oewvweYz9cCQE=         1\n",
       "2  zLo9f73nGGT1p21ltZC3ChiRnAVvgibMyazbCxvWPcg=         1\n",
       "3  8iF/+8HY8lJKFrTc7iR9ZYGCG2Ecrogbc2Vy5YhsfhQ=         1\n",
       "4  K6fja4+jmoZ5xG6BypqX80Uw/XKpMgrEMdG2edFOxnA=         1"
      ]
     },
     "execution_count": 45,
     "metadata": {},
     "output_type": "execute_result"
    }
   ],
   "source": [
    "train.head()"
   ]
  },
  {
   "cell_type": "code",
   "execution_count": 10,
   "metadata": {},
   "outputs": [
    {
     "data": {
      "text/plain": [
       "(970960, 2)"
      ]
     },
     "execution_count": 10,
     "metadata": {},
     "output_type": "execute_result"
    }
   ],
   "source": [
    "train.shape"
   ]
  },
  {
   "cell_type": "code",
   "execution_count": 37,
   "metadata": {},
   "outputs": [
    {
     "data": {
      "text/plain": [
       "0    883630\n",
       "1     87330\n",
       "Name: is_churn, dtype: int64"
      ]
     },
     "execution_count": 37,
     "metadata": {},
     "output_type": "execute_result"
    }
   ],
   "source": [
    "train.is_churn.value_counts()"
   ]
  },
  {
   "cell_type": "code",
   "execution_count": 38,
   "metadata": {},
   "outputs": [
    {
     "data": {
      "text/plain": [
       "0.089941913158111564"
      ]
     },
     "execution_count": 38,
     "metadata": {},
     "output_type": "execute_result"
    }
   ],
   "source": [
    "train.is_churn.value_counts()[1]/train.shape[0]"
   ]
  },
  {
   "cell_type": "markdown",
   "metadata": {},
   "source": [
    "## train_201702"
   ]
  },
  {
   "cell_type": "code",
   "execution_count": 22,
   "metadata": {},
   "outputs": [
    {
     "data": {
      "text/plain": [
       "False    842835\n",
       "True      43665\n",
       "Name: is_churn, dtype: int64"
      ]
     },
     "execution_count": 22,
     "metadata": {},
     "output_type": "execute_result"
    }
   ],
   "source": [
    "#train_201702.is_churn.value_counts()\n",
    "train_201703.is_churn.value_counts()"
   ]
  },
  {
   "cell_type": "code",
   "execution_count": 23,
   "metadata": {},
   "outputs": [
    {
     "data": {
      "text/plain": [
       "0.049255499153976312"
      ]
     },
     "execution_count": 23,
     "metadata": {},
     "output_type": "execute_result"
    }
   ],
   "source": [
    "#train_201702.is_churn.value_counts()[1]/train_201702.shape[0]\n",
    "train_201703.is_churn.value_counts()[1]/train_201703.shape[0]"
   ]
  },
  {
   "cell_type": "code",
   "execution_count": 24,
   "metadata": {
    "collapsed": true
   },
   "outputs": [],
   "source": [
    "#train_check = pd.merge(train, train_201702, on='msno', how='outer').rename(columns={'is_churn_x':'is_churn_old','is_churn_y':'is_churn_new'})\n",
    "train_check = pd.merge(train, train_201703, on='msno', how='outer').rename(columns={'is_churn_x':'is_churn_old','is_churn_y':'is_churn_new'})\n"
   ]
  },
  {
   "cell_type": "code",
   "execution_count": 212,
   "metadata": {},
   "outputs": [
    {
     "data": {
      "text/html": [
       "<div>\n",
       "<style>\n",
       "    .dataframe thead tr:only-child th {\n",
       "        text-align: right;\n",
       "    }\n",
       "\n",
       "    .dataframe thead th {\n",
       "        text-align: left;\n",
       "    }\n",
       "\n",
       "    .dataframe tbody tr th {\n",
       "        vertical-align: top;\n",
       "    }\n",
       "</style>\n",
       "<table border=\"1\" class=\"dataframe\">\n",
       "  <thead>\n",
       "    <tr style=\"text-align: right;\">\n",
       "      <th></th>\n",
       "      <th>msno</th>\n",
       "      <th>is_churn_old</th>\n",
       "      <th>is_churn_new</th>\n",
       "    </tr>\n",
       "  </thead>\n",
       "  <tbody>\n",
       "    <tr>\n",
       "      <th>0</th>\n",
       "      <td>ugx0CjOMzazClkFzU2xasmDZaoIqOUAZPsH1q0teWCg=</td>\n",
       "      <td>1.0</td>\n",
       "      <td>NaN</td>\n",
       "    </tr>\n",
       "    <tr>\n",
       "      <th>1</th>\n",
       "      <td>f/NmvEzHfhINFEYZTR05prUdr+E+3+oewvweYz9cCQE=</td>\n",
       "      <td>1.0</td>\n",
       "      <td>NaN</td>\n",
       "    </tr>\n",
       "    <tr>\n",
       "      <th>2</th>\n",
       "      <td>zLo9f73nGGT1p21ltZC3ChiRnAVvgibMyazbCxvWPcg=</td>\n",
       "      <td>1.0</td>\n",
       "      <td>NaN</td>\n",
       "    </tr>\n",
       "    <tr>\n",
       "      <th>3</th>\n",
       "      <td>8iF/+8HY8lJKFrTc7iR9ZYGCG2Ecrogbc2Vy5YhsfhQ=</td>\n",
       "      <td>1.0</td>\n",
       "      <td>NaN</td>\n",
       "    </tr>\n",
       "    <tr>\n",
       "      <th>4</th>\n",
       "      <td>K6fja4+jmoZ5xG6BypqX80Uw/XKpMgrEMdG2edFOxnA=</td>\n",
       "      <td>1.0</td>\n",
       "      <td>NaN</td>\n",
       "    </tr>\n",
       "  </tbody>\n",
       "</table>\n",
       "</div>"
      ],
      "text/plain": [
       "                                           msno  is_churn_old is_churn_new\n",
       "0  ugx0CjOMzazClkFzU2xasmDZaoIqOUAZPsH1q0teWCg=           1.0          NaN\n",
       "1  f/NmvEzHfhINFEYZTR05prUdr+E+3+oewvweYz9cCQE=           1.0          NaN\n",
       "2  zLo9f73nGGT1p21ltZC3ChiRnAVvgibMyazbCxvWPcg=           1.0          NaN\n",
       "3  8iF/+8HY8lJKFrTc7iR9ZYGCG2Ecrogbc2Vy5YhsfhQ=           1.0          NaN\n",
       "4  K6fja4+jmoZ5xG6BypqX80Uw/XKpMgrEMdG2edFOxnA=           1.0          NaN"
      ]
     },
     "execution_count": 212,
     "metadata": {},
     "output_type": "execute_result"
    }
   ],
   "source": [
    "train_check.head()"
   ]
  },
  {
   "cell_type": "code",
   "execution_count": 26,
   "metadata": {
    "collapsed": true
   },
   "outputs": [],
   "source": [
    "train_check.fillna(3.0, inplace=True)\n",
    "train_check.loc[train_check['is_churn_new'] ==True, 'is_churn_new'] = 1.0\n",
    "train_check.loc[train_check['is_churn_new'] ==False, 'is_churn_new'] = 0.0"
   ]
  },
  {
   "cell_type": "code",
   "execution_count": 27,
   "metadata": {},
   "outputs": [
    {
     "data": {
      "text/html": [
       "<div>\n",
       "<style>\n",
       "    .dataframe thead tr:only-child th {\n",
       "        text-align: right;\n",
       "    }\n",
       "\n",
       "    .dataframe thead th {\n",
       "        text-align: left;\n",
       "    }\n",
       "\n",
       "    .dataframe tbody tr th {\n",
       "        vertical-align: top;\n",
       "    }\n",
       "</style>\n",
       "<table border=\"1\" class=\"dataframe\">\n",
       "  <thead>\n",
       "    <tr style=\"text-align: right;\">\n",
       "      <th></th>\n",
       "      <th>msno</th>\n",
       "      <th>is_churn_old</th>\n",
       "      <th>is_churn_new</th>\n",
       "    </tr>\n",
       "  </thead>\n",
       "  <tbody>\n",
       "    <tr>\n",
       "      <th>0</th>\n",
       "      <td>ugx0CjOMzazClkFzU2xasmDZaoIqOUAZPsH1q0teWCg=</td>\n",
       "      <td>1.0</td>\n",
       "      <td>1</td>\n",
       "    </tr>\n",
       "    <tr>\n",
       "      <th>1</th>\n",
       "      <td>f/NmvEzHfhINFEYZTR05prUdr+E+3+oewvweYz9cCQE=</td>\n",
       "      <td>1.0</td>\n",
       "      <td>0</td>\n",
       "    </tr>\n",
       "    <tr>\n",
       "      <th>2</th>\n",
       "      <td>zLo9f73nGGT1p21ltZC3ChiRnAVvgibMyazbCxvWPcg=</td>\n",
       "      <td>1.0</td>\n",
       "      <td>0</td>\n",
       "    </tr>\n",
       "    <tr>\n",
       "      <th>3</th>\n",
       "      <td>8iF/+8HY8lJKFrTc7iR9ZYGCG2Ecrogbc2Vy5YhsfhQ=</td>\n",
       "      <td>1.0</td>\n",
       "      <td>3</td>\n",
       "    </tr>\n",
       "    <tr>\n",
       "      <th>4</th>\n",
       "      <td>K6fja4+jmoZ5xG6BypqX80Uw/XKpMgrEMdG2edFOxnA=</td>\n",
       "      <td>1.0</td>\n",
       "      <td>3</td>\n",
       "    </tr>\n",
       "  </tbody>\n",
       "</table>\n",
       "</div>"
      ],
      "text/plain": [
       "                                           msno  is_churn_old is_churn_new\n",
       "0  ugx0CjOMzazClkFzU2xasmDZaoIqOUAZPsH1q0teWCg=           1.0            1\n",
       "1  f/NmvEzHfhINFEYZTR05prUdr+E+3+oewvweYz9cCQE=           1.0            0\n",
       "2  zLo9f73nGGT1p21ltZC3ChiRnAVvgibMyazbCxvWPcg=           1.0            0\n",
       "3  8iF/+8HY8lJKFrTc7iR9ZYGCG2Ecrogbc2Vy5YhsfhQ=           1.0            3\n",
       "4  K6fja4+jmoZ5xG6BypqX80Uw/XKpMgrEMdG2edFOxnA=           1.0            3"
      ]
     },
     "execution_count": 27,
     "metadata": {},
     "output_type": "execute_result"
    }
   ],
   "source": [
    "train_check.head()"
   ]
  },
  {
   "cell_type": "code",
   "execution_count": 28,
   "metadata": {},
   "outputs": [
    {
     "data": {
      "text/html": [
       "<div>\n",
       "<style>\n",
       "    .dataframe thead tr:only-child th {\n",
       "        text-align: right;\n",
       "    }\n",
       "\n",
       "    .dataframe thead th {\n",
       "        text-align: left;\n",
       "    }\n",
       "\n",
       "    .dataframe tbody tr th {\n",
       "        vertical-align: top;\n",
       "    }\n",
       "</style>\n",
       "<table border=\"1\" class=\"dataframe\">\n",
       "  <thead>\n",
       "    <tr style=\"text-align: right;\">\n",
       "      <th>is_churn_new</th>\n",
       "      <th>0.0</th>\n",
       "      <th>1.0</th>\n",
       "      <th>3.0</th>\n",
       "    </tr>\n",
       "    <tr>\n",
       "      <th>is_churn_old</th>\n",
       "      <th></th>\n",
       "      <th></th>\n",
       "      <th></th>\n",
       "    </tr>\n",
       "  </thead>\n",
       "  <tbody>\n",
       "    <tr>\n",
       "      <th>0.0</th>\n",
       "      <td>791104</td>\n",
       "      <td>8438</td>\n",
       "      <td>84088</td>\n",
       "    </tr>\n",
       "    <tr>\n",
       "      <th>1.0</th>\n",
       "      <td>28373</td>\n",
       "      <td>34243</td>\n",
       "      <td>24714</td>\n",
       "    </tr>\n",
       "    <tr>\n",
       "      <th>3.0</th>\n",
       "      <td>23358</td>\n",
       "      <td>984</td>\n",
       "      <td>0</td>\n",
       "    </tr>\n",
       "  </tbody>\n",
       "</table>\n",
       "</div>"
      ],
      "text/plain": [
       "is_churn_new     0.0    1.0    3.0\n",
       "is_churn_old                      \n",
       "0.0           791104   8438  84088\n",
       "1.0            28373  34243  24714\n",
       "3.0            23358    984      0"
      ]
     },
     "execution_count": 28,
     "metadata": {},
     "output_type": "execute_result"
    }
   ],
   "source": [
    "pd.crosstab(train_check.is_churn_old, train_check.is_churn_new)"
   ]
  },
  {
   "cell_type": "markdown",
   "metadata": {},
   "source": [
    "3.0 represent NA.\n",
    "There are 36156 user being labeled as churn but is labeled as not churn in the new version. The user id in thw two version are a lot different. There are 59424 users in new version and did not included in the old version."
   ]
  },
  {
   "cell_type": "markdown",
   "metadata": {},
   "source": [
    "---"
   ]
  },
  {
   "cell_type": "markdown",
   "metadata": {},
   "source": [
    "## Transaction"
   ]
  },
  {
   "cell_type": "markdown",
   "metadata": {},
   "source": [
    "Refreshed 11/06/2017, contains the transactions data until 3/31/2017.\n",
    "\n",
    "* **msno**: user id\n",
    "* **payment_method_id**: payment method\n",
    "* **payment_plan_days**: length of membership plan in days\n",
    "* **plan_list_price**: in New Taiwan Dollar (NTD)\n",
    "* **actual_amount_paid**: in New Taiwan Dollar (NTD)\n",
    "* **is_auto_renew**\n",
    "* **transaction_date**: format %Y%m%d. (should be the date this user make a payment)\n",
    "* **membership_expire_date**: format %Y%m%d. (the date that the membership expires before the payment?)\n",
    "* **is_cancel**: whether or not the user canceled the membership in this transaction.\n",
    "\n"
   ]
  },
  {
   "cell_type": "code",
   "execution_count": 41,
   "metadata": {},
   "outputs": [
    {
     "data": {
      "text/html": [
       "<div>\n",
       "<style>\n",
       "    .dataframe thead tr:only-child th {\n",
       "        text-align: right;\n",
       "    }\n",
       "\n",
       "    .dataframe thead th {\n",
       "        text-align: left;\n",
       "    }\n",
       "\n",
       "    .dataframe tbody tr th {\n",
       "        vertical-align: top;\n",
       "    }\n",
       "</style>\n",
       "<table border=\"1\" class=\"dataframe\">\n",
       "  <thead>\n",
       "    <tr style=\"text-align: right;\">\n",
       "      <th></th>\n",
       "      <th>msno</th>\n",
       "      <th>payment_method_id</th>\n",
       "      <th>payment_plan_days</th>\n",
       "      <th>plan_list_price</th>\n",
       "      <th>actual_amount_paid</th>\n",
       "      <th>is_auto_renew</th>\n",
       "      <th>transaction_date</th>\n",
       "      <th>membership_expire_date</th>\n",
       "      <th>is_cancel</th>\n",
       "    </tr>\n",
       "  </thead>\n",
       "  <tbody>\n",
       "    <tr>\n",
       "      <th>0</th>\n",
       "      <td>++6eU4LsQ3UQ20ILS7d99XK8WbiVgbyYL4FUgzZR134=</td>\n",
       "      <td>32</td>\n",
       "      <td>90</td>\n",
       "      <td>298</td>\n",
       "      <td>298</td>\n",
       "      <td>0</td>\n",
       "      <td>2017-01-31</td>\n",
       "      <td>2017-05-04</td>\n",
       "      <td>0</td>\n",
       "    </tr>\n",
       "    <tr>\n",
       "      <th>1</th>\n",
       "      <td>++lvGPJOinuin/8esghpnqdljm6NXS8m8Zwchc7gOeA=</td>\n",
       "      <td>41</td>\n",
       "      <td>30</td>\n",
       "      <td>149</td>\n",
       "      <td>149</td>\n",
       "      <td>1</td>\n",
       "      <td>2015-08-09</td>\n",
       "      <td>2019-04-12</td>\n",
       "      <td>0</td>\n",
       "    </tr>\n",
       "    <tr>\n",
       "      <th>2</th>\n",
       "      <td>+/GXNtXWQVfKrEDqYAzcSw2xSPYMKWNj22m+5XkVQZc=</td>\n",
       "      <td>36</td>\n",
       "      <td>30</td>\n",
       "      <td>180</td>\n",
       "      <td>180</td>\n",
       "      <td>1</td>\n",
       "      <td>2017-03-03</td>\n",
       "      <td>2017-04-22</td>\n",
       "      <td>0</td>\n",
       "    </tr>\n",
       "    <tr>\n",
       "      <th>3</th>\n",
       "      <td>+/w1UrZwyka4C9oNH3+Q8fUf3fD8R3EwWrx57ODIsqk=</td>\n",
       "      <td>36</td>\n",
       "      <td>30</td>\n",
       "      <td>180</td>\n",
       "      <td>180</td>\n",
       "      <td>1</td>\n",
       "      <td>2017-03-29</td>\n",
       "      <td>2017-03-31</td>\n",
       "      <td>1</td>\n",
       "    </tr>\n",
       "    <tr>\n",
       "      <th>4</th>\n",
       "      <td>+00PGzKTYqtnb65mPKPyeHXcZEwqiEzktpQksaaSC3c=</td>\n",
       "      <td>41</td>\n",
       "      <td>30</td>\n",
       "      <td>99</td>\n",
       "      <td>99</td>\n",
       "      <td>1</td>\n",
       "      <td>2017-03-23</td>\n",
       "      <td>2017-04-23</td>\n",
       "      <td>0</td>\n",
       "    </tr>\n",
       "  </tbody>\n",
       "</table>\n",
       "</div>"
      ],
      "text/plain": [
       "                                           msno  payment_method_id  \\\n",
       "0  ++6eU4LsQ3UQ20ILS7d99XK8WbiVgbyYL4FUgzZR134=                 32   \n",
       "1  ++lvGPJOinuin/8esghpnqdljm6NXS8m8Zwchc7gOeA=                 41   \n",
       "2  +/GXNtXWQVfKrEDqYAzcSw2xSPYMKWNj22m+5XkVQZc=                 36   \n",
       "3  +/w1UrZwyka4C9oNH3+Q8fUf3fD8R3EwWrx57ODIsqk=                 36   \n",
       "4  +00PGzKTYqtnb65mPKPyeHXcZEwqiEzktpQksaaSC3c=                 41   \n",
       "\n",
       "   payment_plan_days  plan_list_price  actual_amount_paid  is_auto_renew  \\\n",
       "0                 90              298                 298              0   \n",
       "1                 30              149                 149              1   \n",
       "2                 30              180                 180              1   \n",
       "3                 30              180                 180              1   \n",
       "4                 30               99                  99              1   \n",
       "\n",
       "  transaction_date membership_expire_date  is_cancel  \n",
       "0       2017-01-31             2017-05-04          0  \n",
       "1       2015-08-09             2019-04-12          0  \n",
       "2       2017-03-03             2017-04-22          0  \n",
       "3       2017-03-29             2017-03-31          1  \n",
       "4       2017-03-23             2017-04-23          0  "
      ]
     },
     "execution_count": 41,
     "metadata": {},
     "output_type": "execute_result"
    }
   ],
   "source": [
    "transaction.head()"
   ]
  },
  {
   "cell_type": "code",
   "execution_count": 42,
   "metadata": {},
   "outputs": [
    {
     "data": {
      "text/plain": [
       "(1431009, 9)"
      ]
     },
     "execution_count": 42,
     "metadata": {},
     "output_type": "execute_result"
    }
   ],
   "source": [
    "transaction.shape"
   ]
  },
  {
   "cell_type": "markdown",
   "metadata": {},
   "source": [
    "> **Check who are the member that make lots of transaction and check their transaction history**\n",
    "\n"
   ]
  },
  {
   "cell_type": "markdown",
   "metadata": {},
   "source": [
    "We see that there are many users is labeled as churn but the memebership expires after February 2017. One possible reason that can make this happen is that their previous membership expires in February 2017 and they did renew their subscription within 30 days. "
   ]
  },
  {
   "cell_type": "code",
   "execution_count": 57,
   "metadata": {},
   "outputs": [
    {
     "data": {
      "text/html": [
       "<div>\n",
       "<style>\n",
       "    .dataframe thead tr:only-child th {\n",
       "        text-align: right;\n",
       "    }\n",
       "\n",
       "    .dataframe thead th {\n",
       "        text-align: left;\n",
       "    }\n",
       "\n",
       "    .dataframe tbody tr th {\n",
       "        vertical-align: top;\n",
       "    }\n",
       "</style>\n",
       "<table border=\"1\" class=\"dataframe\">\n",
       "  <thead>\n",
       "    <tr style=\"text-align: right;\">\n",
       "      <th></th>\n",
       "      <th>count</th>\n",
       "    </tr>\n",
       "    <tr>\n",
       "      <th>msno</th>\n",
       "      <th></th>\n",
       "    </tr>\n",
       "  </thead>\n",
       "  <tbody>\n",
       "    <tr>\n",
       "      <th>72gJqt1O31E/WoxAEYFn9LHNI6mAZFGera5Q6gvsFkA=</th>\n",
       "      <td>208</td>\n",
       "    </tr>\n",
       "    <tr>\n",
       "      <th>5ty4nZkq54z93wQtBN7RHVYj8rNghBDCVBH+3xmxf0I=</th>\n",
       "      <td>172</td>\n",
       "    </tr>\n",
       "    <tr>\n",
       "      <th>OGKDrZQDB3yewZhoSd5qqvmG5A1GcNTYMexO95NlH+g=</th>\n",
       "      <td>148</td>\n",
       "    </tr>\n",
       "    <tr>\n",
       "      <th>WHsCtkOVsauvqBL0ULuG38887y7aU8GXdCmJMjw6hjQ=</th>\n",
       "      <td>145</td>\n",
       "    </tr>\n",
       "    <tr>\n",
       "      <th>SNlFRAsmUqnXKPofSXA8WYUc5DtmLcUMy4pXSJ3Ohz0=</th>\n",
       "      <td>131</td>\n",
       "    </tr>\n",
       "    <tr>\n",
       "      <th>vf6eQrnFfiS9o1kB/gRUJ4iTUixS9tHNKizqQ/1vLDI=</th>\n",
       "      <td>117</td>\n",
       "    </tr>\n",
       "    <tr>\n",
       "      <th>hQirtFbRr8t5T+/aVbrXM2tRNvoOIzChx5qzm1v/PE0=</th>\n",
       "      <td>104</td>\n",
       "    </tr>\n",
       "    <tr>\n",
       "      <th>gzTushiuaWZwJShNepFWD+O9a7C76pAfW7Vc07jHXw8=</th>\n",
       "      <td>89</td>\n",
       "    </tr>\n",
       "    <tr>\n",
       "      <th>IO+048XfFoL7X++ftIyb/zFKwNUUAkKaZLWrvg48TXA=</th>\n",
       "      <td>89</td>\n",
       "    </tr>\n",
       "    <tr>\n",
       "      <th>cmlCHjCLeo0TQK1S/37OqQK1AvwJWkD2h5HBd9lATgw=</th>\n",
       "      <td>78</td>\n",
       "    </tr>\n",
       "  </tbody>\n",
       "</table>\n",
       "</div>"
      ],
      "text/plain": [
       "                                              count\n",
       "msno                                               \n",
       "72gJqt1O31E/WoxAEYFn9LHNI6mAZFGera5Q6gvsFkA=    208\n",
       "5ty4nZkq54z93wQtBN7RHVYj8rNghBDCVBH+3xmxf0I=    172\n",
       "OGKDrZQDB3yewZhoSd5qqvmG5A1GcNTYMexO95NlH+g=    148\n",
       "WHsCtkOVsauvqBL0ULuG38887y7aU8GXdCmJMjw6hjQ=    145\n",
       "SNlFRAsmUqnXKPofSXA8WYUc5DtmLcUMy4pXSJ3Ohz0=    131\n",
       "vf6eQrnFfiS9o1kB/gRUJ4iTUixS9tHNKizqQ/1vLDI=    117\n",
       "hQirtFbRr8t5T+/aVbrXM2tRNvoOIzChx5qzm1v/PE0=    104\n",
       "gzTushiuaWZwJShNepFWD+O9a7C76pAfW7Vc07jHXw8=     89\n",
       "IO+048XfFoL7X++ftIyb/zFKwNUUAkKaZLWrvg48TXA=     89\n",
       "cmlCHjCLeo0TQK1S/37OqQK1AvwJWkD2h5HBd9lATgw=     78"
      ]
     },
     "execution_count": 57,
     "metadata": {},
     "output_type": "execute_result"
    }
   ],
   "source": [
    "train_transaction.groupby(['msno']).agg({'payment_method_id':'count'}).rename(columns={'payment_method_id':'count'}).sort_values(by=['count'],ascending=False).head(10)"
   ]
  },
  {
   "cell_type": "code",
   "execution_count": 47,
   "metadata": {},
   "outputs": [
    {
     "data": {
      "text/html": [
       "<div>\n",
       "<style>\n",
       "    .dataframe thead tr:only-child th {\n",
       "        text-align: right;\n",
       "    }\n",
       "\n",
       "    .dataframe thead th {\n",
       "        text-align: left;\n",
       "    }\n",
       "\n",
       "    .dataframe tbody tr th {\n",
       "        vertical-align: top;\n",
       "    }\n",
       "</style>\n",
       "<table border=\"1\" class=\"dataframe\">\n",
       "  <thead>\n",
       "    <tr style=\"text-align: right;\">\n",
       "      <th></th>\n",
       "      <th>msno</th>\n",
       "      <th>is_churn</th>\n",
       "      <th>payment_method_id</th>\n",
       "      <th>payment_plan_days</th>\n",
       "      <th>plan_list_price</th>\n",
       "      <th>actual_amount_paid</th>\n",
       "      <th>is_auto_renew</th>\n",
       "      <th>transaction_date</th>\n",
       "      <th>membership_expire_date</th>\n",
       "      <th>is_cancel</th>\n",
       "    </tr>\n",
       "  </thead>\n",
       "  <tbody>\n",
       "    <tr>\n",
       "      <th>13</th>\n",
       "      <td>8iF/+8HY8lJKFrTc7iR9ZYGCG2Ecrogbc2Vy5YhsfhQ=</td>\n",
       "      <td>1</td>\n",
       "      <td>41.0</td>\n",
       "      <td>30.0</td>\n",
       "      <td>149.0</td>\n",
       "      <td>149.0</td>\n",
       "      <td>1.0</td>\n",
       "      <td>2015-08-08</td>\n",
       "      <td>2017-04-08</td>\n",
       "      <td>0.0</td>\n",
       "    </tr>\n",
       "    <tr>\n",
       "      <th>11</th>\n",
       "      <td>8iF/+8HY8lJKFrTc7iR9ZYGCG2Ecrogbc2Vy5YhsfhQ=</td>\n",
       "      <td>1</td>\n",
       "      <td>41.0</td>\n",
       "      <td>30.0</td>\n",
       "      <td>149.0</td>\n",
       "      <td>149.0</td>\n",
       "      <td>1.0</td>\n",
       "      <td>2015-08-08</td>\n",
       "      <td>2017-05-09</td>\n",
       "      <td>0.0</td>\n",
       "    </tr>\n",
       "    <tr>\n",
       "      <th>4</th>\n",
       "      <td>8iF/+8HY8lJKFrTc7iR9ZYGCG2Ecrogbc2Vy5YhsfhQ=</td>\n",
       "      <td>1</td>\n",
       "      <td>41.0</td>\n",
       "      <td>30.0</td>\n",
       "      <td>149.0</td>\n",
       "      <td>149.0</td>\n",
       "      <td>1.0</td>\n",
       "      <td>2015-09-08</td>\n",
       "      <td>2017-06-08</td>\n",
       "      <td>0.0</td>\n",
       "    </tr>\n",
       "    <tr>\n",
       "      <th>5</th>\n",
       "      <td>8iF/+8HY8lJKFrTc7iR9ZYGCG2Ecrogbc2Vy5YhsfhQ=</td>\n",
       "      <td>1</td>\n",
       "      <td>41.0</td>\n",
       "      <td>30.0</td>\n",
       "      <td>149.0</td>\n",
       "      <td>149.0</td>\n",
       "      <td>1.0</td>\n",
       "      <td>2015-09-08</td>\n",
       "      <td>2017-07-08</td>\n",
       "      <td>0.0</td>\n",
       "    </tr>\n",
       "    <tr>\n",
       "      <th>9</th>\n",
       "      <td>8iF/+8HY8lJKFrTc7iR9ZYGCG2Ecrogbc2Vy5YhsfhQ=</td>\n",
       "      <td>1</td>\n",
       "      <td>41.0</td>\n",
       "      <td>30.0</td>\n",
       "      <td>149.0</td>\n",
       "      <td>149.0</td>\n",
       "      <td>1.0</td>\n",
       "      <td>2015-10-08</td>\n",
       "      <td>2017-08-08</td>\n",
       "      <td>0.0</td>\n",
       "    </tr>\n",
       "    <tr>\n",
       "      <th>8</th>\n",
       "      <td>8iF/+8HY8lJKFrTc7iR9ZYGCG2Ecrogbc2Vy5YhsfhQ=</td>\n",
       "      <td>1</td>\n",
       "      <td>41.0</td>\n",
       "      <td>30.0</td>\n",
       "      <td>149.0</td>\n",
       "      <td>149.0</td>\n",
       "      <td>1.0</td>\n",
       "      <td>2015-10-08</td>\n",
       "      <td>2017-09-08</td>\n",
       "      <td>0.0</td>\n",
       "    </tr>\n",
       "    <tr>\n",
       "      <th>7</th>\n",
       "      <td>8iF/+8HY8lJKFrTc7iR9ZYGCG2Ecrogbc2Vy5YhsfhQ=</td>\n",
       "      <td>1</td>\n",
       "      <td>41.0</td>\n",
       "      <td>30.0</td>\n",
       "      <td>149.0</td>\n",
       "      <td>149.0</td>\n",
       "      <td>1.0</td>\n",
       "      <td>2015-11-08</td>\n",
       "      <td>2017-10-08</td>\n",
       "      <td>0.0</td>\n",
       "    </tr>\n",
       "    <tr>\n",
       "      <th>10</th>\n",
       "      <td>8iF/+8HY8lJKFrTc7iR9ZYGCG2Ecrogbc2Vy5YhsfhQ=</td>\n",
       "      <td>1</td>\n",
       "      <td>41.0</td>\n",
       "      <td>30.0</td>\n",
       "      <td>149.0</td>\n",
       "      <td>149.0</td>\n",
       "      <td>1.0</td>\n",
       "      <td>2015-11-08</td>\n",
       "      <td>2017-11-07</td>\n",
       "      <td>0.0</td>\n",
       "    </tr>\n",
       "    <tr>\n",
       "      <th>6</th>\n",
       "      <td>8iF/+8HY8lJKFrTc7iR9ZYGCG2Ecrogbc2Vy5YhsfhQ=</td>\n",
       "      <td>1</td>\n",
       "      <td>41.0</td>\n",
       "      <td>30.0</td>\n",
       "      <td>149.0</td>\n",
       "      <td>149.0</td>\n",
       "      <td>1.0</td>\n",
       "      <td>2015-12-08</td>\n",
       "      <td>2017-12-08</td>\n",
       "      <td>0.0</td>\n",
       "    </tr>\n",
       "    <tr>\n",
       "      <th>12</th>\n",
       "      <td>8iF/+8HY8lJKFrTc7iR9ZYGCG2Ecrogbc2Vy5YhsfhQ=</td>\n",
       "      <td>1</td>\n",
       "      <td>41.0</td>\n",
       "      <td>30.0</td>\n",
       "      <td>149.0</td>\n",
       "      <td>149.0</td>\n",
       "      <td>1.0</td>\n",
       "      <td>2015-12-08</td>\n",
       "      <td>2018-01-08</td>\n",
       "      <td>0.0</td>\n",
       "    </tr>\n",
       "  </tbody>\n",
       "</table>\n",
       "</div>"
      ],
      "text/plain": [
       "                                            msno  is_churn  payment_method_id  \\\n",
       "13  8iF/+8HY8lJKFrTc7iR9ZYGCG2Ecrogbc2Vy5YhsfhQ=         1               41.0   \n",
       "11  8iF/+8HY8lJKFrTc7iR9ZYGCG2Ecrogbc2Vy5YhsfhQ=         1               41.0   \n",
       "4   8iF/+8HY8lJKFrTc7iR9ZYGCG2Ecrogbc2Vy5YhsfhQ=         1               41.0   \n",
       "5   8iF/+8HY8lJKFrTc7iR9ZYGCG2Ecrogbc2Vy5YhsfhQ=         1               41.0   \n",
       "9   8iF/+8HY8lJKFrTc7iR9ZYGCG2Ecrogbc2Vy5YhsfhQ=         1               41.0   \n",
       "8   8iF/+8HY8lJKFrTc7iR9ZYGCG2Ecrogbc2Vy5YhsfhQ=         1               41.0   \n",
       "7   8iF/+8HY8lJKFrTc7iR9ZYGCG2Ecrogbc2Vy5YhsfhQ=         1               41.0   \n",
       "10  8iF/+8HY8lJKFrTc7iR9ZYGCG2Ecrogbc2Vy5YhsfhQ=         1               41.0   \n",
       "6   8iF/+8HY8lJKFrTc7iR9ZYGCG2Ecrogbc2Vy5YhsfhQ=         1               41.0   \n",
       "12  8iF/+8HY8lJKFrTc7iR9ZYGCG2Ecrogbc2Vy5YhsfhQ=         1               41.0   \n",
       "\n",
       "    payment_plan_days  plan_list_price  actual_amount_paid  is_auto_renew  \\\n",
       "13               30.0            149.0               149.0            1.0   \n",
       "11               30.0            149.0               149.0            1.0   \n",
       "4                30.0            149.0               149.0            1.0   \n",
       "5                30.0            149.0               149.0            1.0   \n",
       "9                30.0            149.0               149.0            1.0   \n",
       "8                30.0            149.0               149.0            1.0   \n",
       "7                30.0            149.0               149.0            1.0   \n",
       "10               30.0            149.0               149.0            1.0   \n",
       "6                30.0            149.0               149.0            1.0   \n",
       "12               30.0            149.0               149.0            1.0   \n",
       "\n",
       "   transaction_date membership_expire_date  is_cancel  \n",
       "13       2015-08-08             2017-04-08        0.0  \n",
       "11       2015-08-08             2017-05-09        0.0  \n",
       "4        2015-09-08             2017-06-08        0.0  \n",
       "5        2015-09-08             2017-07-08        0.0  \n",
       "9        2015-10-08             2017-08-08        0.0  \n",
       "8        2015-10-08             2017-09-08        0.0  \n",
       "7        2015-11-08             2017-10-08        0.0  \n",
       "10       2015-11-08             2017-11-07        0.0  \n",
       "6        2015-12-08             2017-12-08        0.0  \n",
       "12       2015-12-08             2018-01-08        0.0  "
      ]
     },
     "execution_count": 47,
     "metadata": {},
     "output_type": "execute_result"
    }
   ],
   "source": [
    "train_transaction.query('msno==\"8iF/+8HY8lJKFrTc7iR9ZYGCG2Ecrogbc2Vy5YhsfhQ=\"').sort_values(by=['transaction_date','membership_expire_date'], ascending=True)"
   ]
  },
  {
   "cell_type": "code",
   "execution_count": 95,
   "metadata": {},
   "outputs": [
    {
     "data": {
      "text/html": [
       "<div>\n",
       "<style>\n",
       "    .dataframe thead tr:only-child th {\n",
       "        text-align: right;\n",
       "    }\n",
       "\n",
       "    .dataframe thead th {\n",
       "        text-align: left;\n",
       "    }\n",
       "\n",
       "    .dataframe tbody tr th {\n",
       "        vertical-align: top;\n",
       "    }\n",
       "</style>\n",
       "<table border=\"1\" class=\"dataframe\">\n",
       "  <thead>\n",
       "    <tr style=\"text-align: right;\">\n",
       "      <th></th>\n",
       "      <th>msno</th>\n",
       "      <th>is_churn</th>\n",
       "      <th>payment_method_id</th>\n",
       "      <th>payment_plan_days</th>\n",
       "      <th>plan_list_price</th>\n",
       "      <th>actual_amount_paid</th>\n",
       "      <th>is_auto_renew</th>\n",
       "      <th>transaction_date</th>\n",
       "      <th>membership_expire_date</th>\n",
       "      <th>is_cancel</th>\n",
       "    </tr>\n",
       "  </thead>\n",
       "  <tbody>\n",
       "    <tr>\n",
       "      <th>65705</th>\n",
       "      <td>u7sL3DvERt0caPg2dKGHiD8NfNdpZLm2FPNdgwFreBY=</td>\n",
       "      <td>1</td>\n",
       "      <td>40.0</td>\n",
       "      <td>30.0</td>\n",
       "      <td>149.0</td>\n",
       "      <td>149.0</td>\n",
       "      <td>1.0</td>\n",
       "      <td>2017-03-01</td>\n",
       "      <td>2017-02-27</td>\n",
       "      <td>1.0</td>\n",
       "    </tr>\n",
       "    <tr>\n",
       "      <th>65704</th>\n",
       "      <td>u7sL3DvERt0caPg2dKGHiD8NfNdpZLm2FPNdgwFreBY=</td>\n",
       "      <td>1</td>\n",
       "      <td>36.0</td>\n",
       "      <td>30.0</td>\n",
       "      <td>180.0</td>\n",
       "      <td>180.0</td>\n",
       "      <td>1.0</td>\n",
       "      <td>2017-03-01</td>\n",
       "      <td>2017-03-31</td>\n",
       "      <td>0.0</td>\n",
       "    </tr>\n",
       "  </tbody>\n",
       "</table>\n",
       "</div>"
      ],
      "text/plain": [
       "                                               msno  is_churn  \\\n",
       "65705  u7sL3DvERt0caPg2dKGHiD8NfNdpZLm2FPNdgwFreBY=         1   \n",
       "65704  u7sL3DvERt0caPg2dKGHiD8NfNdpZLm2FPNdgwFreBY=         1   \n",
       "\n",
       "       payment_method_id  payment_plan_days  plan_list_price  \\\n",
       "65705               40.0               30.0            149.0   \n",
       "65704               36.0               30.0            180.0   \n",
       "\n",
       "       actual_amount_paid  is_auto_renew transaction_date  \\\n",
       "65705               149.0            1.0       2017-03-01   \n",
       "65704               180.0            1.0       2017-03-01   \n",
       "\n",
       "      membership_expire_date  is_cancel  \n",
       "65705             2017-02-27        1.0  \n",
       "65704             2017-03-31        0.0  "
      ]
     },
     "execution_count": 95,
     "metadata": {},
     "output_type": "execute_result"
    }
   ],
   "source": [
    "train_transaction.query('msno==\"u7sL3DvERt0caPg2dKGHiD8NfNdpZLm2FPNdgwFreBY=\"').sort_values(by=['transaction_date','membership_expire_date'], ascending=True)\n"
   ]
  },
  {
   "cell_type": "markdown",
   "metadata": {},
   "source": [
    "> **Who are the users that are churn and renew their service after 30 days of their previous membership expires? How many?**"
   ]
  },
  {
   "cell_type": "code",
   "execution_count": 78,
   "metadata": {
    "collapsed": true
   },
   "outputs": [],
   "source": [
    "train_churn = train_transaction.query('is_churn==1')"
   ]
  },
  {
   "cell_type": "code",
   "execution_count": 79,
   "metadata": {},
   "outputs": [
    {
     "data": {
      "text/plain": [
       "57895"
      ]
     },
     "execution_count": 79,
     "metadata": {},
     "output_type": "execute_result"
    }
   ],
   "source": [
    "len(train_churn.msno.unique())"
   ]
  },
  {
   "cell_type": "markdown",
   "metadata": {},
   "source": [
    "The following table shows the minimum expire date for user who is labeled as churn"
   ]
  },
  {
   "cell_type": "code",
   "execution_count": 122,
   "metadata": {},
   "outputs": [
    {
     "data": {
      "text/html": [
       "<div>\n",
       "<style>\n",
       "    .dataframe thead tr:only-child th {\n",
       "        text-align: right;\n",
       "    }\n",
       "\n",
       "    .dataframe thead th {\n",
       "        text-align: left;\n",
       "    }\n",
       "\n",
       "    .dataframe tbody tr th {\n",
       "        vertical-align: top;\n",
       "    }\n",
       "</style>\n",
       "<table border=\"1\" class=\"dataframe\">\n",
       "  <thead>\n",
       "    <tr style=\"text-align: right;\">\n",
       "      <th></th>\n",
       "      <th>msno</th>\n",
       "      <th>membership_expire_date</th>\n",
       "      <th>count</th>\n",
       "    </tr>\n",
       "  </thead>\n",
       "  <tbody>\n",
       "    <tr>\n",
       "      <th>52599</th>\n",
       "      <td>u7sL3DvERt0caPg2dKGHiD8NfNdpZLm2FPNdgwFreBY=</td>\n",
       "      <td>2017-02-27</td>\n",
       "      <td>2</td>\n",
       "    </tr>\n",
       "    <tr>\n",
       "      <th>30034</th>\n",
       "      <td>V5A7FOae6HDZxBkVff+vJCKl52m6ZCaX43rgN4FjE1k=</td>\n",
       "      <td>2017-02-27</td>\n",
       "      <td>3</td>\n",
       "    </tr>\n",
       "    <tr>\n",
       "      <th>49588</th>\n",
       "      <td>qjAJoMTxL+6XV+DzXtG8ajXsDgxxySPqkbqeazn8bUM=</td>\n",
       "      <td>2017-02-28</td>\n",
       "      <td>1</td>\n",
       "    </tr>\n",
       "    <tr>\n",
       "      <th>28301</th>\n",
       "      <td>TBmKu6m5INtevSEZj7pCqI7iNBtNiNdy5AQpcizoEPo=</td>\n",
       "      <td>2017-02-28</td>\n",
       "      <td>1</td>\n",
       "    </tr>\n",
       "    <tr>\n",
       "      <th>27529</th>\n",
       "      <td>SHEIN+1JgjfdxVQdiSea8kGIE0moBTGvtoLdXBPetBA=</td>\n",
       "      <td>2017-02-28</td>\n",
       "      <td>7</td>\n",
       "    </tr>\n",
       "  </tbody>\n",
       "</table>\n",
       "</div>"
      ],
      "text/plain": [
       "                                               msno membership_expire_date  \\\n",
       "52599  u7sL3DvERt0caPg2dKGHiD8NfNdpZLm2FPNdgwFreBY=             2017-02-27   \n",
       "30034  V5A7FOae6HDZxBkVff+vJCKl52m6ZCaX43rgN4FjE1k=             2017-02-27   \n",
       "49588  qjAJoMTxL+6XV+DzXtG8ajXsDgxxySPqkbqeazn8bUM=             2017-02-28   \n",
       "28301  TBmKu6m5INtevSEZj7pCqI7iNBtNiNdy5AQpcizoEPo=             2017-02-28   \n",
       "27529  SHEIN+1JgjfdxVQdiSea8kGIE0moBTGvtoLdXBPetBA=             2017-02-28   \n",
       "\n",
       "       count  \n",
       "52599      2  \n",
       "30034      3  \n",
       "49588      1  \n",
       "28301      1  \n",
       "27529      7  "
      ]
     },
     "execution_count": 122,
     "metadata": {},
     "output_type": "execute_result"
    }
   ],
   "source": [
    "train_churn.groupby(['msno']).agg({'membership_expire_date':'min', 'payment_method_id':'count'}).rename(columns={'payment_method_id':'count'}).reset_index().sort_values(by=['membership_expire_date']).head()\n",
    "\n",
    "# .query('membership_expire_date<\"2017-03-31\"')"
   ]
  },
  {
   "cell_type": "markdown",
   "metadata": {},
   "source": [
    "> **Check the same thing using the new train data, train_201702**"
   ]
  },
  {
   "cell_type": "code",
   "execution_count": 29,
   "metadata": {},
   "outputs": [
    {
     "data": {
      "text/plain": [
       "10317"
      ]
     },
     "execution_count": 29,
     "metadata": {},
     "output_type": "execute_result"
    }
   ],
   "source": [
    "#train_churn_02 = train_transaction_02.query('is_churn==1')\n",
    "#len(train_churn_02.msno.unique())\n",
    "\n",
    "train_churn_03 = train_transaction_03.query('is_churn==1')\n",
    "len(train_churn_03.msno.unique())"
   ]
  },
  {
   "cell_type": "markdown",
   "metadata": {},
   "source": [
    "The following table shows the minimum expire date for user who is labeled as churn"
   ]
  },
  {
   "cell_type": "code",
   "execution_count": 55,
   "metadata": {},
   "outputs": [
    {
     "data": {
      "text/plain": [
       "(10230, 3)"
      ]
     },
     "execution_count": 55,
     "metadata": {},
     "output_type": "execute_result"
    }
   ],
   "source": [
    "#train_churn_02.groupby(['msno']).agg({'membership_expire_date':'min', 'payment_method_id':'count'}).rename(columns={'payment_method_id':'count'}).reset_index().sort_values(by=['membership_expire_date']).query('count==1').head()\n",
    "\n",
    "\n",
    "train_churn_03.groupby(['msno']).agg({'membership_expire_date':'min', 'payment_method_id':'count'}).rename(columns={'payment_method_id':'count'}).reset_index().sort_values(by=['membership_expire_date']).query('count==1').shape\n",
    "#.query('membership_expire_date>\"2017-03-31\"').shape\n"
   ]
  },
  {
   "cell_type": "code",
   "execution_count": 130,
   "metadata": {},
   "outputs": [
    {
     "data": {
      "text/html": [
       "<div>\n",
       "<style>\n",
       "    .dataframe thead tr:only-child th {\n",
       "        text-align: right;\n",
       "    }\n",
       "\n",
       "    .dataframe thead th {\n",
       "        text-align: left;\n",
       "    }\n",
       "\n",
       "    .dataframe tbody tr th {\n",
       "        vertical-align: top;\n",
       "    }\n",
       "</style>\n",
       "<table border=\"1\" class=\"dataframe\">\n",
       "  <thead>\n",
       "    <tr style=\"text-align: right;\">\n",
       "      <th></th>\n",
       "      <th>msno</th>\n",
       "      <th>is_churn</th>\n",
       "      <th>payment_method_id</th>\n",
       "      <th>payment_plan_days</th>\n",
       "      <th>plan_list_price</th>\n",
       "      <th>actual_amount_paid</th>\n",
       "      <th>is_auto_renew</th>\n",
       "      <th>transaction_date</th>\n",
       "      <th>membership_expire_date</th>\n",
       "      <th>is_cancel</th>\n",
       "    </tr>\n",
       "  </thead>\n",
       "  <tbody>\n",
       "    <tr>\n",
       "      <th>50601</th>\n",
       "      <td>u7sL3DvERt0caPg2dKGHiD8NfNdpZLm2FPNdgwFreBY=</td>\n",
       "      <td>False</td>\n",
       "      <td>40.0</td>\n",
       "      <td>30.0</td>\n",
       "      <td>149.0</td>\n",
       "      <td>149.0</td>\n",
       "      <td>1.0</td>\n",
       "      <td>2017-03-01</td>\n",
       "      <td>2017-02-27</td>\n",
       "      <td>1.0</td>\n",
       "    </tr>\n",
       "    <tr>\n",
       "      <th>50600</th>\n",
       "      <td>u7sL3DvERt0caPg2dKGHiD8NfNdpZLm2FPNdgwFreBY=</td>\n",
       "      <td>False</td>\n",
       "      <td>36.0</td>\n",
       "      <td>30.0</td>\n",
       "      <td>180.0</td>\n",
       "      <td>180.0</td>\n",
       "      <td>1.0</td>\n",
       "      <td>2017-03-01</td>\n",
       "      <td>2017-03-31</td>\n",
       "      <td>0.0</td>\n",
       "    </tr>\n",
       "  </tbody>\n",
       "</table>\n",
       "</div>"
      ],
      "text/plain": [
       "                                               msno  is_churn  \\\n",
       "50601  u7sL3DvERt0caPg2dKGHiD8NfNdpZLm2FPNdgwFreBY=     False   \n",
       "50600  u7sL3DvERt0caPg2dKGHiD8NfNdpZLm2FPNdgwFreBY=     False   \n",
       "\n",
       "       payment_method_id  payment_plan_days  plan_list_price  \\\n",
       "50601               40.0               30.0            149.0   \n",
       "50600               36.0               30.0            180.0   \n",
       "\n",
       "       actual_amount_paid  is_auto_renew transaction_date  \\\n",
       "50601               149.0            1.0       2017-03-01   \n",
       "50600               180.0            1.0       2017-03-01   \n",
       "\n",
       "      membership_expire_date  is_cancel  \n",
       "50601             2017-02-27        1.0  \n",
       "50600             2017-03-31        0.0  "
      ]
     },
     "execution_count": 130,
     "metadata": {},
     "output_type": "execute_result"
    }
   ],
   "source": [
    "train_transaction_02.query('msno==\"u7sL3DvERt0caPg2dKGHiD8NfNdpZLm2FPNdgwFreBY=\"').sort_values(by=['transaction_date','membership_expire_date'], ascending=True)\n"
   ]
  },
  {
   "cell_type": "code",
   "execution_count": 334,
   "metadata": {},
   "outputs": [
    {
     "data": {
      "text/html": [
       "<div>\n",
       "<style>\n",
       "    .dataframe thead tr:only-child th {\n",
       "        text-align: right;\n",
       "    }\n",
       "\n",
       "    .dataframe thead th {\n",
       "        text-align: left;\n",
       "    }\n",
       "\n",
       "    .dataframe tbody tr th {\n",
       "        vertical-align: top;\n",
       "    }\n",
       "</style>\n",
       "<table border=\"1\" class=\"dataframe\">\n",
       "  <thead>\n",
       "    <tr style=\"text-align: right;\">\n",
       "      <th></th>\n",
       "      <th>msno</th>\n",
       "      <th>is_churn</th>\n",
       "      <th>payment_method_id</th>\n",
       "      <th>payment_plan_days</th>\n",
       "      <th>plan_list_price</th>\n",
       "      <th>actual_amount_paid</th>\n",
       "      <th>is_auto_renew</th>\n",
       "      <th>transaction_date</th>\n",
       "      <th>membership_expire_date</th>\n",
       "      <th>is_cancel</th>\n",
       "    </tr>\n",
       "  </thead>\n",
       "  <tbody>\n",
       "    <tr>\n",
       "      <th>926160</th>\n",
       "      <td>AbG12J8+duO7mxS/6jlV2CKcabvLBUEUkvMNmfBx08A=</td>\n",
       "      <td>True</td>\n",
       "      <td>40.0</td>\n",
       "      <td>30.0</td>\n",
       "      <td>149.0</td>\n",
       "      <td>149.0</td>\n",
       "      <td>1.0</td>\n",
       "      <td>2017-03-01</td>\n",
       "      <td>2017-02-27</td>\n",
       "      <td>1.0</td>\n",
       "    </tr>\n",
       "    <tr>\n",
       "      <th>926159</th>\n",
       "      <td>AbG12J8+duO7mxS/6jlV2CKcabvLBUEUkvMNmfBx08A=</td>\n",
       "      <td>True</td>\n",
       "      <td>36.0</td>\n",
       "      <td>30.0</td>\n",
       "      <td>180.0</td>\n",
       "      <td>180.0</td>\n",
       "      <td>1.0</td>\n",
       "      <td>2017-03-31</td>\n",
       "      <td>2017-04-30</td>\n",
       "      <td>0.0</td>\n",
       "    </tr>\n",
       "  </tbody>\n",
       "</table>\n",
       "</div>"
      ],
      "text/plain": [
       "                                                msno  is_churn  \\\n",
       "926160  AbG12J8+duO7mxS/6jlV2CKcabvLBUEUkvMNmfBx08A=      True   \n",
       "926159  AbG12J8+duO7mxS/6jlV2CKcabvLBUEUkvMNmfBx08A=      True   \n",
       "\n",
       "        payment_method_id  payment_plan_days  plan_list_price  \\\n",
       "926160               40.0               30.0            149.0   \n",
       "926159               36.0               30.0            180.0   \n",
       "\n",
       "        actual_amount_paid  is_auto_renew transaction_date  \\\n",
       "926160               149.0            1.0       2017-03-01   \n",
       "926159               180.0            1.0       2017-03-31   \n",
       "\n",
       "       membership_expire_date  is_cancel  \n",
       "926160             2017-02-27        1.0  \n",
       "926159             2017-04-30        0.0  "
      ]
     },
     "execution_count": 334,
     "metadata": {},
     "output_type": "execute_result"
    }
   ],
   "source": [
    "train_transaction_02.query('msno==\"AbG12J8+duO7mxS/6jlV2CKcabvLBUEUkvMNmfBx08A=\"').sort_values(by=['transaction_date','membership_expire_date'], ascending=True)"
   ]
  },
  {
   "cell_type": "code",
   "execution_count": 236,
   "metadata": {},
   "outputs": [
    {
     "data": {
      "text/plain": [
       "count                    3412\n",
       "unique                    502\n",
       "top       2017-04-30 00:00:00\n",
       "freq                      185\n",
       "first     2017-02-27 00:00:00\n",
       "last      2022-03-05 00:00:00\n",
       "Name: membership_expire_date, dtype: object"
      ]
     },
     "execution_count": 236,
     "metadata": {},
     "output_type": "execute_result"
    }
   ],
   "source": [
    "train_churn_02.membership_expire_date.describe()"
   ]
  },
  {
   "cell_type": "code",
   "execution_count": 237,
   "metadata": {},
   "outputs": [
    {
     "data": {
      "text/plain": [
       "count                  911399\n",
       "unique                   1696\n",
       "top       2017-04-30 00:00:00\n",
       "freq                   108498\n",
       "first     2016-04-24 00:00:00\n",
       "last      2025-10-02 00:00:00\n",
       "Name: membership_expire_date, dtype: object"
      ]
     },
     "execution_count": 237,
     "metadata": {},
     "output_type": "execute_result"
    }
   ],
   "source": [
    "train_transaction_02.membership_expire_date.describe()"
   ]
  },
  {
   "cell_type": "code",
   "execution_count": 48,
   "metadata": {},
   "outputs": [
    {
     "data": {
      "text/html": [
       "<div>\n",
       "<style>\n",
       "    .dataframe thead tr:only-child th {\n",
       "        text-align: right;\n",
       "    }\n",
       "\n",
       "    .dataframe thead th {\n",
       "        text-align: left;\n",
       "    }\n",
       "\n",
       "    .dataframe tbody tr th {\n",
       "        vertical-align: top;\n",
       "    }\n",
       "</style>\n",
       "<table border=\"1\" class=\"dataframe\">\n",
       "  <thead>\n",
       "    <tr style=\"text-align: right;\">\n",
       "      <th></th>\n",
       "      <th>msno</th>\n",
       "      <th>is_churn</th>\n",
       "      <th>payment_method_id</th>\n",
       "      <th>payment_plan_days</th>\n",
       "      <th>plan_list_price</th>\n",
       "      <th>actual_amount_paid</th>\n",
       "      <th>is_auto_renew</th>\n",
       "      <th>transaction_date</th>\n",
       "      <th>membership_expire_date</th>\n",
       "      <th>is_cancel</th>\n",
       "    </tr>\n",
       "  </thead>\n",
       "  <tbody>\n",
       "    <tr>\n",
       "      <th>945601</th>\n",
       "      <td>P6ZmR8GabfFJ2D2uWaPDw8brfRXz81GfpCvQc10pzZY=</td>\n",
       "      <td>True</td>\n",
       "      <td>28.0</td>\n",
       "      <td>100.0</td>\n",
       "      <td>500.0</td>\n",
       "      <td>500.0</td>\n",
       "      <td>0.0</td>\n",
       "      <td>2017-02-23</td>\n",
       "      <td>2017-07-03</td>\n",
       "      <td>0.0</td>\n",
       "    </tr>\n",
       "  </tbody>\n",
       "</table>\n",
       "</div>"
      ],
      "text/plain": [
       "                                                msno  is_churn  \\\n",
       "945601  P6ZmR8GabfFJ2D2uWaPDw8brfRXz81GfpCvQc10pzZY=      True   \n",
       "\n",
       "        payment_method_id  payment_plan_days  plan_list_price  \\\n",
       "945601               28.0              100.0            500.0   \n",
       "\n",
       "        actual_amount_paid  is_auto_renew transaction_date  \\\n",
       "945601               500.0            0.0       2017-02-23   \n",
       "\n",
       "       membership_expire_date  is_cancel  \n",
       "945601             2017-07-03        0.0  "
      ]
     },
     "execution_count": 48,
     "metadata": {},
     "output_type": "execute_result"
    }
   ],
   "source": [
    "#train_transaction_02.query('msno==\"Ffb4sEnYuz00Uyc1NRP6/IpROMkZpEwIPGc/xsAcmxw=\"').sort_values(by=['transaction_date','membership_expire_date'], ascending=True)\n",
    "\n",
    "train_transaction_03.query('msno==\"P6ZmR8GabfFJ2D2uWaPDw8brfRXz81GfpCvQc10pzZY=\"').sort_values(by=['transaction_date','membership_expire_date'], ascending=True)\n",
    "\n",
    "#train_transaction_03.query('msno==\"FCAKQEhmsJ423mUbEZ/YaHnBTP2sAU2FEiz83Z4omx8=\"').sort_values(by=['transaction_date','membership_expire_date'], ascending=True)\n"
   ]
  },
  {
   "cell_type": "markdown",
   "metadata": {},
   "source": [
    "**Some finding**: \n",
    "\n",
    "Using the new labeled data, there are only 2829 users(0.3%) labeled as churn. We see that there are many users is labeled as churn but the memebership expires after February 2017. One possible reason that can make this happen is that their previous membership expires in February 2017 and they did renew their subscription within 30 days.\n",
    "\n",
    "Also, it seems that we don't have the transaction data for the transaction dates of which the membership_expire_date is before Feb 2017. In other words, we do not have these users behavoir before Feb 2017."
   ]
  },
  {
   "cell_type": "markdown",
   "metadata": {},
   "source": [
    "---"
   ]
  },
  {
   "cell_type": "markdown",
   "metadata": {},
   "source": [
    "## user_log"
   ]
  },
  {
   "cell_type": "markdown",
   "metadata": {},
   "source": [
    "daily user logs describing listening behaviors of a user. Data collected until 2/28/2017.\n",
    "\n",
    "* **msno**: user id\n",
    "* **date**: format %Y%m%d\n",
    "* **num_25**: # of songs played less than 25% of the song length\n",
    "* **num_50**: # of songs played between 25% to 50% of the song length\n",
    "* **num_75**: # of songs played between 50% to 75% of of the song length\n",
    "* **num_985**: # of songs played between 75% to 98.5% of the song length\n",
    "* **num_100**: # of songs played over 98.5% of the song length\n",
    "* **num_unq**: # of unique songs played\n",
    "* **total_secs**: total seconds played"
   ]
  },
  {
   "cell_type": "markdown",
   "metadata": {},
   "source": [
    "**Some Finding**:\n",
    "\n",
    "* There are 234707 out of 879537 users from the train_02 can not be matched to the user_log table."
   ]
  },
  {
   "cell_type": "code",
   "execution_count": 38,
   "metadata": {},
   "outputs": [],
   "source": [
    "user_log['date'] = pd.to_datetime(user_log['date'], format='%Y%m%d', errors='ignore')"
   ]
  },
  {
   "cell_type": "code",
   "execution_count": 49,
   "metadata": {},
   "outputs": [
    {
     "data": {
      "text/html": [
       "<div>\n",
       "<style>\n",
       "    .dataframe thead tr:only-child th {\n",
       "        text-align: right;\n",
       "    }\n",
       "\n",
       "    .dataframe thead th {\n",
       "        text-align: left;\n",
       "    }\n",
       "\n",
       "    .dataframe tbody tr th {\n",
       "        vertical-align: top;\n",
       "    }\n",
       "</style>\n",
       "<table border=\"1\" class=\"dataframe\">\n",
       "  <thead>\n",
       "    <tr style=\"text-align: right;\">\n",
       "      <th></th>\n",
       "      <th>msno</th>\n",
       "      <th>date</th>\n",
       "      <th>num_25</th>\n",
       "      <th>num_50</th>\n",
       "      <th>num_75</th>\n",
       "      <th>num_985</th>\n",
       "      <th>num_100</th>\n",
       "      <th>num_unq</th>\n",
       "      <th>total_secs</th>\n",
       "    </tr>\n",
       "  </thead>\n",
       "  <tbody>\n",
       "    <tr>\n",
       "      <th>9707774</th>\n",
       "      <td>P6ZmR8GabfFJ2D2uWaPDw8brfRXz81GfpCvQc10pzZY=</td>\n",
       "      <td>2017-03-01</td>\n",
       "      <td>0</td>\n",
       "      <td>0</td>\n",
       "      <td>0</td>\n",
       "      <td>0</td>\n",
       "      <td>3</td>\n",
       "      <td>3</td>\n",
       "      <td>675.730</td>\n",
       "    </tr>\n",
       "    <tr>\n",
       "      <th>13669181</th>\n",
       "      <td>P6ZmR8GabfFJ2D2uWaPDw8brfRXz81GfpCvQc10pzZY=</td>\n",
       "      <td>2017-03-03</td>\n",
       "      <td>4</td>\n",
       "      <td>0</td>\n",
       "      <td>1</td>\n",
       "      <td>0</td>\n",
       "      <td>13</td>\n",
       "      <td>12</td>\n",
       "      <td>3413.379</td>\n",
       "    </tr>\n",
       "    <tr>\n",
       "      <th>13168499</th>\n",
       "      <td>P6ZmR8GabfFJ2D2uWaPDw8brfRXz81GfpCvQc10pzZY=</td>\n",
       "      <td>2017-03-04</td>\n",
       "      <td>1</td>\n",
       "      <td>1</td>\n",
       "      <td>1</td>\n",
       "      <td>0</td>\n",
       "      <td>25</td>\n",
       "      <td>27</td>\n",
       "      <td>6399.763</td>\n",
       "    </tr>\n",
       "    <tr>\n",
       "      <th>16351222</th>\n",
       "      <td>P6ZmR8GabfFJ2D2uWaPDw8brfRXz81GfpCvQc10pzZY=</td>\n",
       "      <td>2017-03-06</td>\n",
       "      <td>1</td>\n",
       "      <td>0</td>\n",
       "      <td>0</td>\n",
       "      <td>0</td>\n",
       "      <td>11</td>\n",
       "      <td>12</td>\n",
       "      <td>2605.405</td>\n",
       "    </tr>\n",
       "    <tr>\n",
       "      <th>3891278</th>\n",
       "      <td>P6ZmR8GabfFJ2D2uWaPDw8brfRXz81GfpCvQc10pzZY=</td>\n",
       "      <td>2017-03-07</td>\n",
       "      <td>1</td>\n",
       "      <td>2</td>\n",
       "      <td>4</td>\n",
       "      <td>0</td>\n",
       "      <td>17</td>\n",
       "      <td>15</td>\n",
       "      <td>4710.009</td>\n",
       "    </tr>\n",
       "    <tr>\n",
       "      <th>7923366</th>\n",
       "      <td>P6ZmR8GabfFJ2D2uWaPDw8brfRXz81GfpCvQc10pzZY=</td>\n",
       "      <td>2017-03-10</td>\n",
       "      <td>2</td>\n",
       "      <td>0</td>\n",
       "      <td>0</td>\n",
       "      <td>1</td>\n",
       "      <td>14</td>\n",
       "      <td>16</td>\n",
       "      <td>3635.931</td>\n",
       "    </tr>\n",
       "    <tr>\n",
       "      <th>4982320</th>\n",
       "      <td>P6ZmR8GabfFJ2D2uWaPDw8brfRXz81GfpCvQc10pzZY=</td>\n",
       "      <td>2017-03-11</td>\n",
       "      <td>0</td>\n",
       "      <td>0</td>\n",
       "      <td>0</td>\n",
       "      <td>0</td>\n",
       "      <td>60</td>\n",
       "      <td>60</td>\n",
       "      <td>14396.217</td>\n",
       "    </tr>\n",
       "    <tr>\n",
       "      <th>4825521</th>\n",
       "      <td>P6ZmR8GabfFJ2D2uWaPDw8brfRXz81GfpCvQc10pzZY=</td>\n",
       "      <td>2017-03-14</td>\n",
       "      <td>0</td>\n",
       "      <td>1</td>\n",
       "      <td>0</td>\n",
       "      <td>0</td>\n",
       "      <td>10</td>\n",
       "      <td>11</td>\n",
       "      <td>2292.703</td>\n",
       "    </tr>\n",
       "    <tr>\n",
       "      <th>12741332</th>\n",
       "      <td>P6ZmR8GabfFJ2D2uWaPDw8brfRXz81GfpCvQc10pzZY=</td>\n",
       "      <td>2017-03-16</td>\n",
       "      <td>1</td>\n",
       "      <td>1</td>\n",
       "      <td>1</td>\n",
       "      <td>2</td>\n",
       "      <td>12</td>\n",
       "      <td>15</td>\n",
       "      <td>3389.358</td>\n",
       "    </tr>\n",
       "    <tr>\n",
       "      <th>17157973</th>\n",
       "      <td>P6ZmR8GabfFJ2D2uWaPDw8brfRXz81GfpCvQc10pzZY=</td>\n",
       "      <td>2017-03-17</td>\n",
       "      <td>0</td>\n",
       "      <td>1</td>\n",
       "      <td>2</td>\n",
       "      <td>0</td>\n",
       "      <td>43</td>\n",
       "      <td>37</td>\n",
       "      <td>10415.510</td>\n",
       "    </tr>\n",
       "    <tr>\n",
       "      <th>13758</th>\n",
       "      <td>P6ZmR8GabfFJ2D2uWaPDw8brfRXz81GfpCvQc10pzZY=</td>\n",
       "      <td>2017-03-19</td>\n",
       "      <td>27</td>\n",
       "      <td>0</td>\n",
       "      <td>2</td>\n",
       "      <td>1</td>\n",
       "      <td>12</td>\n",
       "      <td>35</td>\n",
       "      <td>3320.144</td>\n",
       "    </tr>\n",
       "    <tr>\n",
       "      <th>16826142</th>\n",
       "      <td>P6ZmR8GabfFJ2D2uWaPDw8brfRXz81GfpCvQc10pzZY=</td>\n",
       "      <td>2017-03-21</td>\n",
       "      <td>9</td>\n",
       "      <td>2</td>\n",
       "      <td>3</td>\n",
       "      <td>2</td>\n",
       "      <td>15</td>\n",
       "      <td>12</td>\n",
       "      <td>5361.188</td>\n",
       "    </tr>\n",
       "    <tr>\n",
       "      <th>2692732</th>\n",
       "      <td>P6ZmR8GabfFJ2D2uWaPDw8brfRXz81GfpCvQc10pzZY=</td>\n",
       "      <td>2017-03-22</td>\n",
       "      <td>0</td>\n",
       "      <td>2</td>\n",
       "      <td>2</td>\n",
       "      <td>1</td>\n",
       "      <td>22</td>\n",
       "      <td>13</td>\n",
       "      <td>6249.502</td>\n",
       "    </tr>\n",
       "    <tr>\n",
       "      <th>698634</th>\n",
       "      <td>P6ZmR8GabfFJ2D2uWaPDw8brfRXz81GfpCvQc10pzZY=</td>\n",
       "      <td>2017-03-23</td>\n",
       "      <td>0</td>\n",
       "      <td>0</td>\n",
       "      <td>0</td>\n",
       "      <td>0</td>\n",
       "      <td>2</td>\n",
       "      <td>2</td>\n",
       "      <td>479.291</td>\n",
       "    </tr>\n",
       "    <tr>\n",
       "      <th>17272476</th>\n",
       "      <td>P6ZmR8GabfFJ2D2uWaPDw8brfRXz81GfpCvQc10pzZY=</td>\n",
       "      <td>2017-03-24</td>\n",
       "      <td>1</td>\n",
       "      <td>0</td>\n",
       "      <td>2</td>\n",
       "      <td>0</td>\n",
       "      <td>13</td>\n",
       "      <td>11</td>\n",
       "      <td>3331.984</td>\n",
       "    </tr>\n",
       "    <tr>\n",
       "      <th>13596572</th>\n",
       "      <td>P6ZmR8GabfFJ2D2uWaPDw8brfRXz81GfpCvQc10pzZY=</td>\n",
       "      <td>2017-03-25</td>\n",
       "      <td>18</td>\n",
       "      <td>2</td>\n",
       "      <td>1</td>\n",
       "      <td>1</td>\n",
       "      <td>39</td>\n",
       "      <td>50</td>\n",
       "      <td>10222.762</td>\n",
       "    </tr>\n",
       "    <tr>\n",
       "      <th>6060095</th>\n",
       "      <td>P6ZmR8GabfFJ2D2uWaPDw8brfRXz81GfpCvQc10pzZY=</td>\n",
       "      <td>2017-03-26</td>\n",
       "      <td>1</td>\n",
       "      <td>1</td>\n",
       "      <td>0</td>\n",
       "      <td>0</td>\n",
       "      <td>3</td>\n",
       "      <td>3</td>\n",
       "      <td>766.620</td>\n",
       "    </tr>\n",
       "    <tr>\n",
       "      <th>14889143</th>\n",
       "      <td>P6ZmR8GabfFJ2D2uWaPDw8brfRXz81GfpCvQc10pzZY=</td>\n",
       "      <td>2017-03-27</td>\n",
       "      <td>4</td>\n",
       "      <td>1</td>\n",
       "      <td>2</td>\n",
       "      <td>2</td>\n",
       "      <td>25</td>\n",
       "      <td>19</td>\n",
       "      <td>7262.550</td>\n",
       "    </tr>\n",
       "    <tr>\n",
       "      <th>2609251</th>\n",
       "      <td>P6ZmR8GabfFJ2D2uWaPDw8brfRXz81GfpCvQc10pzZY=</td>\n",
       "      <td>2017-03-28</td>\n",
       "      <td>4</td>\n",
       "      <td>2</td>\n",
       "      <td>2</td>\n",
       "      <td>0</td>\n",
       "      <td>20</td>\n",
       "      <td>13</td>\n",
       "      <td>5967.407</td>\n",
       "    </tr>\n",
       "    <tr>\n",
       "      <th>11453844</th>\n",
       "      <td>P6ZmR8GabfFJ2D2uWaPDw8brfRXz81GfpCvQc10pzZY=</td>\n",
       "      <td>2017-03-29</td>\n",
       "      <td>0</td>\n",
       "      <td>1</td>\n",
       "      <td>0</td>\n",
       "      <td>1</td>\n",
       "      <td>8</td>\n",
       "      <td>10</td>\n",
       "      <td>2264.739</td>\n",
       "    </tr>\n",
       "    <tr>\n",
       "      <th>14456709</th>\n",
       "      <td>P6ZmR8GabfFJ2D2uWaPDw8brfRXz81GfpCvQc10pzZY=</td>\n",
       "      <td>2017-03-30</td>\n",
       "      <td>0</td>\n",
       "      <td>0</td>\n",
       "      <td>1</td>\n",
       "      <td>1</td>\n",
       "      <td>3</td>\n",
       "      <td>3</td>\n",
       "      <td>1023.111</td>\n",
       "    </tr>\n",
       "    <tr>\n",
       "      <th>15050852</th>\n",
       "      <td>P6ZmR8GabfFJ2D2uWaPDw8brfRXz81GfpCvQc10pzZY=</td>\n",
       "      <td>2017-03-31</td>\n",
       "      <td>5</td>\n",
       "      <td>0</td>\n",
       "      <td>0</td>\n",
       "      <td>1</td>\n",
       "      <td>55</td>\n",
       "      <td>59</td>\n",
       "      <td>13555.448</td>\n",
       "    </tr>\n",
       "  </tbody>\n",
       "</table>\n",
       "</div>"
      ],
      "text/plain": [
       "                                                  msno       date  num_25  \\\n",
       "9707774   P6ZmR8GabfFJ2D2uWaPDw8brfRXz81GfpCvQc10pzZY= 2017-03-01       0   \n",
       "13669181  P6ZmR8GabfFJ2D2uWaPDw8brfRXz81GfpCvQc10pzZY= 2017-03-03       4   \n",
       "13168499  P6ZmR8GabfFJ2D2uWaPDw8brfRXz81GfpCvQc10pzZY= 2017-03-04       1   \n",
       "16351222  P6ZmR8GabfFJ2D2uWaPDw8brfRXz81GfpCvQc10pzZY= 2017-03-06       1   \n",
       "3891278   P6ZmR8GabfFJ2D2uWaPDw8brfRXz81GfpCvQc10pzZY= 2017-03-07       1   \n",
       "7923366   P6ZmR8GabfFJ2D2uWaPDw8brfRXz81GfpCvQc10pzZY= 2017-03-10       2   \n",
       "4982320   P6ZmR8GabfFJ2D2uWaPDw8brfRXz81GfpCvQc10pzZY= 2017-03-11       0   \n",
       "4825521   P6ZmR8GabfFJ2D2uWaPDw8brfRXz81GfpCvQc10pzZY= 2017-03-14       0   \n",
       "12741332  P6ZmR8GabfFJ2D2uWaPDw8brfRXz81GfpCvQc10pzZY= 2017-03-16       1   \n",
       "17157973  P6ZmR8GabfFJ2D2uWaPDw8brfRXz81GfpCvQc10pzZY= 2017-03-17       0   \n",
       "13758     P6ZmR8GabfFJ2D2uWaPDw8brfRXz81GfpCvQc10pzZY= 2017-03-19      27   \n",
       "16826142  P6ZmR8GabfFJ2D2uWaPDw8brfRXz81GfpCvQc10pzZY= 2017-03-21       9   \n",
       "2692732   P6ZmR8GabfFJ2D2uWaPDw8brfRXz81GfpCvQc10pzZY= 2017-03-22       0   \n",
       "698634    P6ZmR8GabfFJ2D2uWaPDw8brfRXz81GfpCvQc10pzZY= 2017-03-23       0   \n",
       "17272476  P6ZmR8GabfFJ2D2uWaPDw8brfRXz81GfpCvQc10pzZY= 2017-03-24       1   \n",
       "13596572  P6ZmR8GabfFJ2D2uWaPDw8brfRXz81GfpCvQc10pzZY= 2017-03-25      18   \n",
       "6060095   P6ZmR8GabfFJ2D2uWaPDw8brfRXz81GfpCvQc10pzZY= 2017-03-26       1   \n",
       "14889143  P6ZmR8GabfFJ2D2uWaPDw8brfRXz81GfpCvQc10pzZY= 2017-03-27       4   \n",
       "2609251   P6ZmR8GabfFJ2D2uWaPDw8brfRXz81GfpCvQc10pzZY= 2017-03-28       4   \n",
       "11453844  P6ZmR8GabfFJ2D2uWaPDw8brfRXz81GfpCvQc10pzZY= 2017-03-29       0   \n",
       "14456709  P6ZmR8GabfFJ2D2uWaPDw8brfRXz81GfpCvQc10pzZY= 2017-03-30       0   \n",
       "15050852  P6ZmR8GabfFJ2D2uWaPDw8brfRXz81GfpCvQc10pzZY= 2017-03-31       5   \n",
       "\n",
       "          num_50  num_75  num_985  num_100  num_unq  total_secs  \n",
       "9707774        0       0        0        3        3     675.730  \n",
       "13669181       0       1        0       13       12    3413.379  \n",
       "13168499       1       1        0       25       27    6399.763  \n",
       "16351222       0       0        0       11       12    2605.405  \n",
       "3891278        2       4        0       17       15    4710.009  \n",
       "7923366        0       0        1       14       16    3635.931  \n",
       "4982320        0       0        0       60       60   14396.217  \n",
       "4825521        1       0        0       10       11    2292.703  \n",
       "12741332       1       1        2       12       15    3389.358  \n",
       "17157973       1       2        0       43       37   10415.510  \n",
       "13758          0       2        1       12       35    3320.144  \n",
       "16826142       2       3        2       15       12    5361.188  \n",
       "2692732        2       2        1       22       13    6249.502  \n",
       "698634         0       0        0        2        2     479.291  \n",
       "17272476       0       2        0       13       11    3331.984  \n",
       "13596572       2       1        1       39       50   10222.762  \n",
       "6060095        1       0        0        3        3     766.620  \n",
       "14889143       1       2        2       25       19    7262.550  \n",
       "2609251        2       2        0       20       13    5967.407  \n",
       "11453844       1       0        1        8       10    2264.739  \n",
       "14456709       0       1        1        3        3    1023.111  \n",
       "15050852       0       0        1       55       59   13555.448  "
      ]
     },
     "execution_count": 49,
     "metadata": {},
     "output_type": "execute_result"
    }
   ],
   "source": [
    "user_log.query('msno==\"P6ZmR8GabfFJ2D2uWaPDw8brfRXz81GfpCvQc10pzZY=\"').sort_values(by=['date'])"
   ]
  },
  {
   "cell_type": "code",
   "execution_count": 257,
   "metadata": {},
   "outputs": [
    {
     "data": {
      "text/html": [
       "<div>\n",
       "<style>\n",
       "    .dataframe thead tr:only-child th {\n",
       "        text-align: right;\n",
       "    }\n",
       "\n",
       "    .dataframe thead th {\n",
       "        text-align: left;\n",
       "    }\n",
       "\n",
       "    .dataframe tbody tr th {\n",
       "        vertical-align: top;\n",
       "    }\n",
       "</style>\n",
       "<table border=\"1\" class=\"dataframe\">\n",
       "  <thead>\n",
       "    <tr style=\"text-align: right;\">\n",
       "      <th></th>\n",
       "      <th>msno</th>\n",
       "      <th>date</th>\n",
       "      <th>num_25</th>\n",
       "      <th>num_50</th>\n",
       "      <th>num_75</th>\n",
       "      <th>num_985</th>\n",
       "      <th>num_100</th>\n",
       "      <th>num_unq</th>\n",
       "      <th>total_secs</th>\n",
       "    </tr>\n",
       "  </thead>\n",
       "  <tbody>\n",
       "    <tr>\n",
       "      <th>0</th>\n",
       "      <td>u9E91QDTvHLq6NXjEaWv8u4QIqhrHk72kE+w31Gnhdg=</td>\n",
       "      <td>20170331</td>\n",
       "      <td>8</td>\n",
       "      <td>4</td>\n",
       "      <td>0</td>\n",
       "      <td>1</td>\n",
       "      <td>21</td>\n",
       "      <td>18</td>\n",
       "      <td>6309.273</td>\n",
       "    </tr>\n",
       "    <tr>\n",
       "      <th>1</th>\n",
       "      <td>nTeWW/eOZA/UHKdD5L7DEqKKFTjaAj3ALLPoAWsU8n0=</td>\n",
       "      <td>20170330</td>\n",
       "      <td>2</td>\n",
       "      <td>2</td>\n",
       "      <td>1</td>\n",
       "      <td>0</td>\n",
       "      <td>9</td>\n",
       "      <td>11</td>\n",
       "      <td>2390.699</td>\n",
       "    </tr>\n",
       "    <tr>\n",
       "      <th>2</th>\n",
       "      <td>2UqkWXwZbIjs03dHLU9KHJNNEvEkZVzm69f3jCS+uLI=</td>\n",
       "      <td>20170331</td>\n",
       "      <td>52</td>\n",
       "      <td>3</td>\n",
       "      <td>5</td>\n",
       "      <td>3</td>\n",
       "      <td>84</td>\n",
       "      <td>110</td>\n",
       "      <td>23203.337</td>\n",
       "    </tr>\n",
       "    <tr>\n",
       "      <th>3</th>\n",
       "      <td>ycwLc+m2O0a85jSLALtr941AaZt9ai8Qwlg9n0Nql5U=</td>\n",
       "      <td>20170331</td>\n",
       "      <td>176</td>\n",
       "      <td>4</td>\n",
       "      <td>2</td>\n",
       "      <td>2</td>\n",
       "      <td>19</td>\n",
       "      <td>191</td>\n",
       "      <td>7100.454</td>\n",
       "    </tr>\n",
       "    <tr>\n",
       "      <th>4</th>\n",
       "      <td>EGcbTofOSOkMmQyN1NMLxHEXJ1yV3t/JdhGwQ9wXjnI=</td>\n",
       "      <td>20170331</td>\n",
       "      <td>2</td>\n",
       "      <td>1</td>\n",
       "      <td>0</td>\n",
       "      <td>1</td>\n",
       "      <td>112</td>\n",
       "      <td>93</td>\n",
       "      <td>28401.558</td>\n",
       "    </tr>\n",
       "  </tbody>\n",
       "</table>\n",
       "</div>"
      ],
      "text/plain": [
       "                                           msno      date  num_25  num_50  \\\n",
       "0  u9E91QDTvHLq6NXjEaWv8u4QIqhrHk72kE+w31Gnhdg=  20170331       8       4   \n",
       "1  nTeWW/eOZA/UHKdD5L7DEqKKFTjaAj3ALLPoAWsU8n0=  20170330       2       2   \n",
       "2  2UqkWXwZbIjs03dHLU9KHJNNEvEkZVzm69f3jCS+uLI=  20170331      52       3   \n",
       "3  ycwLc+m2O0a85jSLALtr941AaZt9ai8Qwlg9n0Nql5U=  20170331     176       4   \n",
       "4  EGcbTofOSOkMmQyN1NMLxHEXJ1yV3t/JdhGwQ9wXjnI=  20170331       2       1   \n",
       "\n",
       "   num_75  num_985  num_100  num_unq  total_secs  \n",
       "0       0        1       21       18    6309.273  \n",
       "1       1        0        9       11    2390.699  \n",
       "2       5        3       84      110   23203.337  \n",
       "3       2        2       19      191    7100.454  \n",
       "4       0        1      112       93   28401.558  "
      ]
     },
     "execution_count": 257,
     "metadata": {},
     "output_type": "execute_result"
    }
   ],
   "source": [
    "user_log.head()"
   ]
  },
  {
   "cell_type": "code",
   "execution_count": null,
   "metadata": {
    "collapsed": true
   },
   "outputs": [],
   "source": [
    "user_log_group = user_log.groupby(['msno']).agg({'num_25':np.mean, \n",
    "                                'num_50':np.mean, \n",
    "                                'num_75':np.mean, \n",
    "                                'num_985':np.mean, \n",
    "                                'num_100':np.mean, \n",
    "                               'num_unq': np.mean,\n",
    "                               'total_secs': np.mean}).reset_index()"
   ]
  },
  {
   "cell_type": "code",
   "execution_count": 259,
   "metadata": {},
   "outputs": [
    {
     "data": {
      "text/plain": [
       "True     701787\n",
       "False    209612\n",
       "Name: msno, dtype: int64"
      ]
     },
     "execution_count": 259,
     "metadata": {},
     "output_type": "execute_result"
    }
   ],
   "source": [
    "train_transaction_02.msno.isin(user_log_group.msno).value_counts()"
   ]
  },
  {
   "cell_type": "code",
   "execution_count": 260,
   "metadata": {
    "collapsed": true
   },
   "outputs": [],
   "source": [
    "train_user_02 = pd.merge(train_201702, user_log_group, on='msno', how='left')"
   ]
  },
  {
   "cell_type": "code",
   "execution_count": 261,
   "metadata": {},
   "outputs": [
    {
     "data": {
      "text/plain": [
       "(879537, 9)"
      ]
     },
     "execution_count": 261,
     "metadata": {},
     "output_type": "execute_result"
    }
   ],
   "source": [
    "train_user_02.shape"
   ]
  },
  {
   "cell_type": "code",
   "execution_count": 316,
   "metadata": {},
   "outputs": [
    {
     "data": {
      "text/html": [
       "<div>\n",
       "<style>\n",
       "    .dataframe thead tr:only-child th {\n",
       "        text-align: right;\n",
       "    }\n",
       "\n",
       "    .dataframe thead th {\n",
       "        text-align: left;\n",
       "    }\n",
       "\n",
       "    .dataframe tbody tr th {\n",
       "        vertical-align: top;\n",
       "    }\n",
       "</style>\n",
       "<table border=\"1\" class=\"dataframe\">\n",
       "  <thead>\n",
       "    <tr style=\"text-align: right;\">\n",
       "      <th></th>\n",
       "      <th>msno</th>\n",
       "      <th>is_churn</th>\n",
       "      <th>num_25</th>\n",
       "      <th>num_50</th>\n",
       "      <th>num_75</th>\n",
       "      <th>num_985</th>\n",
       "      <th>num_100</th>\n",
       "      <th>num_unq</th>\n",
       "      <th>total_secs</th>\n",
       "    </tr>\n",
       "  </thead>\n",
       "  <tbody>\n",
       "    <tr>\n",
       "      <th>0</th>\n",
       "      <td>++4RuqBw0Ss6bQU4oMxaRlbBPoWzoEiIZaxPM04Y4+U=</td>\n",
       "      <td>False</td>\n",
       "      <td>14.000000</td>\n",
       "      <td>1.000000</td>\n",
       "      <td>0.000000</td>\n",
       "      <td>0.000000</td>\n",
       "      <td>9.000000</td>\n",
       "      <td>24.000000</td>\n",
       "      <td>2362.332000</td>\n",
       "    </tr>\n",
       "    <tr>\n",
       "      <th>2</th>\n",
       "      <td>+/namlXq+u3izRjHCFJV4MgqcXcLidZYszVsROOq/y4=</td>\n",
       "      <td>False</td>\n",
       "      <td>42.173913</td>\n",
       "      <td>2.521739</td>\n",
       "      <td>1.086957</td>\n",
       "      <td>0.869565</td>\n",
       "      <td>30.217391</td>\n",
       "      <td>72.304348</td>\n",
       "      <td>8540.991739</td>\n",
       "    </tr>\n",
       "    <tr>\n",
       "      <th>3</th>\n",
       "      <td>+0/X9tkmyHyet9X80G6GTrDFHnJqvai8d1ZPhayT0os=</td>\n",
       "      <td>False</td>\n",
       "      <td>11.500000</td>\n",
       "      <td>0.833333</td>\n",
       "      <td>0.633333</td>\n",
       "      <td>1.033333</td>\n",
       "      <td>34.966667</td>\n",
       "      <td>24.566667</td>\n",
       "      <td>8823.093700</td>\n",
       "    </tr>\n",
       "    <tr>\n",
       "      <th>4</th>\n",
       "      <td>+09YGn842g6h2EZUXe0VWeC4bBoCbDGfUboitc0vIHw=</td>\n",
       "      <td>False</td>\n",
       "      <td>4.166667</td>\n",
       "      <td>1.125000</td>\n",
       "      <td>0.500000</td>\n",
       "      <td>0.583333</td>\n",
       "      <td>48.458333</td>\n",
       "      <td>42.541667</td>\n",
       "      <td>12348.791125</td>\n",
       "    </tr>\n",
       "    <tr>\n",
       "      <th>5</th>\n",
       "      <td>+0l+FDuhyjaZnu0APnrg5L9QqgaRw4RmdQMvqOtKDmU=</td>\n",
       "      <td>False</td>\n",
       "      <td>10.857143</td>\n",
       "      <td>1.761905</td>\n",
       "      <td>1.000000</td>\n",
       "      <td>0.904762</td>\n",
       "      <td>31.380952</td>\n",
       "      <td>36.142857</td>\n",
       "      <td>8320.127333</td>\n",
       "    </tr>\n",
       "  </tbody>\n",
       "</table>\n",
       "</div>"
      ],
      "text/plain": [
       "                                           msno  is_churn     num_25  \\\n",
       "0  ++4RuqBw0Ss6bQU4oMxaRlbBPoWzoEiIZaxPM04Y4+U=     False  14.000000   \n",
       "2  +/namlXq+u3izRjHCFJV4MgqcXcLidZYszVsROOq/y4=     False  42.173913   \n",
       "3  +0/X9tkmyHyet9X80G6GTrDFHnJqvai8d1ZPhayT0os=     False  11.500000   \n",
       "4  +09YGn842g6h2EZUXe0VWeC4bBoCbDGfUboitc0vIHw=     False   4.166667   \n",
       "5  +0l+FDuhyjaZnu0APnrg5L9QqgaRw4RmdQMvqOtKDmU=     False  10.857143   \n",
       "\n",
       "     num_50    num_75   num_985    num_100    num_unq    total_secs  \n",
       "0  1.000000  0.000000  0.000000   9.000000  24.000000   2362.332000  \n",
       "2  2.521739  1.086957  0.869565  30.217391  72.304348   8540.991739  \n",
       "3  0.833333  0.633333  1.033333  34.966667  24.566667   8823.093700  \n",
       "4  1.125000  0.500000  0.583333  48.458333  42.541667  12348.791125  \n",
       "5  1.761905  1.000000  0.904762  31.380952  36.142857   8320.127333  "
      ]
     },
     "execution_count": 316,
     "metadata": {},
     "output_type": "execute_result"
    }
   ],
   "source": [
    "train_user_02.head()"
   ]
  },
  {
   "cell_type": "code",
   "execution_count": 313,
   "metadata": {
    "collapsed": true
   },
   "outputs": [],
   "source": [
    "train_user_02 = train_user_02[train_user_02['num_25'].notnull()]"
   ]
  },
  {
   "cell_type": "code",
   "execution_count": 314,
   "metadata": {},
   "outputs": [
    {
     "data": {
      "text/plain": [
       "(644830, 9)"
      ]
     },
     "execution_count": 314,
     "metadata": {},
     "output_type": "execute_result"
    }
   ],
   "source": [
    "train_user_02.shape"
   ]
  },
  {
   "cell_type": "code",
   "execution_count": 315,
   "metadata": {},
   "outputs": [
    {
     "data": {
      "text/html": [
       "<div>\n",
       "<style>\n",
       "    .dataframe thead tr:only-child th {\n",
       "        text-align: right;\n",
       "    }\n",
       "\n",
       "    .dataframe thead th {\n",
       "        text-align: left;\n",
       "    }\n",
       "\n",
       "    .dataframe tbody tr th {\n",
       "        vertical-align: top;\n",
       "    }\n",
       "</style>\n",
       "<table border=\"1\" class=\"dataframe\">\n",
       "  <thead>\n",
       "    <tr style=\"text-align: right;\">\n",
       "      <th></th>\n",
       "      <th>msno</th>\n",
       "    </tr>\n",
       "    <tr>\n",
       "      <th>is_churn</th>\n",
       "      <th></th>\n",
       "    </tr>\n",
       "  </thead>\n",
       "  <tbody>\n",
       "    <tr>\n",
       "      <th>False</th>\n",
       "      <td>639008</td>\n",
       "    </tr>\n",
       "    <tr>\n",
       "      <th>True</th>\n",
       "      <td>5822</td>\n",
       "    </tr>\n",
       "  </tbody>\n",
       "</table>\n",
       "</div>"
      ],
      "text/plain": [
       "            msno\n",
       "is_churn        \n",
       "False     639008\n",
       "True        5822"
      ]
     },
     "execution_count": 315,
     "metadata": {},
     "output_type": "execute_result"
    }
   ],
   "source": [
    "train_user_02.groupby(['is_churn']).agg({'msno': 'nunique'})"
   ]
  },
  {
   "cell_type": "markdown",
   "metadata": {},
   "source": [
    "---"
   ]
  },
  {
   "cell_type": "markdown",
   "metadata": {},
   "source": [
    "## member"
   ]
  },
  {
   "cell_type": "markdown",
   "metadata": {},
   "source": [
    "user information. Note that not every user in the dataset is available. Refreshed 11/13/2017, replaces members.csv data with the expiration date data removed.\n",
    "\n",
    "* **msno**\n",
    "* **city**\n",
    "* **bd**: age. Note: this column has outlier values ranging from -7000 to 2015, please use your judgement.\n",
    "* **gender**\n",
    "* **registered_via**: registration method\n",
    "* **registration_init_time**: format %Y%m%d\n",
    "* **expiration_date**: format %Y%m%d, taken as a snapshot at which the member.csv is extracted. Not representing the actual churn behavior.\n"
   ]
  },
  {
   "cell_type": "markdown",
   "metadata": {},
   "source": [
    "**Some Finding**\n",
    "\n",
    "* There are 110860 out of 879537 users from the train_02 can not be matched to the member table.\n",
    "* The value of gender for around 60% of user are NA."
   ]
  },
  {
   "cell_type": "code",
   "execution_count": 280,
   "metadata": {},
   "outputs": [
    {
     "data": {
      "text/html": [
       "<div>\n",
       "<style>\n",
       "    .dataframe thead tr:only-child th {\n",
       "        text-align: right;\n",
       "    }\n",
       "\n",
       "    .dataframe thead th {\n",
       "        text-align: left;\n",
       "    }\n",
       "\n",
       "    .dataframe tbody tr th {\n",
       "        vertical-align: top;\n",
       "    }\n",
       "</style>\n",
       "<table border=\"1\" class=\"dataframe\">\n",
       "  <thead>\n",
       "    <tr style=\"text-align: right;\">\n",
       "      <th></th>\n",
       "      <th>msno</th>\n",
       "      <th>city</th>\n",
       "      <th>bd</th>\n",
       "      <th>gender</th>\n",
       "      <th>registered_via</th>\n",
       "      <th>registration_init_time</th>\n",
       "    </tr>\n",
       "  </thead>\n",
       "  <tbody>\n",
       "    <tr>\n",
       "      <th>0</th>\n",
       "      <td>Rb9UwLQTrxzBVwCB6+bCcSQWZ9JiNLC9dXtM1oEsZA8=</td>\n",
       "      <td>1</td>\n",
       "      <td>0</td>\n",
       "      <td>NaN</td>\n",
       "      <td>11</td>\n",
       "      <td>20110911</td>\n",
       "    </tr>\n",
       "    <tr>\n",
       "      <th>1</th>\n",
       "      <td>+tJonkh+O1CA796Fm5X60UMOtB6POHAwPjbTRVl/EuU=</td>\n",
       "      <td>1</td>\n",
       "      <td>0</td>\n",
       "      <td>NaN</td>\n",
       "      <td>7</td>\n",
       "      <td>20110914</td>\n",
       "    </tr>\n",
       "    <tr>\n",
       "      <th>2</th>\n",
       "      <td>cV358ssn7a0f7jZOwGNWS07wCKVqxyiImJUX6xcIwKw=</td>\n",
       "      <td>1</td>\n",
       "      <td>0</td>\n",
       "      <td>NaN</td>\n",
       "      <td>11</td>\n",
       "      <td>20110915</td>\n",
       "    </tr>\n",
       "    <tr>\n",
       "      <th>3</th>\n",
       "      <td>9bzDeJP6sQodK73K5CBlJ6fgIQzPeLnRl0p5B77XP+g=</td>\n",
       "      <td>1</td>\n",
       "      <td>0</td>\n",
       "      <td>NaN</td>\n",
       "      <td>11</td>\n",
       "      <td>20110915</td>\n",
       "    </tr>\n",
       "    <tr>\n",
       "      <th>4</th>\n",
       "      <td>WFLY3s7z4EZsieHCt63XrsdtfTEmJ+2PnnKLH5GY4Tk=</td>\n",
       "      <td>6</td>\n",
       "      <td>32</td>\n",
       "      <td>female</td>\n",
       "      <td>9</td>\n",
       "      <td>20110915</td>\n",
       "    </tr>\n",
       "  </tbody>\n",
       "</table>\n",
       "</div>"
      ],
      "text/plain": [
       "                                           msno  city  bd  gender  \\\n",
       "0  Rb9UwLQTrxzBVwCB6+bCcSQWZ9JiNLC9dXtM1oEsZA8=     1   0     NaN   \n",
       "1  +tJonkh+O1CA796Fm5X60UMOtB6POHAwPjbTRVl/EuU=     1   0     NaN   \n",
       "2  cV358ssn7a0f7jZOwGNWS07wCKVqxyiImJUX6xcIwKw=     1   0     NaN   \n",
       "3  9bzDeJP6sQodK73K5CBlJ6fgIQzPeLnRl0p5B77XP+g=     1   0     NaN   \n",
       "4  WFLY3s7z4EZsieHCt63XrsdtfTEmJ+2PnnKLH5GY4Tk=     6  32  female   \n",
       "\n",
       "   registered_via  registration_init_time  \n",
       "0              11                20110911  \n",
       "1               7                20110914  \n",
       "2              11                20110915  \n",
       "3              11                20110915  \n",
       "4               9                20110915  "
      ]
     },
     "execution_count": 280,
     "metadata": {},
     "output_type": "execute_result"
    }
   ],
   "source": [
    "member.head()"
   ]
  },
  {
   "cell_type": "code",
   "execution_count": 273,
   "metadata": {},
   "outputs": [
    {
     "data": {
      "text/plain": [
       "(6769473, 6)"
      ]
     },
     "execution_count": 273,
     "metadata": {},
     "output_type": "execute_result"
    }
   ],
   "source": [
    "member.shape"
   ]
  },
  {
   "cell_type": "code",
   "execution_count": 274,
   "metadata": {},
   "outputs": [
    {
     "data": {
      "text/plain": [
       "6769473"
      ]
     },
     "execution_count": 274,
     "metadata": {},
     "output_type": "execute_result"
    }
   ],
   "source": [
    "len(member.msno.unique())"
   ]
  },
  {
   "cell_type": "code",
   "execution_count": 276,
   "metadata": {
    "collapsed": true
   },
   "outputs": [],
   "source": [
    "train_member_02 = pd.merge(train_201702, member, on='msno', how='left')"
   ]
  },
  {
   "cell_type": "code",
   "execution_count": 277,
   "metadata": {},
   "outputs": [
    {
     "data": {
      "text/plain": [
       "(879537, 7)"
      ]
     },
     "execution_count": 277,
     "metadata": {},
     "output_type": "execute_result"
    }
   ],
   "source": [
    "train_member_02.shape"
   ]
  },
  {
   "cell_type": "code",
   "execution_count": 278,
   "metadata": {
    "collapsed": true
   },
   "outputs": [],
   "source": [
    "train_member_02 = train_member_02[train_member_02['city'].notnull()]"
   ]
  },
  {
   "cell_type": "code",
   "execution_count": 279,
   "metadata": {},
   "outputs": [
    {
     "data": {
      "text/plain": [
       "(768677, 7)"
      ]
     },
     "execution_count": 279,
     "metadata": {},
     "output_type": "execute_result"
    }
   ],
   "source": [
    "train_member_02.shape"
   ]
  },
  {
   "cell_type": "code",
   "execution_count": 281,
   "metadata": {},
   "outputs": [
    {
     "data": {
      "text/plain": [
       "110860"
      ]
     },
     "execution_count": 281,
     "metadata": {},
     "output_type": "execute_result"
    }
   ],
   "source": [
    "879537-768677"
   ]
  },
  {
   "cell_type": "code",
   "execution_count": 282,
   "metadata": {},
   "outputs": [
    {
     "data": {
      "text/plain": [
       "msno                      False\n",
       "city                      False\n",
       "bd                        False\n",
       "gender                     True\n",
       "registered_via            False\n",
       "registration_init_time    False\n",
       "dtype: bool"
      ]
     },
     "execution_count": 282,
     "metadata": {},
     "output_type": "execute_result"
    }
   ],
   "source": [
    "pd.isnull(member).any(axis=0)"
   ]
  },
  {
   "cell_type": "code",
   "execution_count": 287,
   "metadata": {},
   "outputs": [
    {
     "data": {
      "text/plain": [
       "True     457471\n",
       "False    311206\n",
       "Name: gender, dtype: int64"
      ]
     },
     "execution_count": 287,
     "metadata": {},
     "output_type": "execute_result"
    }
   ],
   "source": [
    "train_member_02.gender.isnull().value_counts()"
   ]
  },
  {
   "cell_type": "code",
   "execution_count": 324,
   "metadata": {},
   "outputs": [
    {
     "data": {
      "text/html": [
       "<div>\n",
       "<style>\n",
       "    .dataframe thead tr:only-child th {\n",
       "        text-align: right;\n",
       "    }\n",
       "\n",
       "    .dataframe thead th {\n",
       "        text-align: left;\n",
       "    }\n",
       "\n",
       "    .dataframe tbody tr th {\n",
       "        vertical-align: top;\n",
       "    }\n",
       "</style>\n",
       "<table border=\"1\" class=\"dataframe\">\n",
       "  <thead>\n",
       "    <tr style=\"text-align: right;\">\n",
       "      <th></th>\n",
       "      <th>msno</th>\n",
       "    </tr>\n",
       "    <tr>\n",
       "      <th>is_churn</th>\n",
       "      <th></th>\n",
       "    </tr>\n",
       "  </thead>\n",
       "  <tbody>\n",
       "    <tr>\n",
       "      <th>False</th>\n",
       "      <td>736667</td>\n",
       "    </tr>\n",
       "    <tr>\n",
       "      <th>True</th>\n",
       "      <td>32010</td>\n",
       "    </tr>\n",
       "  </tbody>\n",
       "</table>\n",
       "</div>"
      ],
      "text/plain": [
       "            msno\n",
       "is_churn        \n",
       "False     736667\n",
       "True       32010"
      ]
     },
     "execution_count": 324,
     "metadata": {},
     "output_type": "execute_result"
    }
   ],
   "source": [
    "train_member_02.groupby(['is_churn']).agg({'msno':'nunique'})"
   ]
  },
  {
   "cell_type": "code",
   "execution_count": 325,
   "metadata": {},
   "outputs": [
    {
     "data": {
      "text/plain": [
       "0.036394148284836225"
      ]
     },
     "execution_count": 325,
     "metadata": {},
     "output_type": "execute_result"
    }
   ],
   "source": [
    "32010/879537"
   ]
  },
  {
   "cell_type": "markdown",
   "metadata": {},
   "source": [
    "**Questions**\n",
    "\n",
    "* According to the discussion board, it seems that we can generate the training data by our self using transaction data. However, in the transaction data, we can not really determine whether if a user is churn or not. \n",
    "\n",
    "    Quote from [here](https://www.kaggle.com/c/kkbox-churn-prediction-challenge/discussion/39756)\n",
    "\n",
    "\n",
    "    The provided training data set is derived from transaction log. We picked the users who have their expiration dates fall in Feb, 2017 and check whether those people renew their subscription with 30 days after expiration to generate training label. Our method is not the only way to generate the training data. The training data set can be generate using different logic. Say, you can check each user's transaction log and calculate the interval between two consecutive entries. In this case, you will generate a training data set much bigger than what we provided in the data section.\n",
    "\n",
    "* For many user who is labeled as churn, we do not have their transaction history before they churn. For example, some user can be labeled as churn and in the transaction data we only have some data with transaction date over Feb 2017. We shouldn't use the transaction data that is after Feb 2017 to predict whether if a user will churn or not in March. **Main problem: How can we use transaction data?**\n",
    "\n",
    "\n",
    "\n"
   ]
  },
  {
   "cell_type": "code",
   "execution_count": 308,
   "metadata": {},
   "outputs": [
    {
     "data": {
      "text/html": [
       "<div>\n",
       "<style>\n",
       "    .dataframe thead tr:only-child th {\n",
       "        text-align: right;\n",
       "    }\n",
       "\n",
       "    .dataframe thead th {\n",
       "        text-align: left;\n",
       "    }\n",
       "\n",
       "    .dataframe tbody tr th {\n",
       "        vertical-align: top;\n",
       "    }\n",
       "</style>\n",
       "<table border=\"1\" class=\"dataframe\">\n",
       "  <thead>\n",
       "    <tr style=\"text-align: right;\">\n",
       "      <th></th>\n",
       "      <th>msno</th>\n",
       "      <th>is_churn</th>\n",
       "      <th>payment_method_id</th>\n",
       "      <th>payment_plan_days</th>\n",
       "      <th>plan_list_price</th>\n",
       "      <th>actual_amount_paid</th>\n",
       "      <th>is_auto_renew</th>\n",
       "      <th>transaction_date</th>\n",
       "      <th>membership_expire_date</th>\n",
       "      <th>is_cancel</th>\n",
       "    </tr>\n",
       "  </thead>\n",
       "  <tbody>\n",
       "    <tr>\n",
       "      <th>78974</th>\n",
       "      <td>+++snpr7pmobhLKUgSHTv/mpkqgBT0tQJ0zQj6qKrqc=</td>\n",
       "      <td>False</td>\n",
       "      <td>41.0</td>\n",
       "      <td>30.0</td>\n",
       "      <td>149.0</td>\n",
       "      <td>149.0</td>\n",
       "      <td>1.0</td>\n",
       "      <td>2017-03-26</td>\n",
       "      <td>2017-04-26</td>\n",
       "      <td>0.0</td>\n",
       "    </tr>\n",
       "  </tbody>\n",
       "</table>\n",
       "</div>"
      ],
      "text/plain": [
       "                                               msno  is_churn  \\\n",
       "78974  +++snpr7pmobhLKUgSHTv/mpkqgBT0tQJ0zQj6qKrqc=     False   \n",
       "\n",
       "       payment_method_id  payment_plan_days  plan_list_price  \\\n",
       "78974               41.0               30.0            149.0   \n",
       "\n",
       "       actual_amount_paid  is_auto_renew transaction_date  \\\n",
       "78974               149.0            1.0       2017-03-26   \n",
       "\n",
       "      membership_expire_date  is_cancel  \n",
       "78974             2017-04-26        0.0  "
      ]
     },
     "execution_count": 308,
     "metadata": {},
     "output_type": "execute_result"
    }
   ],
   "source": [
    "train_transaction_02.query('msno==\"+++snpr7pmobhLKUgSHTv/mpkqgBT0tQJ0zQj6qKrqc=\"')"
   ]
  },
  {
   "cell_type": "code",
   "execution_count": 307,
   "metadata": {},
   "outputs": [
    {
     "data": {
      "text/html": [
       "<div>\n",
       "<style>\n",
       "    .dataframe thead tr:only-child th {\n",
       "        text-align: right;\n",
       "    }\n",
       "\n",
       "    .dataframe thead th {\n",
       "        text-align: left;\n",
       "    }\n",
       "\n",
       "    .dataframe tbody tr th {\n",
       "        vertical-align: top;\n",
       "    }\n",
       "</style>\n",
       "<table border=\"1\" class=\"dataframe\">\n",
       "  <thead>\n",
       "    <tr style=\"text-align: right;\">\n",
       "      <th></th>\n",
       "      <th>msno</th>\n",
       "      <th>is_churn</th>\n",
       "    </tr>\n",
       "  </thead>\n",
       "  <tbody>\n",
       "    <tr>\n",
       "      <th>72183</th>\n",
       "      <td>+++snpr7pmobhLKUgSHTv/mpkqgBT0tQJ0zQj6qKrqc=</td>\n",
       "      <td>False</td>\n",
       "    </tr>\n",
       "  </tbody>\n",
       "</table>\n",
       "</div>"
      ],
      "text/plain": [
       "                                               msno  is_churn\n",
       "72183  +++snpr7pmobhLKUgSHTv/mpkqgBT0tQJ0zQj6qKrqc=     False"
      ]
     },
     "execution_count": 307,
     "metadata": {},
     "output_type": "execute_result"
    }
   ],
   "source": [
    "train_201702.query('msno==\"+++snpr7pmobhLKUgSHTv/mpkqgBT0tQJ0zQj6qKrqc=\"')"
   ]
  },
  {
   "cell_type": "code",
   "execution_count": 335,
   "metadata": {},
   "outputs": [
    {
     "data": {
      "text/html": [
       "<div>\n",
       "<style>\n",
       "    .dataframe thead tr:only-child th {\n",
       "        text-align: right;\n",
       "    }\n",
       "\n",
       "    .dataframe thead th {\n",
       "        text-align: left;\n",
       "    }\n",
       "\n",
       "    .dataframe tbody tr th {\n",
       "        vertical-align: top;\n",
       "    }\n",
       "</style>\n",
       "<table border=\"1\" class=\"dataframe\">\n",
       "  <thead>\n",
       "    <tr style=\"text-align: right;\">\n",
       "      <th></th>\n",
       "      <th>msno</th>\n",
       "      <th>payment_method_id</th>\n",
       "      <th>payment_plan_days</th>\n",
       "      <th>plan_list_price</th>\n",
       "      <th>actual_amount_paid</th>\n",
       "      <th>is_auto_renew</th>\n",
       "      <th>transaction_date</th>\n",
       "      <th>membership_expire_date</th>\n",
       "      <th>is_cancel</th>\n",
       "    </tr>\n",
       "  </thead>\n",
       "  <tbody>\n",
       "    <tr>\n",
       "      <th>249714</th>\n",
       "      <td>+++IZseRRiQS9aaSkH6cMYU6bGDcxUieAi/tH67sC5s=</td>\n",
       "      <td>22</td>\n",
       "      <td>395</td>\n",
       "      <td>1599</td>\n",
       "      <td>1599</td>\n",
       "      <td>0</td>\n",
       "      <td>2016-10-23</td>\n",
       "      <td>2018-02-06</td>\n",
       "      <td>0</td>\n",
       "    </tr>\n",
       "    <tr>\n",
       "      <th>1015786</th>\n",
       "      <td>+++hVY1rZox/33YtvDgmKA2Frg/2qhkz12B9ylCvh8o=</td>\n",
       "      <td>41</td>\n",
       "      <td>30</td>\n",
       "      <td>99</td>\n",
       "      <td>99</td>\n",
       "      <td>1</td>\n",
       "      <td>2017-03-15</td>\n",
       "      <td>2017-04-15</td>\n",
       "      <td>0</td>\n",
       "    </tr>\n",
       "    <tr>\n",
       "      <th>1030112</th>\n",
       "      <td>+++l/EXNMLTijfLBa8p2TUVVVp2aFGSuUI/h7mLmthw=</td>\n",
       "      <td>39</td>\n",
       "      <td>30</td>\n",
       "      <td>149</td>\n",
       "      <td>149</td>\n",
       "      <td>1</td>\n",
       "      <td>2017-02-28</td>\n",
       "      <td>2017-04-19</td>\n",
       "      <td>0</td>\n",
       "    </tr>\n",
       "    <tr>\n",
       "      <th>335565</th>\n",
       "      <td>+++l/EXNMLTijfLBa8p2TUVVVp2aFGSuUI/h7mLmthw=</td>\n",
       "      <td>39</td>\n",
       "      <td>30</td>\n",
       "      <td>149</td>\n",
       "      <td>149</td>\n",
       "      <td>1</td>\n",
       "      <td>2017-03-31</td>\n",
       "      <td>2017-05-19</td>\n",
       "      <td>0</td>\n",
       "    </tr>\n",
       "    <tr>\n",
       "      <th>1173555</th>\n",
       "      <td>+++snpr7pmobhLKUgSHTv/mpkqgBT0tQJ0zQj6qKrqc=</td>\n",
       "      <td>41</td>\n",
       "      <td>30</td>\n",
       "      <td>149</td>\n",
       "      <td>149</td>\n",
       "      <td>1</td>\n",
       "      <td>2017-03-26</td>\n",
       "      <td>2017-04-26</td>\n",
       "      <td>0</td>\n",
       "    </tr>\n",
       "  </tbody>\n",
       "</table>\n",
       "</div>"
      ],
      "text/plain": [
       "                                                 msno  payment_method_id  \\\n",
       "249714   +++IZseRRiQS9aaSkH6cMYU6bGDcxUieAi/tH67sC5s=                 22   \n",
       "1015786  +++hVY1rZox/33YtvDgmKA2Frg/2qhkz12B9ylCvh8o=                 41   \n",
       "1030112  +++l/EXNMLTijfLBa8p2TUVVVp2aFGSuUI/h7mLmthw=                 39   \n",
       "335565   +++l/EXNMLTijfLBa8p2TUVVVp2aFGSuUI/h7mLmthw=                 39   \n",
       "1173555  +++snpr7pmobhLKUgSHTv/mpkqgBT0tQJ0zQj6qKrqc=                 41   \n",
       "\n",
       "         payment_plan_days  plan_list_price  actual_amount_paid  \\\n",
       "249714                 395             1599                1599   \n",
       "1015786                 30               99                  99   \n",
       "1030112                 30              149                 149   \n",
       "335565                  30              149                 149   \n",
       "1173555                 30              149                 149   \n",
       "\n",
       "         is_auto_renew transaction_date membership_expire_date  is_cancel  \n",
       "249714               0       2016-10-23             2018-02-06          0  \n",
       "1015786              1       2017-03-15             2017-04-15          0  \n",
       "1030112              1       2017-02-28             2017-04-19          0  \n",
       "335565               1       2017-03-31             2017-05-19          0  \n",
       "1173555              1       2017-03-26             2017-04-26          0  "
      ]
     },
     "execution_count": 335,
     "metadata": {},
     "output_type": "execute_result"
    }
   ],
   "source": [
    "transaction.sort_values(by=['msno', 'transaction_date', 'membership_expire_date']).head()"
   ]
  },
  {
   "cell_type": "code",
   "execution_count": null,
   "metadata": {
    "collapsed": true
   },
   "outputs": [],
   "source": []
  },
  {
   "cell_type": "code",
   "execution_count": null,
   "metadata": {
    "collapsed": true
   },
   "outputs": [],
   "source": []
  },
  {
   "cell_type": "code",
   "execution_count": 17,
   "metadata": {
    "collapsed": true
   },
   "outputs": [],
   "source": []
  },
  {
   "cell_type": "code",
   "execution_count": 217,
   "metadata": {
    "collapsed": true
   },
   "outputs": [],
   "source": [
    "sample_merge = pd.merge(sample_submission,transaction, on='msno',how='left')"
   ]
  },
  {
   "cell_type": "code",
   "execution_count": 218,
   "metadata": {},
   "outputs": [
    {
     "data": {
      "text/html": [
       "<div>\n",
       "<style>\n",
       "    .dataframe thead tr:only-child th {\n",
       "        text-align: right;\n",
       "    }\n",
       "\n",
       "    .dataframe thead th {\n",
       "        text-align: left;\n",
       "    }\n",
       "\n",
       "    .dataframe tbody tr th {\n",
       "        vertical-align: top;\n",
       "    }\n",
       "</style>\n",
       "<table border=\"1\" class=\"dataframe\">\n",
       "  <thead>\n",
       "    <tr style=\"text-align: right;\">\n",
       "      <th></th>\n",
       "      <th>msno</th>\n",
       "      <th>is_churn</th>\n",
       "      <th>payment_method_id</th>\n",
       "      <th>payment_plan_days</th>\n",
       "      <th>plan_list_price</th>\n",
       "      <th>actual_amount_paid</th>\n",
       "      <th>is_auto_renew</th>\n",
       "      <th>transaction_date</th>\n",
       "      <th>membership_expire_date</th>\n",
       "      <th>is_cancel</th>\n",
       "    </tr>\n",
       "  </thead>\n",
       "  <tbody>\n",
       "    <tr>\n",
       "      <th>0</th>\n",
       "      <td>4n+fXlyJvfQnTeKXTWT507Ll4JVYGrOC8LHCfwBmPE4=</td>\n",
       "      <td>0</td>\n",
       "      <td>41.0</td>\n",
       "      <td>30.0</td>\n",
       "      <td>99.0</td>\n",
       "      <td>99.0</td>\n",
       "      <td>1.0</td>\n",
       "      <td>2017-03-18</td>\n",
       "      <td>2017-04-18</td>\n",
       "      <td>0.0</td>\n",
       "    </tr>\n",
       "    <tr>\n",
       "      <th>1</th>\n",
       "      <td>aNmbC1GvFUxQyQUidCVmfbQ0YeCuwkPzEdQ0RwWyeZM=</td>\n",
       "      <td>0</td>\n",
       "      <td>34.0</td>\n",
       "      <td>30.0</td>\n",
       "      <td>149.0</td>\n",
       "      <td>149.0</td>\n",
       "      <td>1.0</td>\n",
       "      <td>2017-03-31</td>\n",
       "      <td>2017-04-30</td>\n",
       "      <td>0.0</td>\n",
       "    </tr>\n",
       "    <tr>\n",
       "      <th>2</th>\n",
       "      <td>rFC9eSG/tMuzpre6cwcMLZHEYM89xY02qcz7HL4//jc=</td>\n",
       "      <td>0</td>\n",
       "      <td>41.0</td>\n",
       "      <td>30.0</td>\n",
       "      <td>99.0</td>\n",
       "      <td>99.0</td>\n",
       "      <td>1.0</td>\n",
       "      <td>2017-03-15</td>\n",
       "      <td>2017-04-15</td>\n",
       "      <td>0.0</td>\n",
       "    </tr>\n",
       "    <tr>\n",
       "      <th>3</th>\n",
       "      <td>WZ59dLyrQcE7ft06MZ5dj40BnlYQY7PHgg/54+HaCSE=</td>\n",
       "      <td>0</td>\n",
       "      <td>41.0</td>\n",
       "      <td>30.0</td>\n",
       "      <td>99.0</td>\n",
       "      <td>99.0</td>\n",
       "      <td>1.0</td>\n",
       "      <td>2017-03-27</td>\n",
       "      <td>2017-04-27</td>\n",
       "      <td>0.0</td>\n",
       "    </tr>\n",
       "    <tr>\n",
       "      <th>4</th>\n",
       "      <td>aky/Iv8hMp1/V/yQHLtaVuEmmAxkB5GuasQZePJ7NU4=</td>\n",
       "      <td>0</td>\n",
       "      <td>30.0</td>\n",
       "      <td>30.0</td>\n",
       "      <td>129.0</td>\n",
       "      <td>129.0</td>\n",
       "      <td>1.0</td>\n",
       "      <td>2017-03-22</td>\n",
       "      <td>2017-04-21</td>\n",
       "      <td>0.0</td>\n",
       "    </tr>\n",
       "  </tbody>\n",
       "</table>\n",
       "</div>"
      ],
      "text/plain": [
       "                                           msno  is_churn  payment_method_id  \\\n",
       "0  4n+fXlyJvfQnTeKXTWT507Ll4JVYGrOC8LHCfwBmPE4=         0               41.0   \n",
       "1  aNmbC1GvFUxQyQUidCVmfbQ0YeCuwkPzEdQ0RwWyeZM=         0               34.0   \n",
       "2  rFC9eSG/tMuzpre6cwcMLZHEYM89xY02qcz7HL4//jc=         0               41.0   \n",
       "3  WZ59dLyrQcE7ft06MZ5dj40BnlYQY7PHgg/54+HaCSE=         0               41.0   \n",
       "4  aky/Iv8hMp1/V/yQHLtaVuEmmAxkB5GuasQZePJ7NU4=         0               30.0   \n",
       "\n",
       "   payment_plan_days  plan_list_price  actual_amount_paid  is_auto_renew  \\\n",
       "0               30.0             99.0                99.0            1.0   \n",
       "1               30.0            149.0               149.0            1.0   \n",
       "2               30.0             99.0                99.0            1.0   \n",
       "3               30.0             99.0                99.0            1.0   \n",
       "4               30.0            129.0               129.0            1.0   \n",
       "\n",
       "  transaction_date membership_expire_date  is_cancel  \n",
       "0       2017-03-18             2017-04-18        0.0  \n",
       "1       2017-03-31             2017-04-30        0.0  \n",
       "2       2017-03-15             2017-04-15        0.0  \n",
       "3       2017-03-27             2017-04-27        0.0  \n",
       "4       2017-03-22             2017-04-21        0.0  "
      ]
     },
     "execution_count": 218,
     "metadata": {},
     "output_type": "execute_result"
    }
   ],
   "source": [
    "sample_merge.head()"
   ]
  },
  {
   "cell_type": "code",
   "execution_count": 221,
   "metadata": {},
   "outputs": [
    {
     "data": {
      "text/plain": [
       "907471"
      ]
     },
     "execution_count": 221,
     "metadata": {},
     "output_type": "execute_result"
    }
   ],
   "source": [
    "len(sample_submission.msno.unique())"
   ]
  },
  {
   "cell_type": "code",
   "execution_count": 220,
   "metadata": {},
   "outputs": [
    {
     "data": {
      "text/plain": [
       "907470"
      ]
     },
     "execution_count": 220,
     "metadata": {},
     "output_type": "execute_result"
    }
   ],
   "source": [
    "len(sample_merge[sample_merge['payment_method_id'].notnull()]['msno'].unique())"
   ]
  },
  {
   "cell_type": "code",
   "execution_count": 54,
   "metadata": {},
   "outputs": [
    {
     "data": {
      "text/plain": [
       "0    907471\n",
       "Name: is_churn, dtype: int64"
      ]
     },
     "execution_count": 54,
     "metadata": {},
     "output_type": "execute_result"
    }
   ],
   "source": [
    "sample_submission.is_churn.value_counts()"
   ]
  },
  {
   "cell_type": "markdown",
   "metadata": {},
   "source": [
    "## <a id=\"eda\">Exploratory Data Analysis</a>"
   ]
  },
  {
   "cell_type": "markdown",
   "metadata": {},
   "source": []
  },
  {
   "cell_type": "markdown",
   "metadata": {
    "collapsed": true
   },
   "source": [
    "* How to generate the submission? Where do those 907471 msno's coming from?\n",
    "* The train data consists of users whose subscription expires within the month of February 2017. When I merge with transaction data, the menbership expire date for those ids have a lot of different membership_expire_date. What does that mean? Shouldn't all these id in the train data with the membership_expire_date in 2017 Feb?\n",
    "* Don't understand what they are discuess [here](https://www.kaggle.com/c/kkbox-churn-prediction-challenge/discussion/39756)\n",
    "* Should spend more time on reading the [Should I stay or should I go? - KKBox EDA\n",
    "](https://www.kaggle.com/headsortails/should-i-stay-or-should-i-go-kkbox-eda), [Churn or No Churn - Exploration Data Analysis\n",
    "](https://www.kaggle.com/rastaman/churn-or-no-churn-exploration-data-analysis)\n",
    "* For some records in transaciton, the membership_expire_date is far from today, such as in the year of 2020, but they are labeled as churn. What does that mean? Remind that the criteria of \"churn\" is **no new valid service subscription within 30 days after the current membership expires.**\n"
   ]
  }
 ],
 "metadata": {
  "kernelspec": {
   "display_name": "Python 3",
   "language": "python",
   "name": "python3"
  },
  "language_info": {
   "codemirror_mode": {
    "name": "ipython",
    "version": 3
   },
   "file_extension": ".py",
   "mimetype": "text/x-python",
   "name": "python",
   "nbconvert_exporter": "python",
   "pygments_lexer": "ipython3",
   "version": "3.6.3"
  }
 },
 "nbformat": 4,
 "nbformat_minor": 2
}
