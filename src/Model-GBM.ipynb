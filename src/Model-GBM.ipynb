{
 "cells": [
  {
   "cell_type": "markdown",
   "metadata": {},
   "source": [
    "# Gradient Boosting Tree for Airbnb\n"
   ]
  },
  {
   "cell_type": "markdown",
   "metadata": {},
   "source": [
    "**Outline**\n",
    "\n",
    "* [Read Data](#read)\n",
    "* [Data Transformation](#transform)\n",
    "* [Model Building](#model) \n",
    "    * [Parameter Tuning](#tune)\n",
    "* [Feature Importance](#feature) \n",
    "* [Reference](#refer)"
   ]
  },
  {
   "cell_type": "code",
   "execution_count": 1,
   "metadata": {
    "collapsed": true
   },
   "outputs": [],
   "source": [
    "%matplotlib inline\n",
    "\n",
    "import os\n",
    "import pandas as pd\n",
    "import numpy as np\n",
    "import seaborn as sn\n",
    "import matplotlib.pyplot as plt\n",
    "import math\n",
    "from sklearn.linear_model import LogisticRegression \n",
    "from sklearn.ensemble import RandomForestClassifier, GradientBoostingClassifier\n",
    "from sklearn.model_selection import train_test_split, cross_val_score, GridSearchCV\n",
    "from sklearn import model_selection\n",
    "from sklearn.neural_network import MLPClassifier\n",
    "\n",
    "SEED = 12345"
   ]
  },
  {
   "cell_type": "markdown",
   "metadata": {},
   "source": [
    "## <a id=\"read\">Read Data</a>"
   ]
  },
  {
   "cell_type": "code",
   "execution_count": 2,
   "metadata": {},
   "outputs": [],
   "source": [
    "def data_reader():\n",
    "    \"\"\"\n",
    "    read data into notebook \n",
    "    \"\"\"\n",
    "        \n",
    "    data_dir = os.path.join('..', 'data') #/Users/siliangchen/Airbnb\n",
    "\n",
    "    train_binary_path = os.path.join(data_dir, 'train_session_updated.csv')  \n",
    "    train_binary = pd.read_csv(train_binary_path) #, index_col = 0\n",
    "    if 'Unnamed: 0' in train_binary.columns:\n",
    "        del train_binary['Unnamed: 0']\n",
    "    drop_feature = ['user_id', 'total_secs_elapsed', 'date_account_created','timestamp_first_active','date_first_booking','country_destination']\n",
    "    train_binary.drop(drop_feature, axis=1, inplace=True)\n",
    "\n",
    "    return train_binary"
   ]
  },
  {
   "cell_type": "code",
   "execution_count": 3,
   "metadata": {
    "collapsed": true
   },
   "outputs": [],
   "source": [
    "train_binary = data_reader()"
   ]
  },
  {
   "cell_type": "code",
   "execution_count": 4,
   "metadata": {},
   "outputs": [
    {
     "data": {
      "text/plain": [
       "Index(['ajax_refresh_subtotal', 'dashboard', 'edit', 'header_userpic',\n",
       "       'personalize', 'similar_listings', 'total_actions', 'obs_count',\n",
       "       'unique_action', 'unique_device', 'avg_time', 'gender', 'age',\n",
       "       'signup_method', 'signup_flow', 'language', 'affiliate_channel',\n",
       "       'affiliate_provider', 'first_affiliate_tracked', 'signup_app',\n",
       "       'first_device_type', 'first_browser', 'isNDF'],\n",
       "      dtype='object')"
      ]
     },
     "execution_count": 4,
     "metadata": {},
     "output_type": "execute_result"
    }
   ],
   "source": [
    "train_binary.columns"
   ]
  },
  {
   "cell_type": "markdown",
   "metadata": {},
   "source": [
    "## <a id=\"transform\">Data Transformation</a>"
   ]
  },
  {
   "cell_type": "code",
   "execution_count": 5,
   "metadata": {
    "collapsed": true
   },
   "outputs": [],
   "source": [
    "categorical = ['gender', 'signup_method', 'signup_flow', 'language', 'affiliate_channel',\n",
    "                'affiliate_provider','first_affiliate_tracked','signup_app','first_device_type',\n",
    "               'first_browser']    "
   ]
  },
  {
   "cell_type": "code",
   "execution_count": 6,
   "metadata": {
    "collapsed": true
   },
   "outputs": [],
   "source": [
    "# Convert data type as 'category'\n",
    "for i in categorical:\n",
    "    train_binary[i] = train_binary[i].astype('category')"
   ]
  },
  {
   "cell_type": "code",
   "execution_count": 7,
   "metadata": {},
   "outputs": [
    {
     "data": {
      "text/html": [
       "<div>\n",
       "<style>\n",
       "    .dataframe thead tr:only-child th {\n",
       "        text-align: right;\n",
       "    }\n",
       "\n",
       "    .dataframe thead th {\n",
       "        text-align: left;\n",
       "    }\n",
       "\n",
       "    .dataframe tbody tr th {\n",
       "        vertical-align: top;\n",
       "    }\n",
       "</style>\n",
       "<table border=\"1\" class=\"dataframe\">\n",
       "  <thead>\n",
       "    <tr style=\"text-align: right;\">\n",
       "      <th></th>\n",
       "      <th>ajax_refresh_subtotal</th>\n",
       "      <th>dashboard</th>\n",
       "      <th>edit</th>\n",
       "      <th>header_userpic</th>\n",
       "      <th>personalize</th>\n",
       "      <th>similar_listings</th>\n",
       "      <th>total_actions</th>\n",
       "      <th>obs_count</th>\n",
       "      <th>unique_action</th>\n",
       "      <th>unique_device</th>\n",
       "      <th>...</th>\n",
       "      <th>first_browser_RockMelt</th>\n",
       "      <th>first_browser_Safari</th>\n",
       "      <th>first_browser_SeaMonkey</th>\n",
       "      <th>first_browser_Silk</th>\n",
       "      <th>first_browser_SiteKiosk</th>\n",
       "      <th>first_browser_Sogou Explorer</th>\n",
       "      <th>first_browser_TenFourFox</th>\n",
       "      <th>first_browser_TheWorld Browser</th>\n",
       "      <th>first_browser_Yandex.Browser</th>\n",
       "      <th>first_browser_wOSBrowser</th>\n",
       "    </tr>\n",
       "  </thead>\n",
       "  <tbody>\n",
       "    <tr>\n",
       "      <th>0</th>\n",
       "      <td>2</td>\n",
       "      <td>4</td>\n",
       "      <td>0</td>\n",
       "      <td>2</td>\n",
       "      <td>4</td>\n",
       "      <td>3</td>\n",
       "      <td>15</td>\n",
       "      <td>3.713572</td>\n",
       "      <td>13</td>\n",
       "      <td>2</td>\n",
       "      <td>...</td>\n",
       "      <td>0</td>\n",
       "      <td>1</td>\n",
       "      <td>0</td>\n",
       "      <td>0</td>\n",
       "      <td>0</td>\n",
       "      <td>0</td>\n",
       "      <td>0</td>\n",
       "      <td>0</td>\n",
       "      <td>0</td>\n",
       "      <td>0</td>\n",
       "    </tr>\n",
       "    <tr>\n",
       "      <th>1</th>\n",
       "      <td>0</td>\n",
       "      <td>2</td>\n",
       "      <td>0</td>\n",
       "      <td>2</td>\n",
       "      <td>0</td>\n",
       "      <td>0</td>\n",
       "      <td>4</td>\n",
       "      <td>6.672033</td>\n",
       "      <td>25</td>\n",
       "      <td>2</td>\n",
       "      <td>...</td>\n",
       "      <td>0</td>\n",
       "      <td>0</td>\n",
       "      <td>0</td>\n",
       "      <td>0</td>\n",
       "      <td>0</td>\n",
       "      <td>0</td>\n",
       "      <td>0</td>\n",
       "      <td>0</td>\n",
       "      <td>0</td>\n",
       "      <td>0</td>\n",
       "    </tr>\n",
       "    <tr>\n",
       "      <th>2</th>\n",
       "      <td>21</td>\n",
       "      <td>3</td>\n",
       "      <td>0</td>\n",
       "      <td>2</td>\n",
       "      <td>26</td>\n",
       "      <td>12</td>\n",
       "      <td>64</td>\n",
       "      <td>6.194405</td>\n",
       "      <td>20</td>\n",
       "      <td>1</td>\n",
       "      <td>...</td>\n",
       "      <td>0</td>\n",
       "      <td>1</td>\n",
       "      <td>0</td>\n",
       "      <td>0</td>\n",
       "      <td>0</td>\n",
       "      <td>0</td>\n",
       "      <td>0</td>\n",
       "      <td>0</td>\n",
       "      <td>0</td>\n",
       "      <td>0</td>\n",
       "    </tr>\n",
       "    <tr>\n",
       "      <th>3</th>\n",
       "      <td>12</td>\n",
       "      <td>2</td>\n",
       "      <td>18</td>\n",
       "      <td>2</td>\n",
       "      <td>12</td>\n",
       "      <td>17</td>\n",
       "      <td>63</td>\n",
       "      <td>5.181784</td>\n",
       "      <td>38</td>\n",
       "      <td>2</td>\n",
       "      <td>...</td>\n",
       "      <td>0</td>\n",
       "      <td>0</td>\n",
       "      <td>0</td>\n",
       "      <td>0</td>\n",
       "      <td>0</td>\n",
       "      <td>0</td>\n",
       "      <td>0</td>\n",
       "      <td>0</td>\n",
       "      <td>0</td>\n",
       "      <td>0</td>\n",
       "    </tr>\n",
       "    <tr>\n",
       "      <th>4</th>\n",
       "      <td>1</td>\n",
       "      <td>4</td>\n",
       "      <td>0</td>\n",
       "      <td>1</td>\n",
       "      <td>4</td>\n",
       "      <td>1</td>\n",
       "      <td>11</td>\n",
       "      <td>3.295837</td>\n",
       "      <td>11</td>\n",
       "      <td>2</td>\n",
       "      <td>...</td>\n",
       "      <td>0</td>\n",
       "      <td>0</td>\n",
       "      <td>0</td>\n",
       "      <td>0</td>\n",
       "      <td>0</td>\n",
       "      <td>0</td>\n",
       "      <td>0</td>\n",
       "      <td>0</td>\n",
       "      <td>0</td>\n",
       "      <td>0</td>\n",
       "    </tr>\n",
       "  </tbody>\n",
       "</table>\n",
       "<p>5 rows × 131 columns</p>\n",
       "</div>"
      ],
      "text/plain": [
       "   ajax_refresh_subtotal  dashboard  edit  header_userpic  personalize  \\\n",
       "0                      2          4     0               2            4   \n",
       "1                      0          2     0               2            0   \n",
       "2                     21          3     0               2           26   \n",
       "3                     12          2    18               2           12   \n",
       "4                      1          4     0               1            4   \n",
       "\n",
       "   similar_listings  total_actions  obs_count  unique_action  unique_device  \\\n",
       "0                 3             15   3.713572             13              2   \n",
       "1                 0              4   6.672033             25              2   \n",
       "2                12             64   6.194405             20              1   \n",
       "3                17             63   5.181784             38              2   \n",
       "4                 1             11   3.295837             11              2   \n",
       "\n",
       "             ...             first_browser_RockMelt  first_browser_Safari  \\\n",
       "0            ...                                  0                     1   \n",
       "1            ...                                  0                     0   \n",
       "2            ...                                  0                     1   \n",
       "3            ...                                  0                     0   \n",
       "4            ...                                  0                     0   \n",
       "\n",
       "   first_browser_SeaMonkey  first_browser_Silk  first_browser_SiteKiosk  \\\n",
       "0                        0                   0                        0   \n",
       "1                        0                   0                        0   \n",
       "2                        0                   0                        0   \n",
       "3                        0                   0                        0   \n",
       "4                        0                   0                        0   \n",
       "\n",
       "   first_browser_Sogou Explorer  first_browser_TenFourFox  \\\n",
       "0                             0                         0   \n",
       "1                             0                         0   \n",
       "2                             0                         0   \n",
       "3                             0                         0   \n",
       "4                             0                         0   \n",
       "\n",
       "   first_browser_TheWorld Browser  first_browser_Yandex.Browser  \\\n",
       "0                               0                             0   \n",
       "1                               0                             0   \n",
       "2                               0                             0   \n",
       "3                               0                             0   \n",
       "4                               0                             0   \n",
       "\n",
       "   first_browser_wOSBrowser  \n",
       "0                         0  \n",
       "1                         0  \n",
       "2                         0  \n",
       "3                         0  \n",
       "4                         0  \n",
       "\n",
       "[5 rows x 131 columns]"
      ]
     },
     "execution_count": 7,
     "metadata": {},
     "output_type": "execute_result"
    }
   ],
   "source": [
    "# Create dummy variables\n",
    "train_binary_dummy = pd.get_dummies(train_binary, columns = categorical)\n",
    "train_binary_dummy.head()"
   ]
  },
  {
   "cell_type": "code",
   "execution_count": 8,
   "metadata": {
    "collapsed": true
   },
   "outputs": [],
   "source": [
    "# Split data into response and predictors\n",
    "y = train_binary_dummy['isNDF']\n",
    "x = train_binary_dummy.drop('isNDF', axis=1)"
   ]
  },
  {
   "cell_type": "markdown",
   "metadata": {},
   "source": [
    "## <a id=\"model\">Model Building</a>"
   ]
  },
  {
   "cell_type": "code",
   "execution_count": 9,
   "metadata": {},
   "outputs": [],
   "source": [
    "def fit_gbm(X_train, y_train, param_setting={}, fold=5, seed=SEED):\n",
    "    \"\"\"Gradient Boosting Machine for Classification, get the CV AUC\"\"\"\n",
    "\n",
    "    # set seed and default parameter \n",
    "    params_default = {'random_state':seed}\n",
    "\n",
    "    # update the input parameters\n",
    "    params = dict(params_default)\n",
    "    params.update(param_setting)\n",
    "    \n",
    "    # create model object\n",
    "    model = GradientBoostingClassifier(**params)\n",
    "    \n",
    "    # do kfold cross validation and use auc as metrics\n",
    "    kfold = model_selection.KFold(n_splits=fold, random_state=seed)    \n",
    "    results = model_selection.cross_val_score(model, X_train, y_train, cv=kfold, scoring='roc_auc')\n",
    "    print(results.mean())\n",
    "    \n",
    "    model.fit(X_train, y_train)\n",
    "    \n",
    "    return(model)"
   ]
  },
  {
   "cell_type": "code",
   "execution_count": 10,
   "metadata": {},
   "outputs": [
    {
     "name": "stdout",
     "output_type": "stream",
     "text": [
      "0.775500951569\n"
     ]
    }
   ],
   "source": [
    "gbm_base = fit_gbm(x, y, seed=SEED)"
   ]
  },
  {
   "cell_type": "code",
   "execution_count": 11,
   "metadata": {},
   "outputs": [
    {
     "data": {
      "text/plain": [
       "GradientBoostingClassifier(criterion='friedman_mse', init=None,\n",
       "              learning_rate=0.1, loss='deviance', max_depth=3,\n",
       "              max_features=None, max_leaf_nodes=None,\n",
       "              min_impurity_decrease=0.0, min_impurity_split=None,\n",
       "              min_samples_leaf=1, min_samples_split=2,\n",
       "              min_weight_fraction_leaf=0.0, n_estimators=100,\n",
       "              presort='auto', random_state=12345, subsample=1.0, verbose=0,\n",
       "              warm_start=False)"
      ]
     },
     "execution_count": 11,
     "metadata": {},
     "output_type": "execute_result"
    }
   ],
   "source": [
    "gbm_base"
   ]
  },
  {
   "cell_type": "markdown",
   "metadata": {},
   "source": [
    "### <a id=\"tune\">Parameter Tuning </a>"
   ]
  },
  {
   "cell_type": "markdown",
   "metadata": {},
   "source": [
    "**Steps**\n",
    "1. Pick a small shrinkage number \n",
    "    * I originally pick learning_rate=0.001, but it takes a long time to run. Therefore, I only use learning_rate=0.1 for now\n",
    "2. Pick a small internal splitting nodes (default max_depth=3)\n",
    "3. Input a large number of trees and get the best number of trees according to CV error (try different n_estimators)\n",
    "4. Pick a best ntree and use gbm function to get the cv error for multiple times\n",
    "5. Calculate the mean of cv error to get the final CV AUC"
   ]
  },
  {
   "cell_type": "code",
   "execution_count": 12,
   "metadata": {
    "collapsed": true
   },
   "outputs": [],
   "source": [
    "def plot_cv_error(x, y, param_setting, fold):\n",
    "    \"\"\"Estimate best n_estimator using cross-validation\"\"\"\n",
    "    \n",
    "    # set seed and default parameter\n",
    "    params = dict(param_setting)\n",
    "    n_estimators = params['n_estimators']\n",
    "\n",
    "    # fit gbm model\n",
    "    clf = GradientBoostingClassifier(**params)\n",
    "    clf.fit(x, y)\n",
    "\n",
    "    def heldout_score(clf, X_test, y_test):\n",
    "        \"\"\"compute deviance scores on ``X_test`` and ``y_test`` \"\"\"\n",
    "        score = np.zeros((n_estimators,), dtype=np.float64)\n",
    "        # staged_decision_function: Compute decision function of X for each iteration.\n",
    "        # Each n_estimator is an iteration. For example, if our n_estimators=10, then there will be 10 iterations            \n",
    "        for i, y_pred in enumerate(clf.staged_decision_function(X_test)): \n",
    "            \n",
    "            # the default loss function for GradientBoostingClassifier is deviance. \n",
    "            # clf.loss_ calculate the loss score using y and yhat\n",
    "            score[i] = clf.loss_(y_test, y_pred)\n",
    "        return score\n",
    "\n",
    "    def cv_estimate(n_splits=3):\n",
    "        \"\"\"compute the cv error for each n_estimator\"\"\"\n",
    "        \n",
    "        # create a cv fold object\n",
    "        cv = model_selection.KFold(n_splits=n_splits)\n",
    "        \n",
    "        # create a gbm object using the input parameter\n",
    "        cv_clf = GradientBoostingClassifier(**params)\n",
    "        val_scores = np.zeros((n_estimators,), dtype=np.float64)\n",
    "        for train, test in cv.split(x, y):\n",
    "            cv_clf.fit(x.iloc[train], y[train])\n",
    "            val_scores += heldout_score(cv_clf, x.iloc[test], y[test])\n",
    "        val_scores /= n_splits\n",
    "        return val_scores\n",
    "\n",
    "    # Get the cv error for each n_estimator\n",
    "    cv_score = cv_estimate(fold)\n",
    "\n",
    "    # plot the result    \n",
    "    x_label = np.arange(n_estimators) + 1\n",
    "    cv_color = list(map(lambda x: x / 256.0, (253, 192, 134)))\n",
    "    plt.plot(x_label, cv_score, label='CV loss', color=cv_color)\n",
    "    plt.legend(loc='upper right')\n",
    "    plt.ylabel('normalized loss')\n",
    "    plt.xlabel('number of iterations')\n",
    "    \n",
    "    return(cv_score)\n"
   ]
  },
  {
   "cell_type": "code",
   "execution_count": 13,
   "metadata": {},
   "outputs": [
    {
     "data": {
      "image/png": "[encoded data removed]",
      "text/plain": [
       "<matplotlib.figure.Figure at 0x1a10301d30>"
      ]
     },
     "metadata": {},
     "output_type": "display_data"
    }
   ],
   "source": [
    "original_params = {\n",
    "    'n_estimators': 500,\n",
    "    'learning_rate': 0.1,\n",
    "    'max_depth': 3,\n",
    "}\n",
    "\n",
    "cv_score = plot_cv_error(x, \n",
    "                         y, \n",
    "                         param_setting=original_params, \n",
    "                         fold=5)"
   ]
  },
  {
   "cell_type": "code",
   "execution_count": 14,
   "metadata": {},
   "outputs": [
    {
     "data": {
      "text/plain": [
       "479"
      ]
     },
     "execution_count": 14,
     "metadata": {},
     "output_type": "execute_result"
    }
   ],
   "source": [
    "# The best number of ntree is 480 with loss 1.115175209690531 (need to figure out what does it mean)\n",
    "cv_score.argmin()"
   ]
  },
  {
   "cell_type": "code",
   "execution_count": 15,
   "metadata": {},
   "outputs": [
    {
     "data": {
      "text/plain": [
       "1.115175209690531"
      ]
     },
     "execution_count": 15,
     "metadata": {},
     "output_type": "execute_result"
    }
   ],
   "source": [
    "cv_score[cv_score.argmin()]"
   ]
  },
  {
   "cell_type": "code",
   "execution_count": 16,
   "metadata": {},
   "outputs": [
    {
     "name": "stdout",
     "output_type": "stream",
     "text": [
      "0.780516666697\n"
     ]
    }
   ],
   "source": [
    "# The CV AUC increase from 0.775500951569 to 0.780516666697 by using the best number of ntree\n",
    "params = {\n",
    "    'n_estimators': cv_score.argmin()+1,\n",
    "    'learning_rate': 0.1,\n",
    "    'max_depth': 3,\n",
    "}\n",
    "gbm_2 = fit_gbm(x, y, param_setting=params)"
   ]
  },
  {
   "cell_type": "code",
   "execution_count": 17,
   "metadata": {},
   "outputs": [
    {
     "data": {
      "text/plain": [
       "GradientBoostingClassifier(criterion='friedman_mse', init=None,\n",
       "              learning_rate=0.1, loss='deviance', max_depth=3,\n",
       "              max_features=None, max_leaf_nodes=None,\n",
       "              min_impurity_decrease=0.0, min_impurity_split=None,\n",
       "              min_samples_leaf=1, min_samples_split=2,\n",
       "              min_weight_fraction_leaf=0.0, n_estimators=480,\n",
       "              presort='auto', random_state=12345, subsample=1.0, verbose=0,\n",
       "              warm_start=False)"
      ]
     },
     "execution_count": 17,
     "metadata": {},
     "output_type": "execute_result"
    }
   ],
   "source": [
    "gbm_2"
   ]
  },
  {
   "cell_type": "markdown",
   "metadata": {},
   "source": [
    "## <a id=\"feature\">Feature Importance</a>"
   ]
  },
  {
   "cell_type": "code",
   "execution_count": 18,
   "metadata": {
    "collapsed": true
   },
   "outputs": [],
   "source": [
    "def get_variance_imp_df(model):\n",
    "    \"\"\"get the variance importance dataframe for tree based models\"\"\"\n",
    "    \n",
    "    var_imp = pd.DataFrame(x.columns, model.feature_importances_).reset_index().rename(columns={'index': 'importance',0:'feature'}).sort_values(by=['importance'], ascending=False)\n",
    "    var_imp = var_imp[['feature','importance']].reset_index(drop=True)\n",
    "    \n",
    "    return(var_imp)"
   ]
  },
  {
   "cell_type": "code",
   "execution_count": 19,
   "metadata": {},
   "outputs": [
    {
     "data": {
      "text/html": [
       "<div>\n",
       "<style>\n",
       "    .dataframe thead tr:only-child th {\n",
       "        text-align: right;\n",
       "    }\n",
       "\n",
       "    .dataframe thead th {\n",
       "        text-align: left;\n",
       "    }\n",
       "\n",
       "    .dataframe tbody tr th {\n",
       "        vertical-align: top;\n",
       "    }\n",
       "</style>\n",
       "<table border=\"1\" class=\"dataframe\">\n",
       "  <thead>\n",
       "    <tr style=\"text-align: right;\">\n",
       "      <th></th>\n",
       "      <th>feature</th>\n",
       "      <th>importance</th>\n",
       "    </tr>\n",
       "  </thead>\n",
       "  <tbody>\n",
       "    <tr>\n",
       "      <th>0</th>\n",
       "      <td>avg_time</td>\n",
       "      <td>0.129183</td>\n",
       "    </tr>\n",
       "    <tr>\n",
       "      <th>1</th>\n",
       "      <td>age</td>\n",
       "      <td>0.115847</td>\n",
       "    </tr>\n",
       "    <tr>\n",
       "      <th>2</th>\n",
       "      <td>obs_count</td>\n",
       "      <td>0.099595</td>\n",
       "    </tr>\n",
       "    <tr>\n",
       "      <th>3</th>\n",
       "      <td>unique_action</td>\n",
       "      <td>0.096318</td>\n",
       "    </tr>\n",
       "    <tr>\n",
       "      <th>4</th>\n",
       "      <td>ajax_refresh_subtotal</td>\n",
       "      <td>0.057665</td>\n",
       "    </tr>\n",
       "    <tr>\n",
       "      <th>5</th>\n",
       "      <td>total_actions</td>\n",
       "      <td>0.051809</td>\n",
       "    </tr>\n",
       "    <tr>\n",
       "      <th>6</th>\n",
       "      <td>personalize</td>\n",
       "      <td>0.041459</td>\n",
       "    </tr>\n",
       "    <tr>\n",
       "      <th>7</th>\n",
       "      <td>similar_listings</td>\n",
       "      <td>0.036834</td>\n",
       "    </tr>\n",
       "    <tr>\n",
       "      <th>8</th>\n",
       "      <td>header_userpic</td>\n",
       "      <td>0.035192</td>\n",
       "    </tr>\n",
       "    <tr>\n",
       "      <th>9</th>\n",
       "      <td>edit</td>\n",
       "      <td>0.035152</td>\n",
       "    </tr>\n",
       "    <tr>\n",
       "      <th>10</th>\n",
       "      <td>dashboard</td>\n",
       "      <td>0.031083</td>\n",
       "    </tr>\n",
       "    <tr>\n",
       "      <th>11</th>\n",
       "      <td>gender_-unknown-</td>\n",
       "      <td>0.017253</td>\n",
       "    </tr>\n",
       "    <tr>\n",
       "      <th>12</th>\n",
       "      <td>signup_method_basic</td>\n",
       "      <td>0.014990</td>\n",
       "    </tr>\n",
       "    <tr>\n",
       "      <th>13</th>\n",
       "      <td>unique_device</td>\n",
       "      <td>0.014496</td>\n",
       "    </tr>\n",
       "    <tr>\n",
       "      <th>14</th>\n",
       "      <td>signup_method_facebook</td>\n",
       "      <td>0.010498</td>\n",
       "    </tr>\n",
       "  </tbody>\n",
       "</table>\n",
       "</div>"
      ],
      "text/plain": [
       "                   feature  importance\n",
       "0                 avg_time    0.129183\n",
       "1                      age    0.115847\n",
       "2                obs_count    0.099595\n",
       "3            unique_action    0.096318\n",
       "4    ajax_refresh_subtotal    0.057665\n",
       "5            total_actions    0.051809\n",
       "6              personalize    0.041459\n",
       "7         similar_listings    0.036834\n",
       "8           header_userpic    0.035192\n",
       "9                     edit    0.035152\n",
       "10               dashboard    0.031083\n",
       "11        gender_-unknown-    0.017253\n",
       "12     signup_method_basic    0.014990\n",
       "13           unique_device    0.014496\n",
       "14  signup_method_facebook    0.010498"
      ]
     },
     "execution_count": 19,
     "metadata": {},
     "output_type": "execute_result"
    }
   ],
   "source": [
    "gbm_imp = get_variance_imp_df(gbm_2)\n",
    "gbm_imp.head(15)"
   ]
  },
  {
   "cell_type": "code",
   "execution_count": 20,
   "metadata": {},
   "outputs": [],
   "source": [
    "def viz_importance(var_imp, top):\n",
    "    y_pos = np.arange(1, top + 1)\n",
    "    plt.barh(y_pos, list(var_imp['importance'])[0:top][::-1], align = 'center')#, xerr = scores_std[0:top]\n",
    "    plt.yticks(y_pos, var_imp['feature'][0:top][::-1])\n",
    "    plt.xlabel('Importance')\n",
    "    plt.title('Feature Importance Plot')   "
   ]
  },
  {
   "cell_type": "code",
   "execution_count": 21,
   "metadata": {},
   "outputs": [
    {
     "data": {
      "image/png": "[encoded data removed]",
      "text/plain": [
       "<matplotlib.figure.Figure at 0x1a10560828>"
      ]
     },
     "metadata": {},
     "output_type": "display_data"
    }
   ],
   "source": [
    "viz_importance(gbm_imp, top=15)"
   ]
  },
  {
   "cell_type": "markdown",
   "metadata": {},
   "source": [
    "## <a id=\"refer\">Reference</a>\n",
    "\n",
    "* [Gradient Boosting Out-of-Bag estimates](http://scikit-learn.org/stable/auto_examples/ensemble/plot_gradient_boosting_oob.html#sphx-glr-auto-examples-ensemble-plot-gradient-boosting-oob-py)\n",
    "* [Gradient Boosting regularization](http://scikit-learn.org/stable/auto_examples/ensemble/plot_gradient_boosting_regularization.html)\n",
    "* [GradientBoostingClassifier](http://scikit-learn.org/stable/modules/generated/sklearn.ensemble.GradientBoostingClassifier.html)"
   ]
  },
  {
   "cell_type": "markdown",
   "metadata": {},
   "source": [
    "---"
   ]
  },
  {
   "cell_type": "markdown",
   "metadata": {},
   "source": [
    "### Miscellneious (Please Ignore)"
   ]
  },
  {
   "cell_type": "markdown",
   "metadata": {},
   "source": [
    "**Plot validation set test error**"
   ]
  },
  {
   "cell_type": "code",
   "execution_count": 22,
   "metadata": {
    "collapsed": true
   },
   "outputs": [],
   "source": [
    "# original_params = {'n_estimators': 300,\n",
    "#                        'learning_rate': 0.01,\n",
    "#                        'max_depth': 3}#'max_leaf_nodes': 4, 'max_depth': None, 'random_state': 2, 'min_samples_split': 5\n",
    "\n",
    "# params = dict(original_params)\n",
    "\n",
    "# clf = GradientBoostingClassifier(**params)\n",
    "# clf.fit(x_train, y_train)\n",
    "\n",
    "# # compute test set deviance\n",
    "# test_deviance = np.zeros((params['n_estimators'],), dtype=np.float64)\n",
    "# train_deviance = np.zeros((params['n_estimators'],), dtype=np.float64)\n",
    "\n",
    "# for i, y_pred in enumerate(clf.staged_decision_function(x_test)):\n",
    "#     # clf.loss_ assumes that y_test[i] in {0, 1}\n",
    "#     test_deviance[i] = clf.loss_(y_test, y_pred)\n",
    "# for i, y_pred in enumerate(clf.staged_decision_function(x_train)):\n",
    "#     # clf.loss_ assumes that y_test[i] in {0, 1}\n",
    "#     train_deviance[i] = clf.loss_(y_train, y_pred)\n",
    "\n",
    "# plt.plot((np.arange(test_deviance.shape[0]) + 1)[::5], test_deviance[::5],\n",
    "#          '-', color='orange', label='test error')\n",
    "# plt.plot((np.arange(train_deviance.shape[0]) + 1)[::5], train_deviance[::5],\n",
    "#          '-', color='blue', label='train error')\n",
    "\n",
    "# plt.legend(loc='upper left')\n",
    "# plt.xlabel('Boosting Iterations')\n",
    "# plt.ylabel('Test Set Deviance')\n",
    "\n",
    "# plt.show()"
   ]
  },
  {
   "cell_type": "code",
   "execution_count": 23,
   "metadata": {
    "collapsed": true
   },
   "outputs": [],
   "source": [
    "def plot_train_test_error_oob(X_train, X_test, y_train, y_test):\n",
    "    \"\"\"\n",
    "    Compare the difference between training and testing error using MSE/R2 by adjusting number of tree built for GBRT.\n",
    "    Here we use K-fold Cross Validation to obtain the estimate of our test MSE.\n",
    "    \"\"\"\n",
    "    train_mse = list()\n",
    "#     test_mse = list()\n",
    "    oob_mse = list()\n",
    "\n",
    "    seed = 7\n",
    "    num_trees = 100    \n",
    "    param_name = 'n_estimators'\n",
    "    options = np.arange(15, 100)\n",
    "    \n",
    "    for n in options:\n",
    "        # fit random forest using different n_estimator, i.e., the number of trees that we fit each time for bagging.\n",
    "        rf = RandomForestRegressor(n_estimators=n, oob_score=True, warm_start=True, random_state=seed)\n",
    "        rf.fit(X_train, y_train)\n",
    "        \n",
    "        # get train mse\n",
    "        train_mse.append(1-rf.score(X_train, y_train))\n",
    "        \n",
    "        # get test mse\n",
    "        test_mse.append(1-rf.score(X_test, y_test))\n",
    "\n",
    "        # get oob estimates\n",
    "        oob_mse.append(1-rf.oob_score_.mean())\n",
    "\n",
    "    mean_mse_scores = [train_mse, test_mse, oob_mse]\n",
    "    mse_labels = ['train MSE', 'test MSE', 'oob MSE']       \n",
    "    i_mse_optim = np.argmin(test_mse)\n",
    "    options_mse_optim = options[i_mse_optim]\n",
    "\n",
    "    \n",
    "    # plot with y axis using MSE\n",
    "    for score, label in zip(mean_mse_scores, mse_labels):\n",
    "        plt.plot(options, score, label = label)\n",
    "\n",
    "    plt.vlines(options_mse_optim, plt.ylim()[0], np.min(test_mse), color='k',\n",
    "           linewidth=3, label='Optimum on test')    \n",
    "    plt.legend()\n",
    "    plt.ylabel('OOB Error Rate=1-R^2')\n",
    "    plt.xlabel(param_name)\n",
    "    plt.show()\n",
    "    return(train_mse, test_mse, oob_mse)"
   ]
  },
  {
   "cell_type": "code",
   "execution_count": 24,
   "metadata": {
    "collapsed": true
   },
   "outputs": [],
   "source": [
    "param_grid_gbm_2 = {\n",
    "    'max_depth': [3,  5,  7,  9, 11],                    \n",
    "    'min_samples_leaf': [1, 3, 5, 7, 9], \n",
    "    'max_features': ['auto', 'log2', None, 0.1, 0.3, 0.5, 1],\n",
    "    'subsample': [0.1, 0.5, 1]\n",
    "} \n",
    "    "
   ]
  },
  {
   "cell_type": "code",
   "execution_count": 25,
   "metadata": {},
   "outputs": [],
   "source": [
    "param_grid_gbm_1 = {\n",
    "    'n_estimators': [300], \n",
    "    'learning_rate': [0.1]\n",
    "}"
   ]
  },
  {
   "cell_type": "code",
   "execution_count": 26,
   "metadata": {},
   "outputs": [],
   "source": [
    "# gbm_2, gs_model = parameter_tuning(gbm, x, y, param_grid_gbm_1)"
   ]
  },
  {
   "cell_type": "code",
   "execution_count": 27,
   "metadata": {
    "collapsed": true
   },
   "outputs": [],
   "source": [
    "def parameter_tuning(model, X_train, y_train, param_grid):   \n",
    "    \"\"\"\n",
    "    Tune a tree based model using GridSearch, and return a model object with an updated parameters\n",
    "    \n",
    "    Parameters\n",
    "    ----------\n",
    "    model: sklearn's ensemble tree model\n",
    "        the model we want to do the hyperparameter tuning.\n",
    "    \n",
    "    X_train: pandas DataFrame\n",
    "        Preprocessed training data. Note that all the columns should be in numeric format.\n",
    "    \n",
    "    y_train: pandas Series\n",
    "    \n",
    "    param_grid: dict\n",
    "        contains all the parameters that we want to tune for the responding model.    \n",
    "        \n",
    "\n",
    "    Note\n",
    "    ----------\n",
    "    * we use kfold in GridSearchCV in order to make sure the CV Score is consistent with the score \n",
    "      that we get from all the other function, including fit_bagging, fit_randomforest and fit_gbm. \n",
    "    * We use model_selection.KFold with fixed seed in order to make sure GridSearchCV uses the same seed as model_selection.cross_val_score.\n",
    "    \n",
    "    \"\"\"\n",
    "    seed=SEED\n",
    "    \n",
    "#     if 'n_estimators' in param_grid:\n",
    "#         model.set_params(warm_start=True) \n",
    "    \n",
    "    kfold = model_selection.KFold(n_splits=10, random_state=seed)\n",
    "    gs_model = GridSearchCV(model, param_grid, cv=kfold, scoring='roc_auc')\n",
    "    gs_model.fit(X_train, y_train)\n",
    "    \n",
    "    # best hyperparameter setting\n",
    "    print('best parameters:{}'.format(gs_model.best_params_)) \n",
    "    print('best score:{}'.format(gs_model.best_score_)) \n",
    "    \n",
    "    # refit model on best parameters\n",
    "    model.set_params(**gs_model.best_params_)\n",
    "    model.fit(X_train, y_train)\n",
    "\n",
    "    return(model, gs_model)"
   ]
  }
 ],
 "metadata": {
  "kernelspec": {
   "display_name": "Python 3",
   "language": "python",
   "name": "python3"
  },
  "language_info": {
   "codemirror_mode": {
    "name": "ipython",
    "version": 3
   },
   "file_extension": ".py",
   "mimetype": "text/x-python",
   "name": "python",
   "nbconvert_exporter": "python",
   "pygments_lexer": "ipython3",
   "version": "3.6.3"
  }
 },
 "nbformat": 4,
 "nbformat_minor": 2
}
