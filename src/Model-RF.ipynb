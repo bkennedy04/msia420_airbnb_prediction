{
 "cells": [
  {
   "cell_type": "markdown",
   "metadata": {},
   "source": [
    "# Gradient Boosting Tree for Airbnb\n"
   ]
  },
  {
   "cell_type": "markdown",
   "metadata": {},
   "source": [
    "**Outline**\n",
    "\n",
    "* [Read Data](#read)\n",
    "* [Data Transformation](#transform)\n",
    "* [Model Building](#model) \n",
    "    * [Parameter Tuning](#tune)\n",
    "* [Feature Importance](#feature) \n",
    "* [Reference](#refer)"
   ]
  },
  {
   "cell_type": "code",
   "execution_count": 2,
   "metadata": {
    "collapsed": true
   },
   "outputs": [],
   "source": [
    "%matplotlib inline\n",
    "\n",
    "import os\n",
    "import pandas as pd\n",
    "import numpy as np\n",
    "import seaborn as sn\n",
    "import matplotlib.pyplot as plt\n",
    "import math\n",
    "from sklearn.linear_model import LogisticRegression \n",
    "from sklearn.ensemble import RandomForestClassifier, GradientBoostingClassifier\n",
    "from sklearn.model_selection import train_test_split, cross_val_score, GridSearchCV\n",
    "from sklearn import model_selection\n",
    "from sklearn.neural_network import MLPClassifier\n",
    "\n",
    "SEED = 12345"
   ]
  },
  {
   "cell_type": "markdown",
   "metadata": {},
   "source": [
    "## <a id=\"read\">Read Data</a>"
   ]
  },
  {
   "cell_type": "code",
   "execution_count": 3,
   "metadata": {
    "collapsed": true
   },
   "outputs": [],
   "source": [
    "def data_reader():\n",
    "    \"\"\"\n",
    "    read data into notebook \n",
    "    \"\"\"\n",
    "        \n",
    "    data_dir = os.path.join('..', 'data') #/Users/siliangchen/Airbnb\n",
    "\n",
    "    train_binary_path = os.path.join(data_dir, 'train_session_updated.csv')  \n",
    "    train_binary = pd.read_csv(train_binary_path) #, index_col = 0\n",
    "    if 'Unnamed: 0' in train_binary.columns:\n",
    "        del train_binary['Unnamed: 0']\n",
    "    drop_feature = ['user_id', 'total_secs_elapsed', 'date_account_created','timestamp_first_active','date_first_booking','country_destination']\n",
    "    train_binary.drop(drop_feature, axis=1, inplace=True)\n",
    "\n",
    "    return train_binary"
   ]
  },
  {
   "cell_type": "code",
   "execution_count": 4,
   "metadata": {
    "collapsed": true
   },
   "outputs": [],
   "source": [
    "train_binary = data_reader()"
   ]
  },
  {
   "cell_type": "code",
   "execution_count": 5,
   "metadata": {},
   "outputs": [
    {
     "data": {
      "text/plain": [
       "Index(['ajax_refresh_subtotal', 'dashboard', 'edit', 'header_userpic',\n",
       "       'personalize', 'similar_listings', 'total_actions', 'obs_count',\n",
       "       'unique_action', 'unique_device', 'avg_time', 'gender', 'age',\n",
       "       'signup_method', 'signup_flow', 'language', 'affiliate_channel',\n",
       "       'affiliate_provider', 'first_affiliate_tracked', 'signup_app',\n",
       "       'first_device_type', 'first_browser', 'isNDF'],\n",
       "      dtype='object')"
      ]
     },
     "execution_count": 5,
     "metadata": {},
     "output_type": "execute_result"
    }
   ],
   "source": [
    "train_binary.columns"
   ]
  },
  {
   "cell_type": "markdown",
   "metadata": {},
   "source": [
    "## <a id=\"transform\">Data Transformation</a>"
   ]
  },
  {
   "cell_type": "code",
   "execution_count": 6,
   "metadata": {
    "collapsed": true
   },
   "outputs": [],
   "source": [
    "categorical = ['gender', 'signup_method', 'signup_flow', 'language', 'affiliate_channel',\n",
    "                'affiliate_provider','first_affiliate_tracked','signup_app','first_device_type',\n",
    "               'first_browser']    "
   ]
  },
  {
   "cell_type": "code",
   "execution_count": 7,
   "metadata": {
    "collapsed": true
   },
   "outputs": [],
   "source": [
    "# Convert data type as 'category'\n",
    "for i in categorical:\n",
    "    train_binary[i] = train_binary[i].astype('category')"
   ]
  },
  {
   "cell_type": "code",
   "execution_count": 8,
   "metadata": {},
   "outputs": [
    {
     "data": {
      "text/html": [
       "<div>\n",
       "<style>\n",
       "    .dataframe thead tr:only-child th {\n",
       "        text-align: right;\n",
       "    }\n",
       "\n",
       "    .dataframe thead th {\n",
       "        text-align: left;\n",
       "    }\n",
       "\n",
       "    .dataframe tbody tr th {\n",
       "        vertical-align: top;\n",
       "    }\n",
       "</style>\n",
       "<table border=\"1\" class=\"dataframe\">\n",
       "  <thead>\n",
       "    <tr style=\"text-align: right;\">\n",
       "      <th></th>\n",
       "      <th>ajax_refresh_subtotal</th>\n",
       "      <th>dashboard</th>\n",
       "      <th>edit</th>\n",
       "      <th>header_userpic</th>\n",
       "      <th>personalize</th>\n",
       "      <th>similar_listings</th>\n",
       "      <th>total_actions</th>\n",
       "      <th>obs_count</th>\n",
       "      <th>unique_action</th>\n",
       "      <th>unique_device</th>\n",
       "      <th>...</th>\n",
       "      <th>first_browser_RockMelt</th>\n",
       "      <th>first_browser_Safari</th>\n",
       "      <th>first_browser_SeaMonkey</th>\n",
       "      <th>first_browser_Silk</th>\n",
       "      <th>first_browser_SiteKiosk</th>\n",
       "      <th>first_browser_Sogou Explorer</th>\n",
       "      <th>first_browser_TenFourFox</th>\n",
       "      <th>first_browser_TheWorld Browser</th>\n",
       "      <th>first_browser_Yandex.Browser</th>\n",
       "      <th>first_browser_wOSBrowser</th>\n",
       "    </tr>\n",
       "  </thead>\n",
       "  <tbody>\n",
       "    <tr>\n",
       "      <th>0</th>\n",
       "      <td>2</td>\n",
       "      <td>4</td>\n",
       "      <td>0</td>\n",
       "      <td>2</td>\n",
       "      <td>4</td>\n",
       "      <td>3</td>\n",
       "      <td>15</td>\n",
       "      <td>3.713572</td>\n",
       "      <td>13</td>\n",
       "      <td>2</td>\n",
       "      <td>...</td>\n",
       "      <td>0</td>\n",
       "      <td>1</td>\n",
       "      <td>0</td>\n",
       "      <td>0</td>\n",
       "      <td>0</td>\n",
       "      <td>0</td>\n",
       "      <td>0</td>\n",
       "      <td>0</td>\n",
       "      <td>0</td>\n",
       "      <td>0</td>\n",
       "    </tr>\n",
       "    <tr>\n",
       "      <th>1</th>\n",
       "      <td>0</td>\n",
       "      <td>2</td>\n",
       "      <td>0</td>\n",
       "      <td>2</td>\n",
       "      <td>0</td>\n",
       "      <td>0</td>\n",
       "      <td>4</td>\n",
       "      <td>6.672033</td>\n",
       "      <td>25</td>\n",
       "      <td>2</td>\n",
       "      <td>...</td>\n",
       "      <td>0</td>\n",
       "      <td>0</td>\n",
       "      <td>0</td>\n",
       "      <td>0</td>\n",
       "      <td>0</td>\n",
       "      <td>0</td>\n",
       "      <td>0</td>\n",
       "      <td>0</td>\n",
       "      <td>0</td>\n",
       "      <td>0</td>\n",
       "    </tr>\n",
       "    <tr>\n",
       "      <th>2</th>\n",
       "      <td>21</td>\n",
       "      <td>3</td>\n",
       "      <td>0</td>\n",
       "      <td>2</td>\n",
       "      <td>26</td>\n",
       "      <td>12</td>\n",
       "      <td>64</td>\n",
       "      <td>6.194405</td>\n",
       "      <td>20</td>\n",
       "      <td>1</td>\n",
       "      <td>...</td>\n",
       "      <td>0</td>\n",
       "      <td>1</td>\n",
       "      <td>0</td>\n",
       "      <td>0</td>\n",
       "      <td>0</td>\n",
       "      <td>0</td>\n",
       "      <td>0</td>\n",
       "      <td>0</td>\n",
       "      <td>0</td>\n",
       "      <td>0</td>\n",
       "    </tr>\n",
       "    <tr>\n",
       "      <th>3</th>\n",
       "      <td>12</td>\n",
       "      <td>2</td>\n",
       "      <td>18</td>\n",
       "      <td>2</td>\n",
       "      <td>12</td>\n",
       "      <td>17</td>\n",
       "      <td>63</td>\n",
       "      <td>5.181784</td>\n",
       "      <td>38</td>\n",
       "      <td>2</td>\n",
       "      <td>...</td>\n",
       "      <td>0</td>\n",
       "      <td>0</td>\n",
       "      <td>0</td>\n",
       "      <td>0</td>\n",
       "      <td>0</td>\n",
       "      <td>0</td>\n",
       "      <td>0</td>\n",
       "      <td>0</td>\n",
       "      <td>0</td>\n",
       "      <td>0</td>\n",
       "    </tr>\n",
       "    <tr>\n",
       "      <th>4</th>\n",
       "      <td>1</td>\n",
       "      <td>4</td>\n",
       "      <td>0</td>\n",
       "      <td>1</td>\n",
       "      <td>4</td>\n",
       "      <td>1</td>\n",
       "      <td>11</td>\n",
       "      <td>3.295837</td>\n",
       "      <td>11</td>\n",
       "      <td>2</td>\n",
       "      <td>...</td>\n",
       "      <td>0</td>\n",
       "      <td>0</td>\n",
       "      <td>0</td>\n",
       "      <td>0</td>\n",
       "      <td>0</td>\n",
       "      <td>0</td>\n",
       "      <td>0</td>\n",
       "      <td>0</td>\n",
       "      <td>0</td>\n",
       "      <td>0</td>\n",
       "    </tr>\n",
       "  </tbody>\n",
       "</table>\n",
       "<p>5 rows × 131 columns</p>\n",
       "</div>"
      ],
      "text/plain": [
       "   ajax_refresh_subtotal  dashboard  edit  header_userpic  personalize  \\\n",
       "0                      2          4     0               2            4   \n",
       "1                      0          2     0               2            0   \n",
       "2                     21          3     0               2           26   \n",
       "3                     12          2    18               2           12   \n",
       "4                      1          4     0               1            4   \n",
       "\n",
       "   similar_listings  total_actions  obs_count  unique_action  unique_device  \\\n",
       "0                 3             15   3.713572             13              2   \n",
       "1                 0              4   6.672033             25              2   \n",
       "2                12             64   6.194405             20              1   \n",
       "3                17             63   5.181784             38              2   \n",
       "4                 1             11   3.295837             11              2   \n",
       "\n",
       "             ...             first_browser_RockMelt  first_browser_Safari  \\\n",
       "0            ...                                  0                     1   \n",
       "1            ...                                  0                     0   \n",
       "2            ...                                  0                     1   \n",
       "3            ...                                  0                     0   \n",
       "4            ...                                  0                     0   \n",
       "\n",
       "   first_browser_SeaMonkey  first_browser_Silk  first_browser_SiteKiosk  \\\n",
       "0                        0                   0                        0   \n",
       "1                        0                   0                        0   \n",
       "2                        0                   0                        0   \n",
       "3                        0                   0                        0   \n",
       "4                        0                   0                        0   \n",
       "\n",
       "   first_browser_Sogou Explorer  first_browser_TenFourFox  \\\n",
       "0                             0                         0   \n",
       "1                             0                         0   \n",
       "2                             0                         0   \n",
       "3                             0                         0   \n",
       "4                             0                         0   \n",
       "\n",
       "   first_browser_TheWorld Browser  first_browser_Yandex.Browser  \\\n",
       "0                               0                             0   \n",
       "1                               0                             0   \n",
       "2                               0                             0   \n",
       "3                               0                             0   \n",
       "4                               0                             0   \n",
       "\n",
       "   first_browser_wOSBrowser  \n",
       "0                         0  \n",
       "1                         0  \n",
       "2                         0  \n",
       "3                         0  \n",
       "4                         0  \n",
       "\n",
       "[5 rows x 131 columns]"
      ]
     },
     "execution_count": 8,
     "metadata": {},
     "output_type": "execute_result"
    }
   ],
   "source": [
    "# Create dummy variables\n",
    "train_binary_dummy = pd.get_dummies(train_binary, columns = categorical)\n",
    "train_binary_dummy.head()"
   ]
  },
  {
   "cell_type": "code",
   "execution_count": 9,
   "metadata": {
    "collapsed": true
   },
   "outputs": [],
   "source": [
    "# Split data into response and predictors\n",
    "y = train_binary_dummy['isNDF']\n",
    "x = train_binary_dummy.drop('isNDF', axis=1)"
   ]
  },
  {
   "cell_type": "markdown",
   "metadata": {},
   "source": [
    "## <a id=\"model\">Model Building</a>"
   ]
  },
  {
   "cell_type": "code",
   "execution_count": 10,
   "metadata": {
    "collapsed": true
   },
   "outputs": [],
   "source": [
    "def fit_randomforest(X_train, y_train, param_setting={}, fold=5, seed=SEED):\n",
    "    \"\"\"Random Forest for Classification, get the CV AUC\"\"\"\n",
    "\n",
    "    # set seed and default parameter \n",
    "    params_default = {'random_state':seed}\n",
    "\n",
    "    # update the input parameters\n",
    "    params = dict(params_default)\n",
    "    params.update(param_setting)\n",
    "    \n",
    "    # create model object\n",
    "    model = RandomForestClassifier(**params)\n",
    "    \n",
    "    # do kfold cross validation and use auc as metrics\n",
    "    kfold = model_selection.KFold(n_splits=fold, random_state=seed)    \n",
    "    results = model_selection.cross_val_score(model, X_train, y_train, cv=kfold, scoring='roc_auc')\n",
    "    print(results.mean())\n",
    "    \n",
    "    model.fit(X_train, y_train)\n",
    "    \n",
    "    return(model)"
   ]
  },
  {
   "cell_type": "code",
   "execution_count": 50,
   "metadata": {},
   "outputs": [
    {
     "name": "stdout",
     "output_type": "stream",
     "text": [
      "0.774724422218\n"
     ]
    }
   ],
   "source": [
    "rf_base = fit_randomforest(x_train, y_train, fold=5, seed=SEED)\n",
    "rf_base"
   ]
  },
  {
   "cell_type": "markdown",
   "metadata": {},
   "source": [
    "### <a id=\"tune\">Parameter Tuning </a>"
   ]
  },
  {
   "cell_type": "markdown",
   "metadata": {},
   "source": [
    "**Steps**\n",
    "1. Pick a large enough ntree. Pick the number using the n_estimator vs OOB Error plot\n",
    "2. Generally, nodesize (i.e. min_samples_leaf) is more important than mtry (i.e. max_features). We can still try out different combincation of nodesize and mtry just to see which one performs the best in terms of OOB Error.\n",
    "\n",
    "**Key parameters**\n",
    "\n",
    "* **n_estimators**: The number of trees in the forest.\n",
    "* **min_samples_leaf**: int, float, optional (default=1). The minimum number of samples required to be at a leaf node\n",
    "    * If int, then consider min_samples_leaf as the minimum number.\n",
    "    * If float, then min_samples_leaf is a percentage and ceil(min_samples_leaf * n_samples) are the minimum number of samples for each node.\n",
    "* **max_features**: The number of features to consider when looking for the best split. \n",
    "    * If int, then consider max_features features at each split.\n",
    "    * If float, then max_features is a percentage and int(max_features * n_features) features are considered at each split.\n",
    "    * If “auto”, then max_features=sqrt(n_features).\n",
    "    * If “sqrt”, then max_features=sqrt(n_features) (same as “auto”).\n",
    "    * If “log2”, then max_features=log2(n_features).\n",
    "    * If None, then max_features=n_features.\n"
   ]
  },
  {
   "cell_type": "code",
   "execution_count": 21,
   "metadata": {},
   "outputs": [],
   "source": [
    "def plot_oob_error(x, y, param_setting={}):\n",
    "    \"\"\"Estimate best n_estimator using oob error for Random Forest\"\"\"      \n",
    "\n",
    "    # set seed and default parameter\n",
    "    oob_score = list()\n",
    "    params_default={\n",
    "        'oob_score':True, \n",
    "        'warm_start':True,\n",
    "        'n_estimators':20\n",
    "    }\n",
    "    \n",
    "    # update the model parameter according to function input\n",
    "    params = dict(params_default)\n",
    "    params.update(param_setting)\n",
    "    ntree = params['n_estimators']\n",
    "    \n",
    "    # generate a list of ntree to try on\n",
    "    options = np.arange(15, ntree)    \n",
    "    \n",
    "    for n in options:\n",
    "        # fit random forest using different n_estimator, i.e., the number of trees that we fit each time for bagging.\n",
    "        rf = RandomForestClassifier(**params)\n",
    "        rf.fit(x, y)\n",
    "        \n",
    "        # get oob estimates\n",
    "        oob_score.append(1-rf.oob_score_.mean())\n",
    "  \n",
    "    # get the optimum oob index\n",
    "    i_mse_optim = np.argmin(oob_score)\n",
    "    options_mse_optim = options[i_mse_optim]\n",
    "\n",
    "    # plot with y axis using MSE\n",
    "    plt.plot(options, oob_score, label = 'oob error')    \n",
    "    plt.vlines(options_mse_optim, plt.ylim()[0], np.min(oob_score), color='k',\n",
    "           linewidth=3, label='Optimum on oob error')    \n",
    "    plt.legend()\n",
    "    plt.ylabel('OOB Error Rate') # need to figure out what is OOB Error?\n",
    "    plt.xlabel('n_estimators')\n",
    "    plt.show()\n",
    "    return(oob_score)"
   ]
  },
  {
   "cell_type": "code",
   "execution_count": null,
   "metadata": {},
   "outputs": [],
   "source": [
    "param_setting = {\n",
    "    'n_estimators': 200  \n",
    "}\n",
    "\n",
    "oob_score = plot_oob_error(x, \n",
    "                           y,\n",
    "                           param_setting=param_setting)"
   ]
  },
  {
   "cell_type": "markdown",
   "metadata": {},
   "source": [
    "The plot shows that ntree = 200 is large enough since the error doesn't seem to decrease much\n",
    "after ntree is larger than xxx."
   ]
  },
  {
   "cell_type": "code",
   "execution_count": null,
   "metadata": {
    "collapsed": true
   },
   "outputs": [],
   "source": [
    "ntree = ???"
   ]
  },
  {
   "cell_type": "code",
   "execution_count": 63,
   "metadata": {
    "collapsed": true
   },
   "outputs": [],
   "source": [
    "def parameter_tuning(model, X_train, y_train, param_grid, fold=5):   \n",
    "    \"\"\"\n",
    "    Tune a tree based model using GridSearch, and return a model object with an updated parameters\n",
    "    \n",
    "    Parameters\n",
    "    ----------\n",
    "    model: sklearn's ensemble tree model\n",
    "        the model we want to do the hyperparameter tuning.\n",
    "    \n",
    "    X_train: pandas DataFrame\n",
    "        Preprocessed training data. Note that all the columns should be in numeric format.\n",
    "    \n",
    "    y_train: pandas Series\n",
    "    \n",
    "    param_grid: dict\n",
    "        contains all the parameters that we want to tune for the responding model.    \n",
    "        \n",
    "\n",
    "    Note\n",
    "    ----------\n",
    "    * we use kfold in GridSearchCV in order to make sure the CV Score is consistent with the score \n",
    "      that we get from all the other function, including fit_bagging, fit_randomforest and fit_gbm. \n",
    "    * We use model_selection.KFold with fixed seed in order to make sure GridSearchCV uses the same seed as model_selection.cross_val_score.\n",
    "    \n",
    "    \"\"\"\n",
    "    seed=SEED\n",
    "    \n",
    "#     if 'n_estimators' in param_grid:\n",
    "#         model.set_params(warm_start=True) \n",
    "    \n",
    "    kfold = model_selection.KFold(n_splits=fold, random_state=seed)\n",
    "    gs_model = GridSearchCV(model, param_grid, cv=kfold, scoring='roc_auc')\n",
    "    gs_model.fit(X_train, y_train)\n",
    "    \n",
    "    # best hyperparameter setting\n",
    "    print('best parameters:{}'.format(gs_model.best_params_)) \n",
    "    print('best score:{}'.format(gs_model.best_score_)) \n",
    "    \n",
    "    # refit model on best parameters\n",
    "    model.set_params(**gs_model.best_params_)\n",
    "    model.fit(X_train, y_train)\n",
    "\n",
    "    return(model)"
   ]
  },
  {
   "cell_type": "code",
   "execution_count": null,
   "metadata": {
    "collapsed": true
   },
   "outputs": [],
   "source": [
    "rf = RandomForestClassifier(n_estimators=ntree,random_state=SEED)"
   ]
  },
  {
   "cell_type": "code",
   "execution_count": null,
   "metadata": {
    "collapsed": true
   },
   "outputs": [],
   "source": [
    "param_grid_rf_1 = {\n",
    "    'min_samples_leaf': [1,3,5,10],                    \n",
    "    'max_features': ['auto', 'log2', 3, 15, 20],\n",
    "} "
   ]
  },
  {
   "cell_type": "code",
   "execution_count": null,
   "metadata": {
    "collapsed": true
   },
   "outputs": [],
   "source": [
    "rf_2 = parameter_tuning(rf, x, y, param_grid_rf_1)"
   ]
  },
  {
   "cell_type": "code",
   "execution_count": null,
   "metadata": {
    "collapsed": true
   },
   "outputs": [],
   "source": [
    "rf_2"
   ]
  },
  {
   "cell_type": "markdown",
   "metadata": {},
   "source": [
    "## <a id=\"model\">Feature Importance</a>"
   ]
  },
  {
   "cell_type": "code",
   "execution_count": null,
   "metadata": {
    "collapsed": true
   },
   "outputs": [],
   "source": [
    "def get_variance_imp_df(model):\n",
    "    \"\"\"get the variance importance dataframe for tree based models\"\"\"\n",
    "    \n",
    "    var_imp = pd.DataFrame(x.columns, model.feature_importances_).reset_index().rename(columns={'index': 'importance',0:'feature'}).sort_values(by=['importance'], ascending=False)\n",
    "    var_imp = var_imp[['feature','importance']].reset_index(drop=True)\n",
    "    \n",
    "    return(var_imp)"
   ]
  },
  {
   "cell_type": "code",
   "execution_count": null,
   "metadata": {
    "collapsed": true
   },
   "outputs": [],
   "source": [
    "rf_imp = get_variance_imp_df(rf_2)\n",
    "rf_imp.head(15)"
   ]
  },
  {
   "cell_type": "code",
   "execution_count": null,
   "metadata": {
    "collapsed": true
   },
   "outputs": [],
   "source": [
    "def viz_importance(var_imp, top):\n",
    "    y_pos = np.arange(1, top + 1)\n",
    "    plt.barh(y_pos, list(var_imp['importance'])[0:top][::-1], align = 'center')#, xerr = scores_std[0:top]\n",
    "    plt.yticks(y_pos, var_imp['feature'][0:top][::-1])\n",
    "    plt.xlabel('Importance')\n",
    "    plt.title('Feature Importance Plot')   "
   ]
  },
  {
   "cell_type": "code",
   "execution_count": null,
   "metadata": {
    "collapsed": true
   },
   "outputs": [],
   "source": [
    "viz_importance(rf_imp, top=15)"
   ]
  },
  {
   "cell_type": "code",
   "execution_count": null,
   "metadata": {
    "collapsed": true
   },
   "outputs": [],
   "source": []
  },
  {
   "cell_type": "markdown",
   "metadata": {},
   "source": [
    "#### Reference\n",
    "* [OOB Errors for Random Forests](http://scikit-learn.org/stable/auto_examples/ensemble/plot_ensemble_oob.html#sphx-glr-auto-examples-ensemble-plot-ensemble-oob-py)\n",
    "* [RandomForestClassifier](http://scikit-learn.org/stable/modules/generated/sklearn.ensemble.RandomForestClassifier.html)"
   ]
  }
 ],
 "metadata": {
  "kernelspec": {
   "display_name": "Python 3",
   "language": "python",
   "name": "python3"
  },
  "language_info": {
   "codemirror_mode": {
    "name": "ipython",
    "version": 3
   },
   "file_extension": ".py",
   "mimetype": "text/x-python",
   "name": "python",
   "nbconvert_exporter": "python",
   "pygments_lexer": "ipython3",
   "version": "3.6.3"
  }
 },
 "nbformat": 4,
 "nbformat_minor": 2
}
