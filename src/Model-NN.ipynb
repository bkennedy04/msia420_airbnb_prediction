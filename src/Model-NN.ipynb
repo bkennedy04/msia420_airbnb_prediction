{
 "cells": [
  {
   "cell_type": "markdown",
   "metadata": {},
   "source": [
    "# Neural Network for Airbnb "
   ]
  },
  {
   "cell_type": "markdown",
   "metadata": {},
   "source": [
    "**Outline**\n",
    "\n",
    "* [Read Data](#read)\n",
    "* [Data Transformation](#transform)\n",
    "* [Model Building](#model) \n",
    "    * [Parameter Tuning](#tune)\n",
    "* [Important Features](#feature) \n",
    "* [Reference](#refer)"
   ]
  },
  {
   "cell_type": "code",
   "execution_count": 28,
   "metadata": {},
   "outputs": [],
   "source": [
    "%matplotlib inline\n",
    "\n",
    "import os\n",
    "import pandas as pd\n",
    "import numpy as np\n",
    "import matplotlib.pyplot as plt\n",
    "import math\n",
    "\n",
    "from sklearn.linear_model import LogisticRegression \n",
    "from sklearn.ensemble import RandomForestClassifier, GradientBoostingClassifier\n",
    "from sklearn.model_selection import train_test_split, cross_val_score, GridSearchCV\n",
    "from sklearn import model_selection\n",
    "from sklearn.neural_network import MLPClassifier\n",
    "from sklearn.preprocessing import scale\n",
    "\n",
    "from sklearn.metrics import classification_report\n",
    "\n",
    "SEED = 12345"
   ]
  },
  {
   "cell_type": "markdown",
   "metadata": {},
   "source": [
    "---"
   ]
  },
  {
   "cell_type": "markdown",
   "metadata": {},
   "source": [
    "## <a id=\"read\">Read Data</a>"
   ]
  },
  {
   "cell_type": "code",
   "execution_count": 6,
   "metadata": {
    "collapsed": true
   },
   "outputs": [],
   "source": [
    "def data_reader():\n",
    "    \"\"\"\n",
    "    read data into notebook \n",
    "    \"\"\"\n",
    "        \n",
    "    data_dir = os.path.join('.') #, 'data'\n",
    "\n",
    "    train_binary_path = os.path.join(data_dir, 'train_session_updated.csv')  \n",
    "    train_binary = pd.read_csv(train_binary_path) #, index_col = 0\n",
    "    if 'Unnamed: 0' in train_binary.columns:\n",
    "        del train_binary['Unnamed: 0']\n",
    "    drop_feature = ['user_id', 'total_secs_elapsed', 'date_account_created','timestamp_first_active','date_first_booking','country_destination']\n",
    "    train_binary.drop(drop_feature, axis=1, inplace=True)\n",
    "\n",
    "    return train_binary #"
   ]
  },
  {
   "cell_type": "code",
   "execution_count": 7,
   "metadata": {},
   "outputs": [],
   "source": [
    "train_binary = data_reader()"
   ]
  },
  {
   "cell_type": "code",
   "execution_count": 8,
   "metadata": {},
   "outputs": [
    {
     "data": {
      "text/plain": [
       "Index(['ajax_refresh_subtotal', 'dashboard', 'edit', 'header_userpic',\n",
       "       'personalize', 'similar_listings', 'total_actions', 'obs_count',\n",
       "       'unique_action', 'unique_device', 'avg_time', 'gender', 'age',\n",
       "       'signup_method', 'signup_flow', 'language', 'affiliate_channel',\n",
       "       'affiliate_provider', 'first_affiliate_tracked', 'signup_app',\n",
       "       'first_device_type', 'first_browser', 'isNDF'],\n",
       "      dtype='object')"
      ]
     },
     "execution_count": 8,
     "metadata": {},
     "output_type": "execute_result"
    }
   ],
   "source": [
    "train_binary.columns"
   ]
  },
  {
   "cell_type": "markdown",
   "metadata": {},
   "source": [
    "## <a id=\"transform\">Data Transformation</a>"
   ]
  },
  {
   "cell_type": "code",
   "execution_count": 9,
   "metadata": {
    "collapsed": true
   },
   "outputs": [],
   "source": [
    "categorical = ['gender', 'signup_method', 'signup_flow', 'language', 'affiliate_channel',\n",
    "                'affiliate_provider','first_affiliate_tracked','signup_app','first_device_type',\n",
    "               'first_browser']    "
   ]
  },
  {
   "cell_type": "code",
   "execution_count": 16,
   "metadata": {
    "collapsed": true
   },
   "outputs": [],
   "source": [
    "# Convert data type as 'category'\n",
    "for i in categorical:\n",
    "    train_binary[i] = train_binary[i].astype('category')"
   ]
  },
  {
   "cell_type": "code",
   "execution_count": 17,
   "metadata": {},
   "outputs": [
    {
     "data": {
      "text/html": [
       "<div>\n",
       "<table border=\"1\" class=\"dataframe\">\n",
       "  <thead>\n",
       "    <tr style=\"text-align: right;\">\n",
       "      <th></th>\n",
       "      <th>ajax_refresh_subtotal</th>\n",
       "      <th>dashboard</th>\n",
       "      <th>edit</th>\n",
       "      <th>header_userpic</th>\n",
       "      <th>personalize</th>\n",
       "      <th>similar_listings</th>\n",
       "      <th>total_actions</th>\n",
       "      <th>obs_count</th>\n",
       "      <th>unique_action</th>\n",
       "      <th>unique_device</th>\n",
       "      <th>...</th>\n",
       "      <th>first_browser_RockMelt</th>\n",
       "      <th>first_browser_Safari</th>\n",
       "      <th>first_browser_SeaMonkey</th>\n",
       "      <th>first_browser_Silk</th>\n",
       "      <th>first_browser_SiteKiosk</th>\n",
       "      <th>first_browser_Sogou Explorer</th>\n",
       "      <th>first_browser_TenFourFox</th>\n",
       "      <th>first_browser_TheWorld Browser</th>\n",
       "      <th>first_browser_Yandex.Browser</th>\n",
       "      <th>first_browser_wOSBrowser</th>\n",
       "    </tr>\n",
       "  </thead>\n",
       "  <tbody>\n",
       "    <tr>\n",
       "      <th>0</th>\n",
       "      <td>2</td>\n",
       "      <td>4</td>\n",
       "      <td>0</td>\n",
       "      <td>2</td>\n",
       "      <td>4</td>\n",
       "      <td>3</td>\n",
       "      <td>15</td>\n",
       "      <td>3.713572</td>\n",
       "      <td>13</td>\n",
       "      <td>2</td>\n",
       "      <td>...</td>\n",
       "      <td>0</td>\n",
       "      <td>1</td>\n",
       "      <td>0</td>\n",
       "      <td>0</td>\n",
       "      <td>0</td>\n",
       "      <td>0</td>\n",
       "      <td>0</td>\n",
       "      <td>0</td>\n",
       "      <td>0</td>\n",
       "      <td>0</td>\n",
       "    </tr>\n",
       "    <tr>\n",
       "      <th>1</th>\n",
       "      <td>0</td>\n",
       "      <td>2</td>\n",
       "      <td>0</td>\n",
       "      <td>2</td>\n",
       "      <td>0</td>\n",
       "      <td>0</td>\n",
       "      <td>4</td>\n",
       "      <td>6.672033</td>\n",
       "      <td>25</td>\n",
       "      <td>2</td>\n",
       "      <td>...</td>\n",
       "      <td>0</td>\n",
       "      <td>0</td>\n",
       "      <td>0</td>\n",
       "      <td>0</td>\n",
       "      <td>0</td>\n",
       "      <td>0</td>\n",
       "      <td>0</td>\n",
       "      <td>0</td>\n",
       "      <td>0</td>\n",
       "      <td>0</td>\n",
       "    </tr>\n",
       "    <tr>\n",
       "      <th>2</th>\n",
       "      <td>21</td>\n",
       "      <td>3</td>\n",
       "      <td>0</td>\n",
       "      <td>2</td>\n",
       "      <td>26</td>\n",
       "      <td>12</td>\n",
       "      <td>64</td>\n",
       "      <td>6.194405</td>\n",
       "      <td>20</td>\n",
       "      <td>1</td>\n",
       "      <td>...</td>\n",
       "      <td>0</td>\n",
       "      <td>1</td>\n",
       "      <td>0</td>\n",
       "      <td>0</td>\n",
       "      <td>0</td>\n",
       "      <td>0</td>\n",
       "      <td>0</td>\n",
       "      <td>0</td>\n",
       "      <td>0</td>\n",
       "      <td>0</td>\n",
       "    </tr>\n",
       "    <tr>\n",
       "      <th>3</th>\n",
       "      <td>12</td>\n",
       "      <td>2</td>\n",
       "      <td>18</td>\n",
       "      <td>2</td>\n",
       "      <td>12</td>\n",
       "      <td>17</td>\n",
       "      <td>63</td>\n",
       "      <td>5.181784</td>\n",
       "      <td>38</td>\n",
       "      <td>2</td>\n",
       "      <td>...</td>\n",
       "      <td>0</td>\n",
       "      <td>0</td>\n",
       "      <td>0</td>\n",
       "      <td>0</td>\n",
       "      <td>0</td>\n",
       "      <td>0</td>\n",
       "      <td>0</td>\n",
       "      <td>0</td>\n",
       "      <td>0</td>\n",
       "      <td>0</td>\n",
       "    </tr>\n",
       "    <tr>\n",
       "      <th>4</th>\n",
       "      <td>1</td>\n",
       "      <td>4</td>\n",
       "      <td>0</td>\n",
       "      <td>1</td>\n",
       "      <td>4</td>\n",
       "      <td>1</td>\n",
       "      <td>11</td>\n",
       "      <td>3.295837</td>\n",
       "      <td>11</td>\n",
       "      <td>2</td>\n",
       "      <td>...</td>\n",
       "      <td>0</td>\n",
       "      <td>0</td>\n",
       "      <td>0</td>\n",
       "      <td>0</td>\n",
       "      <td>0</td>\n",
       "      <td>0</td>\n",
       "      <td>0</td>\n",
       "      <td>0</td>\n",
       "      <td>0</td>\n",
       "      <td>0</td>\n",
       "    </tr>\n",
       "  </tbody>\n",
       "</table>\n",
       "<p>5 rows × 131 columns</p>\n",
       "</div>"
      ],
      "text/plain": [
       "   ajax_refresh_subtotal  dashboard  edit  header_userpic  personalize  \\\n",
       "0                      2          4     0               2            4   \n",
       "1                      0          2     0               2            0   \n",
       "2                     21          3     0               2           26   \n",
       "3                     12          2    18               2           12   \n",
       "4                      1          4     0               1            4   \n",
       "\n",
       "   similar_listings  total_actions  obs_count  unique_action  unique_device  \\\n",
       "0                 3             15   3.713572             13              2   \n",
       "1                 0              4   6.672033             25              2   \n",
       "2                12             64   6.194405             20              1   \n",
       "3                17             63   5.181784             38              2   \n",
       "4                 1             11   3.295837             11              2   \n",
       "\n",
       "             ...             first_browser_RockMelt  first_browser_Safari  \\\n",
       "0            ...                                  0                     1   \n",
       "1            ...                                  0                     0   \n",
       "2            ...                                  0                     1   \n",
       "3            ...                                  0                     0   \n",
       "4            ...                                  0                     0   \n",
       "\n",
       "  first_browser_SeaMonkey  first_browser_Silk  first_browser_SiteKiosk  \\\n",
       "0                       0                   0                        0   \n",
       "1                       0                   0                        0   \n",
       "2                       0                   0                        0   \n",
       "3                       0                   0                        0   \n",
       "4                       0                   0                        0   \n",
       "\n",
       "   first_browser_Sogou Explorer  first_browser_TenFourFox  \\\n",
       "0                             0                         0   \n",
       "1                             0                         0   \n",
       "2                             0                         0   \n",
       "3                             0                         0   \n",
       "4                             0                         0   \n",
       "\n",
       "   first_browser_TheWorld Browser  first_browser_Yandex.Browser  \\\n",
       "0                               0                             0   \n",
       "1                               0                             0   \n",
       "2                               0                             0   \n",
       "3                               0                             0   \n",
       "4                               0                             0   \n",
       "\n",
       "   first_browser_wOSBrowser  \n",
       "0                         0  \n",
       "1                         0  \n",
       "2                         0  \n",
       "3                         0  \n",
       "4                         0  \n",
       "\n",
       "[5 rows x 131 columns]"
      ]
     },
     "execution_count": 17,
     "metadata": {},
     "output_type": "execute_result"
    }
   ],
   "source": [
    "# Create dummy variables\n",
    "train_binary_dummy = pd.get_dummies(train_binary, columns = categorical)\n",
    "train_binary_dummy.head()"
   ]
  },
  {
   "cell_type": "code",
   "execution_count": 18,
   "metadata": {
    "collapsed": true
   },
   "outputs": [],
   "source": [
    "# Split data into response and predictors\n",
    "y = train_binary_dummy['isNDF']\n",
    "x = train_binary_dummy.drop('isNDF', axis=1)"
   ]
  },
  {
   "cell_type": "code",
   "execution_count": 34,
   "metadata": {
    "collapsed": true
   },
   "outputs": [],
   "source": [
    "def my_scaler(x):\n",
    "    \"\"\"standardize the predictors\"\"\"\n",
    "    \n",
    "    new_x = pd.DataFrame(scale(x, axis=0, with_mean=True, with_std=True, copy=True))\n",
    "    new_x.columns = x.columns\n",
    "    \n",
    "    return new_x"
   ]
  },
  {
   "cell_type": "code",
   "execution_count": 37,
   "metadata": {},
   "outputs": [],
   "source": [
    "x = my_scaler(x)"
   ]
  },
  {
   "cell_type": "markdown",
   "metadata": {},
   "source": [
    "## <a id=\"model\">Model Building</a>"
   ]
  },
  {
   "cell_type": "code",
   "execution_count": 39,
   "metadata": {
    "collapsed": true
   },
   "outputs": [],
   "source": [
    "def fit_nn(x, y, param_setting={}, fold=5, seed=SEED):\n",
    "    \"\"\"Neural Network for Classification, get the CV AUC\"\"\"        \n",
    "    \n",
    "   # set seed and default parameter \n",
    "    params_default = {'random_state':seed,\n",
    "                     'activation': 'logistic',\n",
    "                     }\n",
    "\n",
    "    # update the input parameters\n",
    "    params = dict(params_default)\n",
    "    params.update(param_setting)\n",
    "    \n",
    "    seed= SEED        \n",
    "    kfold = model_selection.KFold(n_splits=fold, random_state=seed)\n",
    "    model = MLPClassifier(**params)    \n",
    "    \n",
    "    results = model_selection.cross_val_score(model, x, y, cv=kfold, scoring='roc_auc')\n",
    "    print(results.mean())\n",
    "    \n",
    "    model.fit(x, y)\n",
    "    \n",
    "    return model"
   ]
  },
  {
   "cell_type": "code",
   "execution_count": 44,
   "metadata": {},
   "outputs": [
    {
     "name": "stdout",
     "output_type": "stream",
     "text": [
      "0.7391501297209147\n"
     ]
    }
   ],
   "source": [
    "param_setting={'max_iter':2000, 'early_stopping':True, 'learning_rate_init':0.01}\n",
    "nn_base = fit_nn(x, y, fold=5, param_setting=param_setting, seed=SEED)"
   ]
  },
  {
   "cell_type": "code",
   "execution_count": 48,
   "metadata": {},
   "outputs": [
    {
     "data": {
      "text/plain": [
       "MLPClassifier(activation='logistic', alpha=0.0001, batch_size='auto',\n",
       "       beta_1=0.9, beta_2=0.999, early_stopping=True, epsilon=1e-08,\n",
       "       hidden_layer_sizes=(100,), learning_rate='constant',\n",
       "       learning_rate_init=0.01, max_iter=2000, momentum=0.9,\n",
       "       nesterovs_momentum=True, power_t=0.5, random_state=12345,\n",
       "       shuffle=True, solver='adam', tol=0.0001, validation_fraction=0.1,\n",
       "       verbose=False, warm_start=False)"
      ]
     },
     "execution_count": 48,
     "metadata": {},
     "output_type": "execute_result"
    }
   ],
   "source": [
    "nn_base"
   ]
  },
  {
   "cell_type": "markdown",
   "metadata": {},
   "source": [
    "### <a id=\"tune\">Parameter Tuning </a>"
   ]
  },
  {
   "cell_type": "markdown",
   "metadata": {},
   "source": [
    "**Steps**\n",
    "1. Use logistics activation function for 1 hidden layer neural network\n",
    "2. Tune the model using combination of node in the hidden layer and alpha and pick the best parameters.\n",
    "\n",
    "**Key parameters**\n",
    "\n",
    "* **hidden_layer_sizes**: The ith element represents the number of neurons in the ith hidden layer. length = n_layers - 2. Default is (100,), which means that there is only 1 hidden layer with 100 nodes, since len((100,))=1=3-2. 3 means that there are 3 layers including input and output layer. For architecture 56:25:11:7:5:3:1 with input 56 and 1 output hidden layers will be (25:11:7:5:3). So tuple hidden_layer_sizes = (25,11,7,5,3,)\n",
    "* **alpha**: L2 penalty (regularization term) parameter."
   ]
  },
  {
   "cell_type": "code",
   "execution_count": 49,
   "metadata": {
    "collapsed": true
   },
   "outputs": [],
   "source": [
    "def parameter_tuning(model, X_train, y_train, param_grid, fold=5):   \n",
    "    \"\"\"\n",
    "    Tune a tree based model using GridSearch, and return a model object with an updated parameters\n",
    "    \n",
    "    Parameters\n",
    "    ----------\n",
    "    model: sklearn's ensemble tree model\n",
    "        the model we want to do the hyperparameter tuning.\n",
    "    \n",
    "    X_train: pandas DataFrame\n",
    "        Preprocessed training data. Note that all the columns should be in numeric format.\n",
    "    \n",
    "    y_train: pandas Series\n",
    "    \n",
    "    param_grid: dict\n",
    "        contains all the parameters that we want to tune for the responding model.    \n",
    "        \n",
    "\n",
    "    Note\n",
    "    ----------\n",
    "    * we use kfold in GridSearchCV in order to make sure the CV Score is consistent with the score \n",
    "      that we get from all the other function, including fit_bagging, fit_randomforest and fit_gbm. \n",
    "    * We use model_selection.KFold with fixed seed in order to make sure GridSearchCV uses the same seed as model_selection.cross_val_score.\n",
    "    \n",
    "    \"\"\"\n",
    "    seed=SEED\n",
    "    \n",
    "#     if 'n_estimators' in param_grid:\n",
    "#         model.set_params(warm_start=True) \n",
    "    \n",
    "    kfold = model_selection.KFold(n_splits=fold, random_state=seed)\n",
    "    gs_model = GridSearchCV(model, param_grid, cv=kfold, scoring='roc_auc')\n",
    "    gs_model.fit(X_train, y_train)\n",
    "    \n",
    "    # best hyperparameter setting\n",
    "    print('best parameters:{}'.format(gs_model.best_params_)) \n",
    "    print('best score:{}'.format(gs_model.best_score_)) \n",
    "    \n",
    "    # refit model on best parameters\n",
    "    model.set_params(**gs_model.best_params_)\n",
    "    model.fit(X_train, y_train)\n",
    "\n",
    "    return(model)"
   ]
  },
  {
   "cell_type": "code",
   "execution_count": 50,
   "metadata": {
    "collapsed": true
   },
   "outputs": [],
   "source": [
    "params = {\n",
    "    'max_iter':2000, \n",
    "    'early_stopping':True, \n",
    "    'learning_rate_init':0.01,\n",
    "    'random_state':SEED\n",
    "}\n",
    "\n",
    "nn = MLPClassifier(**params)"
   ]
  },
  {
   "cell_type": "code",
   "execution_count": 51,
   "metadata": {
    "collapsed": true
   },
   "outputs": [],
   "source": [
    "param_grid_nn_1 = {\n",
    "    'hidden_layer_sizes': [(50,) ,(100,), (150,), (200,)],\n",
    "    'alpha': [0.001, 0.01, 0.1, 1, 10],\n",
    "}"
   ]
  },
  {
   "cell_type": "code",
   "execution_count": 52,
   "metadata": {},
   "outputs": [
    {
     "name": "stdout",
     "output_type": "stream",
     "text": [
      "best parameters:{'hidden_layer_sizes': (150,), 'alpha': 0.01}\n",
      "best score:0.7425422581662595\n"
     ]
    }
   ],
   "source": [
    "nn_2 = parameter_tuning(nn, x, y, param_grid_nn_1)"
   ]
  },
  {
   "cell_type": "markdown",
   "metadata": {},
   "source": [
    "## <a id=\"feature\">Important Feature</a>"
   ]
  },
  {
   "cell_type": "markdown",
   "metadata": {},
   "source": [
    "**[To do]** Partial Dependence Plots"
   ]
  },
  {
   "cell_type": "markdown",
   "metadata": {},
   "source": [
    "## <a id=\"refer\">Reference</a>"
   ]
  },
  {
   "cell_type": "markdown",
   "metadata": {},
   "source": [
    "* [sklearn MLPClassifier](http://scikit-learn.org/stable/modules/generated/sklearn.neural_network.MLPClassifier.html#sklearn.neural_network.MLPClassifier)\n",
    "* [sklearn scale](http://scikit-learn.org/stable/modules/generated/sklearn.preprocessing.scale.html)\n",
    "* [Stackoverflow: hidden_layer_sizes](https://stackoverflow.com/questions/35363530/python-scikit-learn-mlpclassifier-hidden-layer-sizes)\n",
    "* [partial dependence plots](http://scikit-learn.org/stable/auto_examples/ensemble/plot_partial_dependence.html)"
   ]
  }
 ],
 "metadata": {
  "anaconda-cloud": {},
  "kernelspec": {
   "display_name": "Python [default]",
   "language": "python",
   "name": "python3"
  },
  "language_info": {
   "codemirror_mode": {
    "name": "ipython",
    "version": 3
   },
   "file_extension": ".py",
   "mimetype": "text/x-python",
   "name": "python",
   "nbconvert_exporter": "python",
   "pygments_lexer": "ipython3",
   "version": "3.5.2"
  }
 },
 "nbformat": 4,
 "nbformat_minor": 2
}
