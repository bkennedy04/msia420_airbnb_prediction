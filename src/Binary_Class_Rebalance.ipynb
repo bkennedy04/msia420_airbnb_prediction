{
 "cells": [
  {
   "cell_type": "code",
   "execution_count": 37,
   "metadata": {},
   "outputs": [],
   "source": [
    "import os\n",
    "import pandas as pd\n",
    "import numpy as np\n",
    "import math\n",
    "from sklearn.utils import resample"
   ]
  },
  {
   "cell_type": "markdown",
   "metadata": {},
   "source": [
    "# Read in clean data"
   ]
  },
  {
   "cell_type": "code",
   "execution_count": 6,
   "metadata": {},
   "outputs": [],
   "source": [
    "def data_reader():\n",
    "    \"\"\"\n",
    "    read data into notebook \n",
    "    \"\"\"\n",
    "        \n",
    "    data_dir = os.path.join('../', 'data') \n",
    "\n",
    "    train_binary_path = os.path.join(data_dir, 'train_binary.csv')  \n",
    "    train_binary = pd.read_csv(train_binary_path, index_col = 0)\n",
    "\n",
    "    return train_binary"
   ]
  },
  {
   "cell_type": "code",
   "execution_count": 23,
   "metadata": {},
   "outputs": [
    {
     "data": {
      "text/html": [
       "<div>\n",
       "<style scoped>\n",
       "    .dataframe tbody tr th:only-of-type {\n",
       "        vertical-align: middle;\n",
       "    }\n",
       "\n",
       "    .dataframe tbody tr th {\n",
       "        vertical-align: top;\n",
       "    }\n",
       "\n",
       "    .dataframe thead th {\n",
       "        text-align: right;\n",
       "    }\n",
       "</style>\n",
       "<table border=\"1\" class=\"dataframe\">\n",
       "  <thead>\n",
       "    <tr style=\"text-align: right;\">\n",
       "      <th></th>\n",
       "      <th>user_id</th>\n",
       "      <th>obs_count</th>\n",
       "      <th>unique_action</th>\n",
       "      <th>total_secs_elapsed</th>\n",
       "      <th>unique_device</th>\n",
       "      <th>avg_time</th>\n",
       "      <th>date_account_created</th>\n",
       "      <th>timestamp_first_active</th>\n",
       "      <th>date_first_booking</th>\n",
       "      <th>gender</th>\n",
       "      <th>...</th>\n",
       "      <th>signup_flow</th>\n",
       "      <th>language</th>\n",
       "      <th>affiliate_channel</th>\n",
       "      <th>affiliate_provider</th>\n",
       "      <th>first_affiliate_tracked</th>\n",
       "      <th>signup_app</th>\n",
       "      <th>first_device_type</th>\n",
       "      <th>first_browser</th>\n",
       "      <th>country_destination</th>\n",
       "      <th>isNDF</th>\n",
       "    </tr>\n",
       "  </thead>\n",
       "  <tbody>\n",
       "    <tr>\n",
       "      <th>0</th>\n",
       "      <td>00023iyk9l</td>\n",
       "      <td>40</td>\n",
       "      <td>13</td>\n",
       "      <td>867896.0</td>\n",
       "      <td>2</td>\n",
       "      <td>21697.400000</td>\n",
       "      <td>2014-05-14</td>\n",
       "      <td>20140514195452</td>\n",
       "      <td>2014-05-14</td>\n",
       "      <td>-unknown-</td>\n",
       "      <td>...</td>\n",
       "      <td>0</td>\n",
       "      <td>en</td>\n",
       "      <td>direct</td>\n",
       "      <td>direct</td>\n",
       "      <td>omg</td>\n",
       "      <td>Web</td>\n",
       "      <td>Mac Desktop</td>\n",
       "      <td>Safari</td>\n",
       "      <td>US</td>\n",
       "      <td>False</td>\n",
       "    </tr>\n",
       "    <tr>\n",
       "      <th>1</th>\n",
       "      <td>001wyh0pz8</td>\n",
       "      <td>90</td>\n",
       "      <td>10</td>\n",
       "      <td>282965.0</td>\n",
       "      <td>1</td>\n",
       "      <td>3144.055556</td>\n",
       "      <td>2014-04-24</td>\n",
       "      <td>20140424171216</td>\n",
       "      <td>NaN</td>\n",
       "      <td>-unknown-</td>\n",
       "      <td>...</td>\n",
       "      <td>23</td>\n",
       "      <td>en</td>\n",
       "      <td>direct</td>\n",
       "      <td>direct</td>\n",
       "      <td>untracked</td>\n",
       "      <td>Android</td>\n",
       "      <td>Other/Unknown</td>\n",
       "      <td>-unknown-</td>\n",
       "      <td>NDF</td>\n",
       "      <td>True</td>\n",
       "    </tr>\n",
       "    <tr>\n",
       "      <th>2</th>\n",
       "      <td>0028jgx1x1</td>\n",
       "      <td>31</td>\n",
       "      <td>5</td>\n",
       "      <td>297010.0</td>\n",
       "      <td>2</td>\n",
       "      <td>9580.967742</td>\n",
       "      <td>2014-06-21</td>\n",
       "      <td>20140621110439</td>\n",
       "      <td>NaN</td>\n",
       "      <td>-unknown-</td>\n",
       "      <td>...</td>\n",
       "      <td>0</td>\n",
       "      <td>en</td>\n",
       "      <td>direct</td>\n",
       "      <td>direct</td>\n",
       "      <td>linked</td>\n",
       "      <td>Moweb</td>\n",
       "      <td>Android Phone</td>\n",
       "      <td>Android Browser</td>\n",
       "      <td>NDF</td>\n",
       "      <td>True</td>\n",
       "    </tr>\n",
       "    <tr>\n",
       "      <th>3</th>\n",
       "      <td>002qnbzfs5</td>\n",
       "      <td>789</td>\n",
       "      <td>25</td>\n",
       "      <td>6487080.0</td>\n",
       "      <td>2</td>\n",
       "      <td>8221.901141</td>\n",
       "      <td>2014-04-26</td>\n",
       "      <td>20140426210953</td>\n",
       "      <td>2014-04-26</td>\n",
       "      <td>FEMALE</td>\n",
       "      <td>...</td>\n",
       "      <td>25</td>\n",
       "      <td>en</td>\n",
       "      <td>direct</td>\n",
       "      <td>direct</td>\n",
       "      <td>linked</td>\n",
       "      <td>iOS</td>\n",
       "      <td>iPhone</td>\n",
       "      <td>Mobile Safari</td>\n",
       "      <td>US</td>\n",
       "      <td>False</td>\n",
       "    </tr>\n",
       "    <tr>\n",
       "      <th>4</th>\n",
       "      <td>0035hobuyj</td>\n",
       "      <td>489</td>\n",
       "      <td>20</td>\n",
       "      <td>5724670.0</td>\n",
       "      <td>1</td>\n",
       "      <td>11706.891616</td>\n",
       "      <td>2014-01-02</td>\n",
       "      <td>20140102222454</td>\n",
       "      <td>2014-01-04</td>\n",
       "      <td>FEMALE</td>\n",
       "      <td>...</td>\n",
       "      <td>0</td>\n",
       "      <td>en</td>\n",
       "      <td>sem-brand</td>\n",
       "      <td>google</td>\n",
       "      <td>omg</td>\n",
       "      <td>Web</td>\n",
       "      <td>Mac Desktop</td>\n",
       "      <td>Safari</td>\n",
       "      <td>US</td>\n",
       "      <td>False</td>\n",
       "    </tr>\n",
       "  </tbody>\n",
       "</table>\n",
       "<p>5 rows × 22 columns</p>\n",
       "</div>"
      ],
      "text/plain": [
       "      user_id  obs_count  unique_action  total_secs_elapsed  unique_device  \\\n",
       "0  00023iyk9l         40             13            867896.0              2   \n",
       "1  001wyh0pz8         90             10            282965.0              1   \n",
       "2  0028jgx1x1         31              5            297010.0              2   \n",
       "3  002qnbzfs5        789             25           6487080.0              2   \n",
       "4  0035hobuyj        489             20           5724670.0              1   \n",
       "\n",
       "       avg_time date_account_created  timestamp_first_active  \\\n",
       "0  21697.400000           2014-05-14          20140514195452   \n",
       "1   3144.055556           2014-04-24          20140424171216   \n",
       "2   9580.967742           2014-06-21          20140621110439   \n",
       "3   8221.901141           2014-04-26          20140426210953   \n",
       "4  11706.891616           2014-01-02          20140102222454   \n",
       "\n",
       "  date_first_booking     gender  ...    signup_flow language  \\\n",
       "0         2014-05-14  -unknown-  ...              0       en   \n",
       "1                NaN  -unknown-  ...             23       en   \n",
       "2                NaN  -unknown-  ...              0       en   \n",
       "3         2014-04-26     FEMALE  ...             25       en   \n",
       "4         2014-01-04     FEMALE  ...              0       en   \n",
       "\n",
       "   affiliate_channel affiliate_provider first_affiliate_tracked signup_app  \\\n",
       "0             direct             direct                     omg        Web   \n",
       "1             direct             direct               untracked    Android   \n",
       "2             direct             direct                  linked      Moweb   \n",
       "3             direct             direct                  linked        iOS   \n",
       "4          sem-brand             google                     omg        Web   \n",
       "\n",
       "  first_device_type    first_browser country_destination  isNDF  \n",
       "0       Mac Desktop           Safari                  US  False  \n",
       "1     Other/Unknown        -unknown-                 NDF   True  \n",
       "2     Android Phone  Android Browser                 NDF   True  \n",
       "3            iPhone    Mobile Safari                  US  False  \n",
       "4       Mac Desktop           Safari                  US  False  \n",
       "\n",
       "[5 rows x 22 columns]"
      ]
     },
     "execution_count": 23,
     "metadata": {},
     "output_type": "execute_result"
    }
   ],
   "source": [
    "train_binary = data_reader()\n",
    "train_binary.head()"
   ]
  },
  {
   "cell_type": "markdown",
   "metadata": {},
   "source": [
    "# Examine Class Imbalance"
   ]
  },
  {
   "cell_type": "code",
   "execution_count": 26,
   "metadata": {},
   "outputs": [
    {
     "data": {
      "text/plain": [
       "NDF      45041\n",
       "US       20095\n",
       "other     3655\n",
       "FR        1435\n",
       "IT         979\n",
       "GB         731\n",
       "ES         707\n",
       "CA         440\n",
       "DE         250\n",
       "NL         247\n",
       "AU         152\n",
       "PT          83\n",
       "Name: country_destination, dtype: int64"
      ]
     },
     "execution_count": 26,
     "metadata": {},
     "output_type": "execute_result"
    }
   ],
   "source": [
    "# we can see that the classes are very imbalanced\n",
    "country_counts = train_binary['country_destination'].value_counts()\n",
    "country_counts"
   ]
  },
  {
   "cell_type": "code",
   "execution_count": 35,
   "metadata": {
    "scrolled": true
   },
   "outputs": [
    {
     "name": "stdout",
     "output_type": "stream",
     "text": [
      "There are 28774 non NDF observations.\n",
      "Which is 38.98 % of observations.\n",
      "We could get ~60% accuracy without a model, by predicting all NDF.\n"
     ]
    }
   ],
   "source": [
    "# count of Non NDF\n",
    "nonNDF_count = sum(country_counts[1:])\n",
    "print(\"There are\", nonNDF_count, \"non NDF observations.\")\n",
    "print(\"Which is\", round((nonNDF_count * 100)/train_binary.shape[0],2), \"% of observations.\")\n",
    "print(\"We could get ~60% accuracy without a model, by predicting all NDF.\")"
   ]
  },
  {
   "cell_type": "markdown",
   "metadata": {},
   "source": [
    "# Upsample Non NDF Observations for Binary Classification Use"
   ]
  },
  {
   "cell_type": "code",
   "execution_count": 40,
   "metadata": {},
   "outputs": [
    {
     "data": {
      "text/plain": [
       "True     45041\n",
       "False    45041\n",
       "Name: isNDF, dtype: int64"
      ]
     },
     "execution_count": 40,
     "metadata": {},
     "output_type": "execute_result"
    }
   ],
   "source": [
    "# Separate majority and minority classes\n",
    "df_ndf = train_binary[train_binary.isNDF==True]\n",
    "df_non_ndf = train_binary[train_binary.isNDF==False]\n",
    " \n",
    "# Upsample minority class\n",
    "df_non_ndf_upsampled = resample(df_non_ndf, \n",
    "                                 replace=True,     # sample with replacement\n",
    "                                 n_samples=country_counts[0],    # to match majority class\n",
    "                                 random_state=123) # reproducible results\n",
    " \n",
    "# Combine majority class with upsampled minority class\n",
    "df_upsampled = pd.concat([df_ndf, df_non_ndf_upsampled])\n",
    " \n",
    "# Display new class counts\n",
    "df_upsampled.isNDF.value_counts()"
   ]
  },
  {
   "cell_type": "code",
   "execution_count": 54,
   "metadata": {},
   "outputs": [
    {
     "name": "stdout",
     "output_type": "stream",
     "text": [
      "New class balance:\n",
      " NDF      45041\n",
      "US       31391\n",
      "other     5721\n",
      "FR        2284\n",
      "IT        1526\n",
      "GB        1176\n",
      "ES        1067\n",
      "CA         715\n",
      "NL         390\n",
      "DE         378\n",
      "AU         243\n",
      "PT         150\n",
      "Name: country_destination, dtype: int64\n",
      "\n",
      "Old class balance:\n",
      " NDF      45041\n",
      "US       20095\n",
      "other     3655\n",
      "FR        1435\n",
      "IT         979\n",
      "GB         731\n",
      "ES         707\n",
      "CA         440\n",
      "DE         250\n",
      "NL         247\n",
      "AU         152\n",
      "PT          83\n",
      "Name: country_destination, dtype: int64\n",
      "\n",
      "We can now only get 50% accuracy by predicting all NDF.\n"
     ]
    }
   ],
   "source": [
    "# New class balances compared to previous\n",
    "new_country_counts = df_upsampled.country_destination.value_counts()\n",
    "print(\"New class balance:\\n\",new_country_counts)\n",
    "print(\"\\nOld class balance:\\n\", country_counts)\n",
    "print(\"\\nWe can now only get 50% accuracy by predicting all NDF.\")"
   ]
  },
  {
   "cell_type": "code",
   "execution_count": 56,
   "metadata": {},
   "outputs": [],
   "source": [
    "df_upsampled.to_csv('../data/upsampled_train_binary.csv') \n",
    "#we can use this file as final training data"
   ]
  }
 ],
 "metadata": {
  "kernelspec": {
   "display_name": "Python 3",
   "language": "python",
   "name": "python3"
  },
  "language_info": {
   "codemirror_mode": {
    "name": "ipython",
    "version": 3
   },
   "file_extension": ".py",
   "mimetype": "text/x-python",
   "name": "python",
   "nbconvert_exporter": "python",
   "pygments_lexer": "ipython3",
   "version": "3.6.4"
  }
 },
 "nbformat": 4,
 "nbformat_minor": 2
}
